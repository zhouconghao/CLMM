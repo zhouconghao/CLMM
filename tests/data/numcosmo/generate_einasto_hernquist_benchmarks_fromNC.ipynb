{
 "cells": [
  {
   "cell_type": "markdown",
   "metadata": {
    "tags": []
   },
   "source": [
    "# Einasto and Hernquist Benchmarks \n",
    "\n",
    "This notebook generates benchmarks for Einasto and Hernquist density profiles (and lensing quantities) from NumCosmo."
   ]
  },
  {
   "cell_type": "code",
   "execution_count": null,
   "metadata": {},
   "outputs": [],
   "source": [
    "import numpy as np\n",
    "import math"
   ]
  },
  {
   "cell_type": "code",
   "execution_count": null,
   "metadata": {},
   "outputs": [],
   "source": [
    "# For NumCosmo\n",
    "import gi\n",
    "\n",
    "gi.require_version(\"NumCosmo\", \"1.0\")\n",
    "gi.require_version(\"NumCosmoMath\", \"1.0\")\n",
    "from gi.repository import NumCosmo as Nc\n",
    "from gi.repository import NumCosmoMath as Ncm"
   ]
  },
  {
   "cell_type": "code",
   "execution_count": null,
   "metadata": {},
   "outputs": [],
   "source": [
    "import sys\n",
    "import os\n",
    "\n",
    "os.environ[\"CLMM_MODELING_BACKEND\"] = \"ccl\"\n",
    "\n",
    "from clmm import theory as pp"
   ]
  },
  {
   "cell_type": "markdown",
   "metadata": {},
   "source": [
    "## Configuration"
   ]
  },
  {
   "cell_type": "markdown",
   "metadata": {},
   "source": [
    "### Cosmology"
   ]
  },
  {
   "cell_type": "code",
   "execution_count": null,
   "metadata": {},
   "outputs": [],
   "source": [
    "# If CCL is installed, define a CCL cosmology object\n",
    "import pyccl as ccl\n",
    "\n",
    "# cosmo_ccl = ccl.Cosmology(Omega_c=0.27, Omega_b=0.045, h=0.67, A_s=2.1e-9, n_s=0.96)\n",
    "\n",
    "# If CCL is not installed, use astropy instead with the following lines\n",
    "# from astropy.cosmology import FlatLambdaCDM\n",
    "# astropy_cosmology_object = FlatLambdaCDM(H0=67.66, Odm0=0.262, Ob0=0.049)\n",
    "# cosmo_ccl = pp.cclify_astropy_cosmo(astropy_cosmology_object)\n",
    "\n",
    "cosmo_ccl = pp.Cosmology(H0=67.66, Omega_dm0=0.262, Omega_b0=0.049)\n",
    "\n",
    "cosmo_ccl.be_cosmo\n",
    "\n",
    "print(cosmo_ccl[\"Omega_m0\"], 0.262 + 0.049)"
   ]
  },
  {
   "cell_type": "markdown",
   "metadata": {},
   "source": [
    "### Cluster/source config"
   ]
  },
  {
   "cell_type": "code",
   "execution_count": null,
   "metadata": {},
   "outputs": [],
   "source": [
    "# Select density profile and profile parametrization options\n",
    "density_profile_parametrization = \"einasto\"\n",
    "mass_Delta = 200  # Mass defintion: mean matter density\n",
    "cluster_mass = 1.0e15  # Msun\n",
    "cluster_concentration = 4.0\n",
    "z_max = 3.0\n",
    "z_cluster = 1.0\n",
    "z_source = 2.0"
   ]
  },
  {
   "cell_type": "code",
   "execution_count": null,
   "metadata": {},
   "outputs": [],
   "source": [
    "mdef = ccl.halos.MassDef(mass_Delta, 'matter')\n",
    "conc = ccl.halos.ConcentrationConstant(c=cluster_concentration, mass_def=mdef)\n",
    "ccl_ein = ccl.halos.HaloProfileEinasto(\n",
    "    mass_def=mdef,\n",
    "    concentration=conc\n",
    ")\n",
    "alpha_einasto = ccl_ein._get_alpha(\n",
    "    cosmo_ccl.be_cosmo,\n",
    "    cluster_mass,\n",
    "    1 / (1 + z_cluster)\n",
    ")\n",
    "print(alpha_einasto)"
   ]
  },
  {
   "cell_type": "markdown",
   "metadata": {},
   "source": [
    "### Vectors for inputs"
   ]
  },
  {
   "cell_type": "code",
   "execution_count": null,
   "metadata": {},
   "outputs": [],
   "source": [
    "z_a = np.linspace(0.01, 10.0, 1000)\n",
    "a_a = 1.0 / (1.0 + z_a)\n",
    "# r3d = np.logspace (-2, 2, 100)\n",
    "r3d = np.geomspace(1.0e-2, 10, 100)"
   ]
  },
  {
   "cell_type": "markdown",
   "metadata": {},
   "source": [
    "### NumCosmo\n",
    "Pass configs to `NumCosmo`"
   ]
  },
  {
   "cell_type": "code",
   "execution_count": null,
   "metadata": {},
   "outputs": [],
   "source": [
    "#########################\n",
    "# Initializing NumCosmo #\n",
    "#########################\n",
    "Ncm.cfg_init()\n",
    "\n",
    "##################\n",
    "# Set Cosmology ##\n",
    "##################\n",
    "cosmo = Nc.HICosmo.new_from_name(Nc.HICosmo, \"NcHICosmoDEXcdm{'massnu-length':<1>}\")\n",
    "cosmo.omega_x2omega_k()\n",
    "\n",
    "cosmo.props.w = -1.0\n",
    "cosmo.props.H0 = cosmo_ccl[\"H0\"]\n",
    "\n",
    "cosmo.param_set_by_name(\"H0\", cosmo_ccl[\"H0\"])\n",
    "cosmo.param_set_by_name(\"Omegab\", cosmo_ccl[\"Omega_b0\"])\n",
    "cosmo.param_set_by_name(\"Omegac\", cosmo_ccl[\"Omega_dm0\"])\n",
    "cosmo.param_set_by_name(\"w\", -1.0)\n",
    "cosmo.param_set_by_name(\"Omegak\", 0.0)\n",
    "cosmo.param_set_by_name(\"Tgamma0\", 2.7255)\n",
    "cosmo.param_set_by_name(\"massnu_0\", 0.06)\n",
    "# cosmo_nc.param_set_by_name (\"Tnu_0\",    (4.0/11.0)**(1.0/3.0))\n",
    "# cosmo_nc.param_set_by_name (\"gnu_0\",    1.0153080198436308)\n",
    "cosmo.param_set_by_name(\n",
    "    \"ENnu\",\n",
    "    3.046\n",
    "    - 3.0\n",
    "    * cosmo.E2Press_mnu(1.0e10)\n",
    "    / (cosmo.E2Omega_g(1.0e10) * (7.0 / 8.0 * (4.0 / 11.0) ** (4.0 / 3.0))),\n",
    ")\n",
    "\n",
    "# import pyccl as ccl\n",
    "\n",
    "# z = 10.0\n",
    "# A = ccl.background.omega_x (cosmo_ccl.be_cosmo, 1.0 / (1.0 + z), 'matter')\n",
    "# B = cosmo.E2Omega_m(z)/cosmo.E2(z)\n",
    "\n",
    "# print (A/B - 1.0)\n",
    "# print (cosmo.Omega_m0()/cosmo_ccl['Omega_m0'] - 1.0)"
   ]
  },
  {
   "cell_type": "code",
   "execution_count": null,
   "metadata": {},
   "outputs": [],
   "source": [
    "# alpha_einasto = 0.3675918420028502 # CCL value (alpha(nu)) given the current cosmological model, cluster mass and redshift"
   ]
  },
  {
   "cell_type": "code",
   "execution_count": null,
   "metadata": {},
   "outputs": [],
   "source": [
    "##########################\n",
    "# Config Cluster/Source ##\n",
    "##########################\n",
    "\n",
    "# NumCosmo Density profile\n",
    "\n",
    "reltol = 1.0e-9\n",
    "lnXi = math.log(1.0e-4)\n",
    "lnXf = math.log(1.0e4)\n",
    "improve_prec = False\n",
    "log10Mmean = math.log10(cluster_mass)\n",
    "\n",
    "nc_ein = Nc.HaloDensityProfileEinasto.new(Nc.HaloDensityProfileMassDef.MEAN, mass_Delta)\n",
    "nc_ein.param_set_by_name(\"cDelta\", cluster_concentration)\n",
    "nc_ein.param_set_by_name(\"log10MDelta\", log10Mmean)\n",
    "nc_ein.param_set_by_name(\"alpha\", alpha_einasto)\n",
    "\n",
    "\n",
    "if improve_prec:\n",
    "    nc_ein.set_reltol(reltol)\n",
    "    nc_ein.set_lnXi(lnXi)\n",
    "    nc_ein.set_lnXf(lnXf)\n",
    "\n",
    "nc_her = Nc.HaloDensityProfileHernquist.new(Nc.HaloDensityProfileMassDef.MEAN, mass_Delta)\n",
    "nc_her.param_set_by_name(\"cDelta\", cluster_concentration)\n",
    "nc_her.param_set_by_name(\"log10MDelta\", log10Mmean)\n",
    "\n",
    "if improve_prec:\n",
    "    nc_her.set_reltol(reltol)\n",
    "    nc_her.set_lnXi(lnXi)\n",
    "    nc_her.set_lnXf(lnXf)\n",
    "\n",
    "\n",
    "dist = Nc.Distance.new(z_max)\n",
    "smd = Nc.WLSurfaceMassDensity.new(dist)\n",
    "\n",
    "smd.prepare(cosmo)"
   ]
  },
  {
   "cell_type": "markdown",
   "metadata": {},
   "source": [
    "## Comparisons"
   ]
  },
  {
   "cell_type": "markdown",
   "metadata": {},
   "source": [
    "### Function to make automatic comparisons"
   ]
  },
  {
   "cell_type": "code",
   "execution_count": null,
   "metadata": {},
   "outputs": [],
   "source": [
    "import pylab as plt\n",
    "\n",
    "\n",
    "def compare(x, y_clmm, y_nc, x_name=\"x\", y_name=\"func\", subplots_pars={\"figsize\": (6, 4)}):\n",
    "    clmm_name, nc_name = \"%s_{clmm}\" % y_name, \"%s_{nc}\" % y_name\n",
    "    diff = np.abs(y_clmm / y_nc - 1.0)\n",
    "    print(\"rel diff min: %g\\nrel diff max: %g\" % (min(abs(diff)), max(abs(diff))))\n",
    "    fig, axs = plt.subplots(2, sharex=True, **subplots_pars)\n",
    "    fig.subplots_adjust(hspace=0)\n",
    "\n",
    "    axs[0].plot(x, y_clmm, label=\"clmm\", lw=3)\n",
    "    axs[0].plot(x, y_nc, label=\"nc\")\n",
    "    axs[1].plot(x, diff, c=\"r\")\n",
    "    axs[1].axhline(0, ls=\":\", c=\"0\", lw=0.5)\n",
    "\n",
    "    axs[0].legend()\n",
    "    axs[0].set_ylabel(\"$%s$\" % y_name)\n",
    "    axs[1].set_xlabel(\"$%s$\" % x_name)\n",
    "    axs[1].set_ylabel(\"$%s/%s-1$\" % (clmm_name, nc_name))\n",
    "\n",
    "    return fig, axs"
   ]
  },
  {
   "cell_type": "markdown",
   "metadata": {},
   "source": [
    "### Quick test of all theory function"
   ]
  },
  {
   "cell_type": "code",
   "execution_count": null,
   "metadata": {},
   "outputs": [],
   "source": [
    "Da_a = cosmo_ccl.eval_da_a1a2(a_a)\n",
    "nc_Da_a = np.array([dist.angular_diameter(cosmo, z) * cosmo.RH_Mpc() for z in z_a])\n",
    "\n",
    "fig, axs = compare(z_a, Da_a, nc_Da_a, x_name=\"redshift\", y_name=\"D_a(z)\")\n",
    "axs[0].set_yscale(\"log\")"
   ]
  },
  {
   "cell_type": "code",
   "execution_count": null,
   "metadata": {},
   "outputs": [],
   "source": [
    "# rho_ein    = pp.compute_3d_density (r3d, mdelta = cluster_mass, cdelta = cluster_concentration,\n",
    "#                                     z_cl = z_cluster, cosmo = cosmo_ccl, delta_mdef = mass_Delta,\n",
    "#                                     halo_profile_model='einasto', alpha=alpha_einasto, verbose=True)\n",
    "rho_ein = pp.compute_3d_density(\n",
    "    r3d,\n",
    "    mdelta=cluster_mass,\n",
    "    cdelta=cluster_concentration,\n",
    "    z_cl=z_cluster,\n",
    "    cosmo=cosmo_ccl,\n",
    "    delta_mdef=mass_Delta,\n",
    "    halo_profile_model=\"einasto\",\n",
    "    verbose=True,\n",
    ")\n",
    "\n",
    "\n",
    "nc_rho_ein = np.array([nc_ein.eval_density(cosmo, r3d_i, z_cluster) for r3d_i in r3d])\n",
    "\n",
    "fig, axs = compare(r3d, rho_ein, nc_rho_ein, x_name=\"radius [Mpc]\", y_name=\"\\\\rho\")\n",
    "axs[0].set_xscale(\"log\")\n",
    "axs[0].set_yscale(\"log\")"
   ]
  },
  {
   "cell_type": "code",
   "execution_count": null,
   "metadata": {},
   "outputs": [],
   "source": [
    "# sigma_ein    = pp.compute_surface_density (r3d, mdelta = cluster_mass, cdelta = cluster_concentration,\n",
    "#                                     z_cl = z_cluster, cosmo = cosmo_ccl, delta_mdef = mass_Delta,\n",
    "#                                     halo_profile_model='einasto', alpha=alpha_einasto, verbose=True)\n",
    "sigma_ein = pp.compute_surface_density(\n",
    "    r3d,\n",
    "    mdelta=cluster_mass,\n",
    "    cdelta=cluster_concentration,\n",
    "    z_cl=z_cluster,\n",
    "    cosmo=cosmo_ccl,\n",
    "    delta_mdef=mass_Delta,\n",
    "    halo_profile_model=\"einasto\",\n",
    "    verbose=True,\n",
    ")\n",
    "nc_sigma_ein = smd.sigma_array(nc_ein, cosmo, r3d, 1.0, 1.0, z_cluster)\n",
    "\n",
    "fig, axs = compare(r3d, sigma_ein, nc_sigma_ein, x_name=\"radius [Mpc]\", y_name=\"\\\\Sigma\")\n",
    "axs[0].set_xscale(\"log\")\n",
    "axs[0].set_yscale(\"log\")"
   ]
  },
  {
   "cell_type": "code",
   "execution_count": null,
   "metadata": {},
   "outputs": [],
   "source": [
    "# deltasigma_ein    = pp.compute_excess_surface_density (r3d, mdelta = cluster_mass, cdelta = cluster_concentration,\n",
    "#                                     z_cl = z_cluster, cosmo = cosmo_ccl, delta_mdef = mass_Delta,\n",
    "#                                     halo_profile_model='einasto', alpha=alpha_einasto, verbose=True)\n",
    "deltasigma_ein = pp.compute_excess_surface_density(\n",
    "    r3d,\n",
    "    mdelta=cluster_mass,\n",
    "    cdelta=cluster_concentration,\n",
    "    z_cl=z_cluster,\n",
    "    cosmo=cosmo_ccl,\n",
    "    delta_mdef=mass_Delta,\n",
    "    halo_profile_model=\"einasto\",\n",
    "    verbose=True,\n",
    ")\n",
    "\n",
    "nc_deltasigma_ein = smd.sigma_excess_array(nc_ein, cosmo, r3d, 1.0, 1.0, z_cluster)\n",
    "\n",
    "fig, axs = compare(\n",
    "    r3d, deltasigma_ein, nc_deltasigma_ein, x_name=\"radius [Mpc]\", y_name=\"\\\\Delta\\\\Sigma\"\n",
    ")\n",
    "axs[0].set_xscale(\"log\")\n",
    "axs[0].set_yscale(\"log\")"
   ]
  },
  {
   "cell_type": "code",
   "execution_count": null,
   "metadata": {},
   "outputs": [],
   "source": [
    "rho_her = pp.compute_3d_density(\n",
    "    r3d,\n",
    "    mdelta=cluster_mass,\n",
    "    cdelta=cluster_concentration,\n",
    "    z_cl=z_cluster,\n",
    "    cosmo=cosmo_ccl,\n",
    "    delta_mdef=mass_Delta,\n",
    "    halo_profile_model=\"hernquist\",\n",
    "    verbose=True,\n",
    ")\n",
    "\n",
    "nc_rho_her = np.array([nc_her.eval_density(cosmo, r3d_i, z_cluster) for r3d_i in r3d])\n",
    "\n",
    "fig, axs = compare(r3d, rho_her, nc_rho_her, x_name=\"radius [Mpc]\", y_name=\"\\\\rho\")\n",
    "axs[0].set_xscale(\"log\")\n",
    "axs[0].set_yscale(\"log\")"
   ]
  },
  {
   "cell_type": "code",
   "execution_count": null,
   "metadata": {},
   "outputs": [],
   "source": [
    "sigma_her = pp.compute_surface_density(\n",
    "    r3d,\n",
    "    mdelta=cluster_mass,\n",
    "    cdelta=cluster_concentration,\n",
    "    z_cl=z_cluster,\n",
    "    cosmo=cosmo_ccl,\n",
    "    delta_mdef=mass_Delta,\n",
    "    halo_profile_model=\"hernquist\",\n",
    "    verbose=True,\n",
    ")\n",
    "nc_sigma_her = smd.sigma_array(nc_her, cosmo, r3d, 1.0, 1.0, z_cluster)\n",
    "\n",
    "fig, axs = compare(r3d, sigma_her, nc_sigma_her, x_name=\"radius [Mpc]\", y_name=\"\\\\Sigma\")\n",
    "axs[0].set_xscale(\"log\")\n",
    "axs[0].set_yscale(\"log\")"
   ]
  },
  {
   "cell_type": "code",
   "execution_count": null,
   "metadata": {},
   "outputs": [],
   "source": [
    "deltasigma_her = pp.compute_excess_surface_density(\n",
    "    r3d,\n",
    "    mdelta=cluster_mass,\n",
    "    cdelta=cluster_concentration,\n",
    "    z_cl=z_cluster,\n",
    "    cosmo=cosmo_ccl,\n",
    "    delta_mdef=mass_Delta,\n",
    "    halo_profile_model=\"hernquist\",\n",
    "    verbose=True,\n",
    ")\n",
    "nc_deltasigma_her = smd.sigma_excess_array(nc_her, cosmo, r3d, 1.0, 1.0, z_cluster)\n",
    "\n",
    "fig, axs = compare(r3d, deltasigma_her, nc_deltasigma_her, x_name=\"radius [Mpc]\", y_name=\"\\\\Sigma\")\n",
    "axs[0].set_xscale(\"log\")\n",
    "axs[0].set_yscale(\"log\")"
   ]
  },
  {
   "cell_type": "markdown",
   "metadata": {},
   "source": [
    "### Einasto: lensing quantities"
   ]
  },
  {
   "cell_type": "code",
   "execution_count": null,
   "metadata": {},
   "outputs": [],
   "source": [
    "nc_Sigmac = smd.sigma_critical(cosmo, z_source, z_cluster, z_cluster)\n",
    "\n",
    "nc_rho_ein = np.array([nc_ein.eval_density(cosmo, r3d_i, z_cluster) for r3d_i in r3d])\n",
    "nc_Sigma_ein = np.array([smd.sigma(nc_ein, cosmo, r3d_i, z_cluster) for r3d_i in r3d])\n",
    "nc_SigmaMean_ein = np.array([smd.sigma_mean(nc_ein, cosmo, r3d_i, z_cluster) for r3d_i in r3d])\n",
    "nc_DeltaSigma_ein = nc_SigmaMean_ein - nc_Sigma_ein\n",
    "nc_gammat_ein = np.array(\n",
    "    [smd.shear(nc_ein, cosmo, r3d_i, z_source, z_cluster, z_cluster) for r3d_i in r3d]\n",
    ")\n",
    "nc_kappa_ein = np.array(\n",
    "    [smd.convergence(nc_ein, cosmo, r3d_i, z_source, z_cluster, z_cluster) for r3d_i in r3d]\n",
    ")\n",
    "nc_gt_ein = np.array(\n",
    "    [smd.reduced_shear(nc_ein, cosmo, r3d_i, z_source, z_cluster, z_cluster) for r3d_i in r3d]\n",
    ")\n",
    "nc_mu_ein = np.array(\n",
    "    [smd.magnification(nc_ein, cosmo, r3d_i, z_source, z_cluster, z_cluster) for r3d_i in r3d]\n",
    ")"
   ]
  },
  {
   "cell_type": "markdown",
   "metadata": {},
   "source": [
    "### Hernquist: 3D density and lensing quantities"
   ]
  },
  {
   "cell_type": "code",
   "execution_count": null,
   "metadata": {},
   "outputs": [],
   "source": [
    "nc_rho_her = np.array([nc_her.eval_density(cosmo, r3d_i, z_cluster) for r3d_i in r3d])\n",
    "nc_Sigma_her = np.array([smd.sigma(nc_her, cosmo, r3d_i, z_cluster) for r3d_i in r3d])\n",
    "nc_SigmaMean_her = np.array([smd.sigma_mean(nc_her, cosmo, r3d_i, z_cluster) for r3d_i in r3d])\n",
    "nc_DeltaSigma_her = nc_SigmaMean_her - nc_Sigma_her\n",
    "nc_gammat_her = np.array(\n",
    "    [smd.shear(nc_her, cosmo, r3d_i, z_source, z_cluster, z_cluster) for r3d_i in r3d]\n",
    ")\n",
    "nc_kappa_her = np.array(\n",
    "    [smd.convergence(nc_her, cosmo, r3d_i, z_source, z_cluster, z_cluster) for r3d_i in r3d]\n",
    ")\n",
    "nc_gt_her = np.array(\n",
    "    [smd.reduced_shear(nc_her, cosmo, r3d_i, z_source, z_cluster, z_cluster) for r3d_i in r3d]\n",
    ")\n",
    "nc_mu_her = np.array(\n",
    "    [smd.magnification(nc_her, cosmo, r3d_i, z_source, z_cluster, z_cluster) for r3d_i in r3d]\n",
    ")"
   ]
  },
  {
   "cell_type": "markdown",
   "metadata": {},
   "source": [
    "### Save the numcosmo outputs "
   ]
  },
  {
   "cell_type": "code",
   "execution_count": null,
   "metadata": {},
   "outputs": [],
   "source": [
    "np.savetxt(\n",
    "    \"radial_profiles_einasto.txt\",\n",
    "    np.array(\n",
    "        [\n",
    "            r3d,\n",
    "            nc_rho_ein,\n",
    "            nc_Sigma_ein,\n",
    "            nc_DeltaSigma_ein,\n",
    "            nc_gammat_ein,\n",
    "            nc_kappa_ein,\n",
    "            nc_gt_ein,\n",
    "            nc_mu_ein,\n",
    "        ]\n",
    "    ).T,\n",
    "    header=\"r3d  rho Sigma DeltaSigma gammat kappa gt mu\",\n",
    ")"
   ]
  },
  {
   "cell_type": "code",
   "execution_count": null,
   "metadata": {},
   "outputs": [],
   "source": [
    "np.savetxt(\n",
    "    \"radial_profiles_hernquist.txt\",\n",
    "    np.array(\n",
    "        [\n",
    "            r3d,\n",
    "            nc_rho_her,\n",
    "            nc_Sigma_her,\n",
    "            nc_DeltaSigma_her,\n",
    "            nc_gammat_her,\n",
    "            nc_kappa_her,\n",
    "            nc_gt_her,\n",
    "            nc_mu_her,\n",
    "        ]\n",
    "    ).T,\n",
    "    header=\"r3d  rho Sigma DeltaSigma gammat kappa gt mu\",\n",
    ")"
   ]
  },
  {
   "cell_type": "code",
   "execution_count": null,
   "metadata": {},
   "outputs": [],
   "source": [
    "config_dict_ein = {\n",
    "    \"dl\": dist.angular_diameter(cosmo, z_cluster) * cosmo.RH_Mpc(),\n",
    "    \"z_source\": z_source,\n",
    "    \"cluster_mass\": cluster_mass,\n",
    "    \"G[m3/km.s2]\": Ncm.C.G(),\n",
    "    \"aexp_cluster\": 1.0 / (1.0 + z_cluster),\n",
    "    \"density_profile_parametrization\": \"einasto\",\n",
    "    \"ds\": dist.angular_diameter(cosmo, z_source) * cosmo.RH_Mpc(),\n",
    "    \"cosmo_Ob0\": cosmo_ccl[\"Omega_b0\"],\n",
    "    \"aexp_source\": 1.0 / (1.0 + z_source),\n",
    "    \"dsl\": dist.angular_diameter_z1_z2(cosmo, z_cluster, z_source) * cosmo.RH_Mpc(),\n",
    "    \"z_cluster\": z_cluster,\n",
    "    \"mass_Delta\": mass_Delta,\n",
    "    \"lightspeed[km/s]\": Ncm.C.c() / 1000.0,\n",
    "    \"cosmo_H0\": cosmo_ccl[\"H0\"],\n",
    "    \"cluster_concentration\": cluster_concentration,\n",
    "    \"cosmo_Om0\": cosmo_ccl[\"Omega_m0\"],\n",
    "    \"cosmo_Odm0\": cosmo_ccl[\"Omega_dm0\"],\n",
    "    \"nc_Sigmac\": nc_Sigmac,\n",
    "    \"Msun[kg]\": Ncm.C.mass_solar(),\n",
    "    \"pc_to_m\": Ncm.C.pc(),\n",
    "    \"alpha_einasto\": alpha_einasto,\n",
    "}\n",
    "\n",
    "import json\n",
    "\n",
    "with open(\"config_einasto_benchmarks.json\", \"w\") as fp:\n",
    "    json.dump(config_dict_ein, fp)"
   ]
  },
  {
   "cell_type": "code",
   "execution_count": null,
   "metadata": {},
   "outputs": [],
   "source": [
    "config_dict_her = {\n",
    "    \"dl\": dist.angular_diameter(cosmo, z_cluster) * cosmo.RH_Mpc(),\n",
    "    \"z_source\": z_source,\n",
    "    \"cluster_mass\": cluster_mass,\n",
    "    \"G[m3/km.s2]\": Ncm.C.G(),\n",
    "    \"aexp_cluster\": 1.0 / (1.0 + z_cluster),\n",
    "    \"density_profile_parametrization\": \"hernquist\",\n",
    "    \"ds\": dist.angular_diameter(cosmo, z_source) * cosmo.RH_Mpc(),\n",
    "    \"cosmo_Ob0\": cosmo_ccl[\"Omega_b0\"],\n",
    "    \"aexp_source\": 1.0 / (1.0 + z_source),\n",
    "    \"dsl\": dist.angular_diameter_z1_z2(cosmo, z_cluster, z_source) * cosmo.RH_Mpc(),\n",
    "    \"z_cluster\": z_cluster,\n",
    "    \"mass_Delta\": mass_Delta,\n",
    "    \"lightspeed[km/s]\": Ncm.C.c() / 1000.0,\n",
    "    \"cosmo_H0\": cosmo_ccl[\"H0\"],\n",
    "    \"cluster_concentration\": cluster_concentration,\n",
    "    \"cosmo_Om0\": cosmo_ccl[\"Omega_m0\"],\n",
    "    \"cosmo_Odm0\": cosmo_ccl[\"Omega_dm0\"],\n",
    "    \"nc_Sigmac\": nc_Sigmac,\n",
    "    \"Msun[kg]\": Ncm.C.mass_solar(),\n",
    "    \"pc_to_m\": Ncm.C.pc(),\n",
    "}\n",
    "\n",
    "import json\n",
    "\n",
    "with open(\"config_hernquist_benchmarks.json\", \"w\") as fp:\n",
    "    json.dump(config_dict_her, fp)"
   ]
  }
 ],
 "metadata": {
  "kernelspec": {
   "display_name": "Python 3.11",
   "language": "python",
   "name": "python3.11"
  },
  "language_info": {
   "codemirror_mode": {
    "name": "ipython",
    "version": 3
   },
   "file_extension": ".py",
   "mimetype": "text/x-python",
   "name": "python",
   "nbconvert_exporter": "python",
   "pygments_lexer": "ipython3",
   "version": "3.11.4"
  }
 },
 "nbformat": 4,
 "nbformat_minor": 4
}
