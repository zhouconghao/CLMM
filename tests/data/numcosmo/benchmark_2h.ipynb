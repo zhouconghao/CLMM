{
 "cells": [
  {
   "cell_type": "markdown",
   "id": "e7e4576f-f664-4581-9894-092c1e2f5d7b",
   "metadata": {},
   "source": [
    "# Benchmark values for the 2h term"
   ]
  },
  {
   "cell_type": "code",
   "execution_count": null,
   "id": "38173f11-54bf-447a-9e0b-045214ea75f5",
   "metadata": {},
   "outputs": [],
   "source": [
    "import numpy as np\n",
    "import matplotlib.pyplot as plt\n",
    "\n",
    "%matplotlib inline\n",
    "import colossus\n",
    "from colossus.cosmology import cosmology\n",
    "from colossus.halo import profile_nfw\n",
    "from colossus.halo import profile_outer"
   ]
  },
  {
   "cell_type": "code",
   "execution_count": null,
   "id": "aa9ddab1-1bc4-4bdd-8436-4a81db688a9f",
   "metadata": {},
   "outputs": [],
   "source": [
    "# NumCosmo\n",
    "try:\n",
    "    import gi\n",
    "\n",
    "    gi.require_version(\"NumCosmo\", \"1.0\")\n",
    "    gi.require_version(\"NumCosmoMath\", \"1.0\")\n",
    "except:\n",
    "    pass\n",
    "\n",
    "from gi.repository import GObject\n",
    "from gi.repository import NumCosmo as Nc\n",
    "from gi.repository import NumCosmoMath as Ncm"
   ]
  },
  {
   "cell_type": "code",
   "execution_count": null,
   "id": "494b5c95-e7ee-440d-a227-bcefca5af832",
   "metadata": {},
   "outputs": [],
   "source": [
    "import os\n",
    "\n",
    "os.environ[\"CLMM_MODELING_BACKEND\"] = \"ccl\""
   ]
  },
  {
   "cell_type": "code",
   "execution_count": null,
   "id": "e492d936-ec5e-45f4-8091-2811852589a6",
   "metadata": {},
   "outputs": [],
   "source": [
    "import clmm\n",
    "from clmm import Cosmology as clmm_cosmo"
   ]
  },
  {
   "cell_type": "code",
   "execution_count": null,
   "id": "2c338893-42d8-4abd-8ed7-7ee90bd49674",
   "metadata": {},
   "outputs": [],
   "source": [
    "cosmo_Ob0 = 0.049\n",
    "cosmo_Oc0 = 0.262\n",
    "cosmo_H0 = 67.66\n",
    "\n",
    "mycosmo = {\n",
    "    \"flat\": True,\n",
    "    \"H0\": cosmo_H0,\n",
    "    \"Om0\": cosmo_Ob0 + cosmo_Oc0,\n",
    "    \"Ob0\": cosmo_Ob0,\n",
    "    \"sigma8\": 0.8,\n",
    "    \"ns\": 0.96,\n",
    "    \"Tcmb0\": 2.7255,\n",
    "}\n",
    "cosmo_col = cosmology.setCosmology(\"mycosmo\", mycosmo)\n",
    "print(cosmo_col)\n",
    "\n",
    "Omega_c_col = cosmo_col.Om0 - cosmo_col.Ob0\n",
    "print(Omega_c_col)\n",
    "Omega_b_col = cosmo_col.Ob0\n",
    "h_col = cosmo_col.H0 / 100.0\n",
    "n_s_col = cosmo_col.ns\n",
    "\n",
    "# NumCosmo Cosmology\n",
    "Ncm.cfg_init()\n",
    "Ncm.cfg_set_log_handler(lambda msg: sys.stdout.write(msg) and sys.stdout.flush())\n",
    "\n",
    "cosmo = Nc.HICosmo.new_from_name(Nc.HICosmo, \"NcHICosmoDEXcdm{'massnu-length':<1>}\")\n",
    "cosmo.omega_x2omega_k()\n",
    "cosmo.param_set_by_name(\"H0\", cosmo_H0)\n",
    "cosmo.param_set_by_name(\"Omegak\", 0.0)\n",
    "cosmo.param_set_by_name(\"w\", -1)\n",
    "cosmo.param_set_by_name(\"Omegab\", cosmo_Ob0)\n",
    "cosmo.param_set_by_name(\"Omegac\", cosmo_Oc0)\n",
    "cosmo.param_set_by_name(\"ENnu\", cosmo_col.Neff)\n",
    "cosmo.param_set_by_name(\"Tgamma0\", cosmo_col.Tcmb0)\n",
    "cosmo.param_set_by_name(\"massnu_0\", 0.06)\n",
    "ENnu = 3.046 - 3.0 * cosmo.E2Press_mnu(1.0e10) / (\n",
    "    cosmo.E2Omega_g(1.0e10) * (7.0 / 8.0 * (4.0 / 11.0) ** (4.0 / 3.0))\n",
    ")\n",
    "cosmo.param_set_by_name(\"ENnu\", ENnu)\n",
    "\n",
    "reion = Nc.HIReionCamb.new()\n",
    "cosmo.add_submodel(reion)\n",
    "prim = Nc.HIPrimPowerLaw.new()\n",
    "cosmo.add_submodel(prim)\n",
    "cosmo.prim.props.n_SA = cosmo_col.ns\n",
    "ps = Nc.PowspecMLTransfer.new(Nc.TransferFuncEH.new())\n",
    "psf = Ncm.PowspecFilter.new(ps, Ncm.PowspecFilterType.TOPHAT)\n",
    "old_amplitude = np.exp(cosmo.prim.props.ln10e10ASA)\n",
    "cosmo.prim.props.ln10e10ASA = np.log((cosmo_col.sigma8 / cosmo.sigma8(psf)) ** 2 * old_amplitude)\n",
    "ps.prepare(cosmo)\n",
    "\n",
    "# CLMM cosmology\n",
    "cosmo_clmm = clmm_cosmo(H0=cosmo_col.H0, Omega_dm0=Omega_c_col, Omega_b0=Omega_b_col, Omega_k0=0.0)"
   ]
  },
  {
   "cell_type": "markdown",
   "id": "2b5d8002-9c87-4162-94c0-c7e297e1f815",
   "metadata": {},
   "source": [
    "## First, look at P(K)"
   ]
  },
  {
   "cell_type": "code",
   "execution_count": null,
   "id": "2ad72d4a-3835-4a72-9d38-a64f1bc31c3a",
   "metadata": {},
   "outputs": [],
   "source": [
    "z = 1.0"
   ]
  },
  {
   "cell_type": "code",
   "execution_count": null,
   "id": "4ad26deb-d5a3-45bd-90ab-7778153e6b54",
   "metadata": {},
   "outputs": [],
   "source": [
    "k_vals = np.logspace(-5, 3, 1000)  # Mpc\n",
    "pk_col = cosmo_col.matterPowerSpectrum(k_vals / cosmo_col.h, z=z, model=\"eisenstein98\")"
   ]
  },
  {
   "cell_type": "code",
   "execution_count": null,
   "id": "4c8cf76c-a955-485c-9e6b-ba59c53e2383",
   "metadata": {},
   "outputs": [],
   "source": [
    "pk_clmm = cosmo_clmm.eval_linear_matter_powerspectrum(k_vals, z)"
   ]
  },
  {
   "cell_type": "code",
   "execution_count": null,
   "id": "01c50171-a65a-4bfe-8619-a704a8856cd4",
   "metadata": {},
   "outputs": [],
   "source": [
    "pk_nc = []\n",
    "for k in k_vals:\n",
    "    pk_nc.append(ps.eval(cosmo, z, k))"
   ]
  },
  {
   "cell_type": "code",
   "execution_count": null,
   "id": "edce5f5c-b986-412e-ac14-d1c4e496d42b",
   "metadata": {},
   "outputs": [],
   "source": [
    "plt.loglog(k_vals, pk_col / (cosmo_col.h) ** 3.0)\n",
    "plt.loglog(k_vals, pk_clmm)\n",
    "plt.loglog(k_vals, pk_nc)"
   ]
  },
  {
   "cell_type": "code",
   "execution_count": null,
   "id": "50434406-dbc7-4388-9baf-37254d823a57",
   "metadata": {},
   "outputs": [],
   "source": [
    "plt.loglog(k_vals, np.abs(pk_clmm / (pk_col / (cosmo_col.h) ** 3.0) - 1.0), label=\"CLMM/colossus\")\n",
    "plt.loglog(k_vals, np.abs(np.array(pk_clmm) / np.array(pk_nc) - 1.0), label=\"CLMM/NC\")\n",
    "plt.loglog(\n",
    "    k_vals,\n",
    "    np.abs(np.array(pk_nc) / np.array(pk_col / (cosmo_col.h) ** 3.0) - 1.0),\n",
    "    label=\"NC/colossus\",\n",
    ")\n",
    "plt.legend()"
   ]
  },
  {
   "cell_type": "code",
   "execution_count": null,
   "id": "f8d24395-8221-4cd3-834c-c54e5620988f",
   "metadata": {},
   "outputs": [],
   "source": [
    "np.savetxt(\"matter_power_spectrum.txt\", np.array([k_vals, pk_nc]).T, header=\"k  P_of_k\")"
   ]
  },
  {
   "cell_type": "code",
   "execution_count": null,
   "id": "9d460282-e251-40b7-9530-3533737df3bd",
   "metadata": {},
   "outputs": [],
   "source": [
    "config_dict_ps = {\n",
    "    \"cosmo_Ob0\": cosmo.Omega_b0(),\n",
    "    \"cosmo_H0\": cosmo.H0(),\n",
    "    \"cosmo_Om0\": cosmo.Omega_m0(),\n",
    "    \"cosmo_0c0\": cosmo.Omega_c0(),\n",
    "    \"z\": z,\n",
    "}\n",
    "\n",
    "config_dict_ps"
   ]
  },
  {
   "cell_type": "code",
   "execution_count": null,
   "id": "032379ae-2afa-40ba-9264-1e8219f9497b",
   "metadata": {},
   "outputs": [],
   "source": [
    "import json\n",
    "\n",
    "with open(\"config_ps_benchmarks.json\", \"w\") as fp:\n",
    "    json.dump(config_dict_ps, fp)"
   ]
  },
  {
   "cell_type": "markdown",
   "id": "2719acdb-1741-4921-91d6-30fabec4f6f5",
   "metadata": {},
   "source": [
    "# Now, look at the 2h term with colossus"
   ]
  },
  {
   "cell_type": "code",
   "execution_count": null,
   "id": "10eb85cc-0463-416d-82e2-a723f3a696a9",
   "metadata": {},
   "outputs": [],
   "source": [
    "M = 1.0e15  # Msun/h\n",
    "c = 4.0\n",
    "z = 0.1"
   ]
  },
  {
   "cell_type": "code",
   "execution_count": null,
   "id": "16253d56-ade7-4677-825d-47bd65dfe9de",
   "metadata": {},
   "outputs": [],
   "source": [
    "r_3d = np.logspace(-2, 2, 1000)  # Mpc/h\n",
    "r_proj = np.logspace(-2, 2, 1000)  # Mpc/h"
   ]
  },
  {
   "cell_type": "markdown",
   "id": "3c9544e0-c948-448b-9e2e-c897c3cecfe1",
   "metadata": {},
   "source": [
    "## Define a NFW-only and NFW+2h profile"
   ]
  },
  {
   "cell_type": "code",
   "execution_count": null,
   "id": "c68da4cb-aae6-4423-b9e9-d2ffb47ab2c4",
   "metadata": {},
   "outputs": [],
   "source": [
    "p_nfw0 = profile_nfw.NFWProfile(M=M, c=c, z=z, mdef=\"200c\")\n",
    "\n",
    "outer_term_xi = profile_outer.OuterTermCorrelationFunction(z=z, bias=1.0)\n",
    "p_nfw_2h = profile_nfw.NFWProfile(M=M, c=c, z=z, mdef=\"200c\", outer_terms=[outer_term_xi])"
   ]
  },
  {
   "cell_type": "markdown",
   "id": "7ea8eb6e-ef3d-43b4-8c64-3f482285d6ea",
   "metadata": {},
   "source": [
    "## Check 3d density"
   ]
  },
  {
   "cell_type": "code",
   "execution_count": null,
   "id": "fdeb951b-78e0-4c38-87ea-bb2dc016da0b",
   "metadata": {},
   "outputs": [],
   "source": [
    "rho_nfw0 = p_nfw0.density(r_3d * 1.0e3)\n",
    "rho_nfw_2h = p_nfw_2h.density(r_3d * 1.0e3)\n",
    "rho_nfw_outer = p_nfw_2h.densityOuter(r_3d * 1.0e3)"
   ]
  },
  {
   "cell_type": "code",
   "execution_count": null,
   "id": "092e89ec-c28b-4d38-bdce-3ba9fe932492",
   "metadata": {},
   "outputs": [],
   "source": [
    "plt.loglog(r_3d, rho_nfw0, label=\"NFW only\")\n",
    "plt.loglog(r_3d, rho_nfw_outer, label=\"2h only\")\n",
    "plt.loglog(r_3d, rho_nfw_2h, label=\"NFW + 2h\")\n",
    "plt.legend()\n",
    "plt.xlabel(\"r [Mpc/h]\")"
   ]
  },
  {
   "cell_type": "markdown",
   "id": "7ed5bdf3-4565-4be4-bf9b-dbbca50471e2",
   "metadata": {},
   "source": [
    "## Check surface density"
   ]
  },
  {
   "cell_type": "markdown",
   "id": "62c105bf-c090-436a-b16a-5ae6a67c44c5",
   "metadata": {},
   "source": [
    "### Check that the inner profile does correspond to NFW-only"
   ]
  },
  {
   "cell_type": "code",
   "execution_count": null,
   "id": "ea613f61-0ab9-4ca7-b92a-06ad381ae7bb",
   "metadata": {},
   "outputs": [],
   "source": [
    "Sigma_nfw0 = p_nfw0.surfaceDensity(r_proj * 1.0e3)\n",
    "Sigma_nfw_2h_inner = p_nfw_2h.surfaceDensityInner(r_proj * 1.0e3)"
   ]
  },
  {
   "cell_type": "code",
   "execution_count": null,
   "id": "6be679e0-2b3f-4f42-af9d-933bee4a1677",
   "metadata": {},
   "outputs": [],
   "source": [
    "plt.loglog(r_proj, Sigma_nfw_2h_inner / Sigma_nfw0)\n",
    "plt.xlabel(\"R [Mpc/h]\")"
   ]
  },
  {
   "cell_type": "markdown",
   "id": "985153af-4c5b-46a0-90df-ab30fa98ea55",
   "metadata": {},
   "source": [
    "### Compute the 2h term component only (outer profile)\n",
    "--> get an error w/wo interpolation. Complains about negative densities, but these look OK from above"
   ]
  },
  {
   "cell_type": "markdown",
   "id": "6958316d-2f7c-47aa-a90e-9b48621d8190",
   "metadata": {},
   "source": [
    "#### With interpolation"
   ]
  },
  {
   "cell_type": "code",
   "execution_count": null,
   "id": "bbcfbf3c-5488-4486-b69b-4e6853be7d61",
   "metadata": {},
   "outputs": [],
   "source": [
    "Sigma_nfw_2h = p_nfw_2h.surfaceDensityOuter(r_proj * 1.0e3, interpolate=True)"
   ]
  },
  {
   "cell_type": "markdown",
   "id": "9cfea7aa-2d9a-4bbb-82a8-73893a25a0cb",
   "metadata": {},
   "source": [
    "#### Without interpolation"
   ]
  },
  {
   "cell_type": "code",
   "execution_count": null,
   "id": "68d765ff-bc9f-4be3-ba6e-6fa70843a0d1",
   "metadata": {},
   "outputs": [],
   "source": [
    "Sigma_nfw_2h = p_nfw_2h.surfaceDensityOuter(r_proj * 1.0e3, interpolate=False)"
   ]
  },
  {
   "cell_type": "code",
   "execution_count": null,
   "id": "8c3a1bbe-f134-4b35-97c2-702f9fad1607",
   "metadata": {},
   "outputs": [],
   "source": []
  }
 ],
 "metadata": {
  "kernelspec": {
   "display_name": "Python 3 (ipykernel)",
   "language": "python",
   "name": "python3"
  },
  "language_info": {
   "codemirror_mode": {
    "name": "ipython",
    "version": 3
   },
   "file_extension": ".py",
   "mimetype": "text/x-python",
   "name": "python",
   "nbconvert_exporter": "python",
   "pygments_lexer": "ipython3",
   "version": "3.8.10"
  }
 },
 "nbformat": 4,
 "nbformat_minor": 5
}
