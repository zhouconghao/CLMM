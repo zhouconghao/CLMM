{
 "cells": [
  {
   "cell_type": "markdown",
   "metadata": {},
   "source": [
    "# API demonstration for paper of v1.0\n",
    "\n",
    "_the LSST-DESC CLMM team_\n",
    "\n",
    "\n",
    "Here we demonstrate how to use `clmm` to estimate a WL halo mass from observations of a galaxy cluster when source galaxies follow a given distribution (The LSST DESC Science Requirements Document - arXiv:1809.01669,  implemented in `clmm`). It uses several functionalities of the support `mock_data` module to produce mock datasets.\n",
    "\n",
    "- Setting things up, with the proper imports.\n",
    "- Computing the binned reduced tangential shear profile, for the 2 datasets, using logarithmic binning.\n",
    "- Setting up a model accounting for the redshift distribution.\n",
    "- Perform a simple fit using `scipy.optimize.curve_fit` included in `clmm` and visualize the results."
   ]
  },
  {
   "cell_type": "markdown",
   "metadata": {},
   "source": [
    "## Setup"
   ]
  },
  {
   "cell_type": "markdown",
   "metadata": {},
   "source": [
    "First, we import some standard packages."
   ]
  },
  {
   "cell_type": "code",
   "execution_count": null,
   "metadata": {},
   "outputs": [],
   "source": [
    "import matplotlib.pyplot as plt\n",
    "import numpy as np"
   ]
  },
  {
   "cell_type": "code",
   "execution_count": null,
   "metadata": {},
   "outputs": [],
   "source": [
    "from clmm.dataops import _compute_lensing_angles_flatsky as clmm_flat\n",
    "from clmm.dataops import _compute_lensing_angles_astropy as clmm_full"
   ]
  },
  {
   "cell_type": "code",
   "execution_count": null,
   "metadata": {},
   "outputs": [],
   "source": [
    "ra1, dec1 = 0, 0\n",
    "t = np.linspace(0, np.pi * 2, 100)[:-1]\n",
    "ra2 = ra1 + np.cos(t)\n",
    "dec2 = dec1 + np.sin(t)\n",
    "\n",
    "flat_vals = clmm_flat(ra1, dec1, ra2, dec2)\n",
    "full_vals = clmm_full(ra1, dec1, ra2, dec2)"
   ]
  },
  {
   "cell_type": "code",
   "execution_count": null,
   "metadata": {},
   "outputs": [],
   "source": [
    "f, axes = plt.subplots(2, sharex=True)\n",
    "\n",
    "axes[0].plot(full_vals[1], flat_vals[0] - full_vals[0])\n",
    "axes[0].set_ylabel(\"$\\\\theta$ [Flat-Curve]\")\n",
    "\n",
    "axes[1].plot(full_vals[1], flat_vals[1] - full_vals[1])\n",
    "axes[1].set_xlabel(\"Azimuthal angle\")\n",
    "axes[1].set_ylabel(\"$\\phi$ [Flat-Curve]\")\n",
    "\n",
    "for ax in axes:\n",
    "    ax.set_xticks(np.arange(-1, 1.01, 0.5) * np.pi)\n",
    "    ax.xaxis.grid(True, which=\"major\", lw=0.5)\n",
    "    ax.yaxis.grid(True, which=\"major\", lw=0.5)\n",
    "    ax.xaxis.grid(True, which=\"minor\", lw=0.1)\n",
    "    ax.yaxis.grid(True, which=\"minor\", lw=0.1)\n",
    "\n",
    "axes[1].set_xticklabels([\"$-\\pi$\", \"$-\\\\frac{\\pi}{2}$\", \"$0$\", \"$\\\\frac{\\pi}{2}$\", \"$\\pi$\"])\n",
    "plt.show()"
   ]
  },
  {
   "cell_type": "markdown",
   "metadata": {},
   "source": [
    "## Generating mock data"
   ]
  },
  {
   "cell_type": "markdown",
   "metadata": {},
   "source": [
    "`clmm` has a support code to generate a mock catalog given a input cosmology and cluster parameters. We will use this to generate a data sample to be used in this example:"
   ]
  },
  {
   "cell_type": "code",
   "execution_count": null,
   "metadata": {},
   "outputs": [],
   "source": [
    "from clmm import Cosmology\n",
    "import clmm.support.mock_data as mock"
   ]
  },
  {
   "cell_type": "code",
   "execution_count": null,
   "metadata": {},
   "outputs": [],
   "source": [
    "np.random.seed(14)  # For reproducibility\n",
    "\n",
    "# Set cosmology of mock data\n",
    "cosmo = Cosmology(H0=70.0, Omega_dm0=0.27 - 0.045, Omega_b0=0.045, Omega_k0=0.0)\n",
    "\n",
    "# Cluster info\n",
    "cluster_m = 1.0e15  # Cluster mass - ($M200_m$) [Msun]\n",
    "concentration = 4  # Cluster concentration\n",
    "cluster_z = 0.3  # Cluster redshift\n",
    "cluster_ra = 20.0  # Cluster Ra in deg\n",
    "cluster_dec = 85.0  # Cluster Dec in deg\n",
    "\n",
    "# Catalog info\n",
    "field_size = 10  # i.e. 10 x 10 Mpc field at the cluster redshift, cluster in the center\n",
    "\n",
    "# Make mock galaxies\n",
    "mock_galaxies = mock.generate_galaxy_catalog(\n",
    "    cluster_m=cluster_m,\n",
    "    cluster_z=cluster_z,\n",
    "    cluster_c=concentration,\n",
    "    cluster_ra=cluster_ra,\n",
    "    cluster_dec=cluster_dec,  # Cluster data\n",
    "    cosmo=cosmo,  # Cosmology object\n",
    "    zsrc=\"desc_srd\",  # Galaxy redshift distribution,\n",
    "    zsrc_min=0.4,  # Minimum redshift of the galaxies\n",
    "    shapenoise=0.05,  # Gaussian shape noise to the galaxy shapes\n",
    "    photoz_sigma_unscaled=0.05,  # Photo-z errors to source redshifts\n",
    "    field_size=field_size,\n",
    "    ngal_density=20,  # number of gal/arcmin2 for z in [0, infty]\n",
    ")\n",
    "print(f'Catalog table with the columns: {\", \".join(mock_galaxies.colnames)}')\n",
    "\n",
    "ngals_init = len(mock_galaxies)\n",
    "print(f\"Initial number of galaxies: {ngals_init:,}\")\n",
    "\n",
    "# Keeping only galaxies with \"measured\" redshift greater than cluster redshift\n",
    "mock_galaxies = mock_galaxies[(mock_galaxies[\"z\"] > cluster_z)]\n",
    "ngals_good = len(mock_galaxies)\n",
    "\n",
    "if ngals_good < ngals_init:\n",
    "    print(f\"Number of excluded galaxies (with photoz < cluster_z): {ngals_init-ngals_good:,}\")\n",
    "    # reset galaxy id for later use\n",
    "    mock_galaxies[\"id\"] = np.arange(ngals_good)\n",
    "\n",
    "# Check final density\n",
    "from clmm.utils import convert_units\n",
    "\n",
    "field_size_arcmin = convert_units(field_size, \"Mpc\", \"arcmin\", redshift=cluster_z, cosmo=cosmo)\n",
    "print(f\"Background galaxy density = {ngals_good/field_size_arcmin**2:.2f} gal/arcmin2\\n\")"
   ]
  },
  {
   "cell_type": "markdown",
   "metadata": {},
   "source": [
    "## Shear values"
   ]
  },
  {
   "cell_type": "code",
   "execution_count": null,
   "metadata": {},
   "outputs": [],
   "source": [
    "import clmm\n",
    "import copy"
   ]
  },
  {
   "cell_type": "code",
   "execution_count": null,
   "metadata": {},
   "outputs": [],
   "source": [
    "# Create a GalaxyCluster\n",
    "cluster_flat = clmm.GalaxyCluster(\n",
    "    \"Name of cluster\", cluster_ra, cluster_dec, cluster_z, mock_galaxies\n",
    ")\n",
    "cluster = clmm.GalaxyCluster(\n",
    "    \"Name of cluster\", cluster_ra, cluster_dec, cluster_z, copy.deepcopy(mock_galaxies)\n",
    ")\n",
    "\n",
    "# Convert elipticities into shears for the members\n",
    "cluster_flat.compute_tangential_and_cross_components(geometry=\"flat\")\n",
    "cluster.compute_tangential_and_cross_components(geometry=\"curve\")\n",
    "pass"
   ]
  },
  {
   "cell_type": "code",
   "execution_count": null,
   "metadata": {},
   "outputs": [],
   "source": [
    "def colorp(x, y, c, **kwargs):\n",
    "    isort = np.argsort(c)\n",
    "    return plt.scatter(x[isort], y[isort], c=c[isort], **kwargs)"
   ]
  },
  {
   "cell_type": "code",
   "execution_count": null,
   "metadata": {},
   "outputs": [],
   "source": [
    "sc = colorp(\n",
    "    mock_galaxies[\"ra\"],\n",
    "    mock_galaxies[\"dec\"],\n",
    "    c=abs(cluster_flat.galcat[\"et\"] - cluster.galcat[\"et\"]),\n",
    "    s=1,\n",
    ")\n",
    "plt.colorbar(sc, label=\"$\\Delta g_t$\")\n",
    "plt.show()"
   ]
  },
  {
   "cell_type": "code",
   "execution_count": null,
   "metadata": {},
   "outputs": [],
   "source": [
    "sc = colorp(\n",
    "    mock_galaxies[\"ra\"],\n",
    "    mock_galaxies[\"dec\"],\n",
    "    c=abs(cluster_flat.galcat[\"ex\"] - cluster.galcat[\"ex\"]),\n",
    "    s=1,\n",
    ")\n",
    "plt.colorbar(sc, label=\"$\\Delta g_x$\")\n",
    "plt.show()"
   ]
  },
  {
   "cell_type": "markdown",
   "metadata": {},
   "source": [
    "## Profile values"
   ]
  },
  {
   "cell_type": "code",
   "execution_count": null,
   "metadata": {},
   "outputs": [],
   "source": [
    "import clmm.dataops as da\n",
    "\n",
    "# Measure profile and add profile table to the cluster\n",
    "cluster_flat.make_radial_profile(\n",
    "    bins=da.make_bins(0.1, field_size / 2.0, 25, method=\"evenlog10width\"),\n",
    "    bin_units=\"Mpc\",\n",
    "    cosmo=cosmo,\n",
    "    include_empty_bins=False,\n",
    "    gal_ids_in_bins=True,\n",
    ")\n",
    "cluster.make_radial_profile(\n",
    "    bins=da.make_bins(0.1, field_size / 2.0, 25, method=\"evenlog10width\"),\n",
    "    bin_units=\"Mpc\",\n",
    "    cosmo=cosmo,\n",
    "    include_empty_bins=False,\n",
    "    gal_ids_in_bins=True,\n",
    ")\n",
    "pass"
   ]
  },
  {
   "cell_type": "code",
   "execution_count": null,
   "metadata": {},
   "outputs": [],
   "source": [
    "# from paper_formating import prep_plot\n",
    "# prep_plot(figsize=(9, 9))\n",
    "f, axes = plt.subplots(2, sharex=True)\n",
    "\n",
    "errorbar_kwargs = dict(linestyle=\"\", marker=\"o\", markersize=1, elinewidth=0.5, capthick=0.5)\n",
    "\n",
    "axes[0].errorbar(\n",
    "    cluster.profile[\"radius\"],\n",
    "    cluster.profile[\"gt\"],\n",
    "    cluster.profile[\"gt_err\"],\n",
    "    c=\"k\",\n",
    "    label=\"curve\",\n",
    "    **errorbar_kwargs\n",
    ")\n",
    "axes[0].errorbar(\n",
    "    cluster_flat.profile[\"radius\"],\n",
    "    cluster_flat.profile[\"gt\"],\n",
    "    cluster_flat.profile[\"gt_err\"],\n",
    "    c=\"r\",\n",
    "    label=\"flat\",\n",
    "    **errorbar_kwargs\n",
    ")\n",
    "axes[1].errorbar(\n",
    "    cluster.profile[\"radius\"],\n",
    "    (cluster_flat.profile[\"gt\"] - cluster.profile[\"gt\"]),\n",
    "    cluster.profile[\"gt_err\"],\n",
    "    **errorbar_kwargs\n",
    ")\n",
    "axes[1].set_xlabel(\"r [Mpc]\", fontsize=10)\n",
    "axes[0].set_ylabel(r\"$g_t$\", fontsize=10)\n",
    "axes[1].set_ylabel(r\"$\\Delta g_t$\", fontsize=10)\n",
    "axes[1].set_xscale(\"log\")\n",
    "axes[0].set_yscale(\"log\")\n",
    "axes[0].legend()\n",
    "\n",
    "for ax in axes:\n",
    "    ax.xaxis.grid(True, which=\"major\", lw=0.5)\n",
    "    ax.yaxis.grid(True, which=\"major\", lw=0.5)\n",
    "    ax.xaxis.grid(True, which=\"minor\", lw=0.1)\n",
    "    ax.yaxis.grid(True, which=\"minor\", lw=0.1)"
   ]
  },
  {
   "cell_type": "markdown",
   "metadata": {},
   "source": [
    "## Theoretical predictions\n",
    "\n",
    "We consider 3 models:\n",
    "1. One model where all sources are considered at the same redshift\n",
    "2. One model using the overall source redshift distribution to predict the reduced tangential shear\n",
    "3. A more accurate model, relying on the fact that we have access to the individual redshifts of the sources, where the average reduced tangential shear is averaged independently in each bin, accounting for the acutal population of sources in each bin.\n",
    "\n",
    "All models rely on `clmm.predict_reduced_tangential_shear` to make a prediction that accounts for the redshift distribution of the galaxies in each radial bin:"
   ]
  },
  {
   "cell_type": "markdown",
   "metadata": {},
   "source": [
    "### Model considering all sources located at the average redshift\n",
    "\\begin{equation}\n",
    "     g_{t,i}^{\\rm{avg(z)}} = g_t(R_i, \\langle z \\rangle)\\;,\n",
    " \\label{eq:wrong_gt_model}\n",
    " \\end{equation} "
   ]
  },
  {
   "cell_type": "code",
   "execution_count": null,
   "metadata": {},
   "outputs": [],
   "source": [
    "def predict_reduced_tangential_shear_mean_z(profile, logm):\n",
    "    return clmm.compute_reduced_tangential_shear(\n",
    "        r_proj=profile[\"radius\"],  # Radial component of the profile\n",
    "        mdelta=10**logm,  # Mass of the cluster [M_sun]\n",
    "        cdelta=4,  # Concentration of the cluster\n",
    "        z_cluster=cluster_z,  # Redshift of the cluster\n",
    "        z_src=np.mean(cluster.galcat[\"z\"]),  # Mean value of source galaxies redshift\n",
    "        cosmo=cosmo,\n",
    "        delta_mdef=200,\n",
    "        halo_profile_model=\"nfw\",\n",
    "    )"
   ]
  },
  {
   "cell_type": "markdown",
   "metadata": {},
   "source": [
    "### Model relying on the overall redshift distribution of the sources N(z), not using individual redshift information (eq. (6) from Applegate et al. 2014, MNRAS, 439, 48) \n",
    "\\begin{equation}\n",
    "     g_{t,i}^{N(z)} = \\frac{\\langle\\beta_s\\rangle \\gamma_t(R_i, z\\rightarrow\\infty)}{1-\\frac{\\langle\\beta_s^2\\rangle}{\\langle\\beta_s\\rangle}\\kappa(R_i, z\\rightarrow\\infty)}\n",
    "     \\label{eq:approx_model}\n",
    " \\end{equation}"
   ]
  },
  {
   "cell_type": "code",
   "execution_count": null,
   "metadata": {},
   "outputs": [],
   "source": [
    "z_inf = 1000\n",
    "dl_inf = cosmo.eval_da_z1z2(cluster_z, z_inf)\n",
    "d_inf = cosmo.eval_da(z_inf)\n",
    "\n",
    "\n",
    "def betas(z):\n",
    "    dls = cosmo.eval_da_z1z2(cluster_z, z)\n",
    "    ds = cosmo.eval_da(z)\n",
    "    return dls * d_inf / (ds * dl_inf)\n",
    "\n",
    "\n",
    "def predict_reduced_tangential_shear_approx(profile, logm):\n",
    "    bs_mean = np.mean(betas(cluster.galcat[\"z\"]))\n",
    "    bs2_mean = np.mean(betas(cluster.galcat[\"z\"]) ** 2)\n",
    "\n",
    "    gamma_t_inf = clmm.compute_tangential_shear(\n",
    "        r_proj=profile[\"radius\"],  # Radial component of the profile\n",
    "        mdelta=10**logm,  # Mass of the cluster [M_sun]\n",
    "        cdelta=4,  # Concentration of the cluster\n",
    "        z_cluster=cluster_z,  # Redshift of the cluster\n",
    "        z_src=z_inf,  # Redshift value at infinity\n",
    "        cosmo=cosmo,\n",
    "        delta_mdef=200,\n",
    "        halo_profile_model=\"nfw\",\n",
    "    )\n",
    "    convergence_inf = clmm.compute_convergence(\n",
    "        r_proj=profile[\"radius\"],  # Radial component of the profile\n",
    "        mdelta=10**logm,  # Mass of the cluster [M_sun]\n",
    "        cdelta=4,  # Concentration of the cluster\n",
    "        z_cluster=cluster_z,  # Redshift of the cluster\n",
    "        z_src=z_inf,  # Redshift value at infinity\n",
    "        cosmo=cosmo,\n",
    "        delta_mdef=200,\n",
    "        halo_profile_model=\"nfw\",\n",
    "    )\n",
    "\n",
    "    return bs_mean * gamma_t_inf / (1 - (bs2_mean / bs_mean) * convergence_inf)"
   ]
  },
  {
   "cell_type": "markdown",
   "metadata": {},
   "source": [
    "### Model using individual redshift and radial information, to compute the averaged shear in each radial bin, based on the galaxies actually present in that bin.\n",
    "\\begin{equation}\n",
    "    g_{t,i}^{z, R} = \\frac{1}{N_i}\\sum_{{\\rm gal\\,}j\\in {\\rm bin\\,}i} g_t(R_j, z_j)\n",
    "    \\label{eq:exact_model}\n",
    " \\end{equation}"
   ]
  },
  {
   "cell_type": "code",
   "execution_count": null,
   "metadata": {},
   "outputs": [],
   "source": [
    "cluster.galcat[\"theta_mpc\"] = convert_units(\n",
    "    cluster.galcat[\"theta\"], \"radians\", \"mpc\", cluster.z, cosmo\n",
    ")\n",
    "\n",
    "\n",
    "def predict_reduced_tangential_shear_exact(profile, logm):\n",
    "    return np.array(\n",
    "        [\n",
    "            np.mean(\n",
    "                clmm.compute_reduced_tangential_shear(\n",
    "                    # Radial component of each source galaxy inside the radial bin\n",
    "                    r_proj=cluster.galcat[radial_bin[\"gal_id\"]][\"theta_mpc\"],\n",
    "                    mdelta=10**logm,  # Mass of the cluster [M_sun]\n",
    "                    cdelta=4,  # Concentration of the cluster\n",
    "                    z_cluster=cluster_z,  # Redshift of the cluster\n",
    "                    # Redshift value of each source galaxy inside the radial bin\n",
    "                    z_src=cluster.galcat[radial_bin[\"gal_id\"]][\"z\"],\n",
    "                    cosmo=cosmo,\n",
    "                    delta_mdef=200,\n",
    "                    halo_profile_model=\"nfw\",\n",
    "                )\n",
    "            )\n",
    "            for radial_bin in profile\n",
    "        ]\n",
    "    )"
   ]
  },
  {
   "cell_type": "markdown",
   "metadata": {},
   "source": [
    "## Mass fitting"
   ]
  },
  {
   "cell_type": "markdown",
   "metadata": {},
   "source": [
    "We estimate the best-fit mass using `scipy.optimize.curve_fit`. The choice of fitting $\\log M$ instead of $M$ lowers the range of pre-defined fitting bounds from several order of magnitude for the mass to unity. From the associated error $\\sigma_{\\log M}$ we calculate the error to mass as $\\sigma_M = M_{fit}\\ln(10)\\sigma_{\\log M}$."
   ]
  },
  {
   "cell_type": "markdown",
   "metadata": {},
   "source": [
    "#### First, identify bins with sufficient galaxy statistics to be kept for the fit\n",
    "For small samples, error bars should not be computed using the simple error on the mean approach available so far in CLMM)\n",
    "\n"
   ]
  },
  {
   "cell_type": "code",
   "execution_count": null,
   "metadata": {},
   "outputs": [],
   "source": [
    "data_for_fit = cluster.profile[cluster.profile[\"n_src\"] > 5]\n",
    "data_for_fit_flat = cluster_flat.profile[cluster_flat.profile[\"n_src\"] > 5]"
   ]
  },
  {
   "cell_type": "markdown",
   "metadata": {},
   "source": [
    "#### Perform the fits\n"
   ]
  },
  {
   "cell_type": "code",
   "execution_count": null,
   "metadata": {},
   "outputs": [],
   "source": [
    "from clmm.support.sampler import fitters\n",
    "\n",
    "\n",
    "def fit_mass(predict_function, data_for_fit=data_for_fit):\n",
    "    popt, pcov = fitters[\"curve_fit\"](\n",
    "        predict_function,\n",
    "        data_for_fit,\n",
    "        data_for_fit[\"gt\"],\n",
    "        data_for_fit[\"gt_err\"],\n",
    "        bounds=[10.0, 17.0],\n",
    "    )\n",
    "    logm, logm_err = popt[0], np.sqrt(pcov[0][0])\n",
    "    return {\n",
    "        \"logm\": logm,\n",
    "        \"logm_err\": logm_err,\n",
    "        \"m\": 10**logm,\n",
    "        \"m_err\": (10**logm) * logm_err * np.log(10),\n",
    "    }"
   ]
  },
  {
   "cell_type": "code",
   "execution_count": null,
   "metadata": {},
   "outputs": [],
   "source": [
    "fit_mean_z = fit_mass(predict_reduced_tangential_shear_mean_z)\n",
    "fit_approx = fit_mass(predict_reduced_tangential_shear_approx)\n",
    "fit_exact = fit_mass(predict_reduced_tangential_shear_exact)"
   ]
  },
  {
   "cell_type": "code",
   "execution_count": null,
   "metadata": {},
   "outputs": [],
   "source": [
    "fit_mean_z_flat = fit_mass(predict_reduced_tangential_shear_mean_z, data_for_fit_flat)\n",
    "fit_approx_flat = fit_mass(predict_reduced_tangential_shear_approx, data_for_fit_flat)\n",
    "fit_exact_flat = fit_mass(predict_reduced_tangential_shear_exact, data_for_fit_flat)"
   ]
  },
  {
   "cell_type": "code",
   "execution_count": null,
   "metadata": {},
   "outputs": [],
   "source": [
    "print(f\"Input mass = {cluster_m:.2e} Msun\\n\")\n",
    "print(\"Curve sky\")\n",
    "print(\n",
    "    f'Best fit mass for average redshift               = {fit_mean_z[\"m\"]:.3e} +/- {fit_mean_z[\"m_err\"]:.3e} Msun'\n",
    ")\n",
    "print(\n",
    "    f'Best fit mass for N(z) model                     = {fit_approx[\"m\"]:.3e} +/- {fit_approx[\"m_err\"]:.3e} Msun'\n",
    ")\n",
    "print(\n",
    "    f'Best fit mass for individual redshift and radius = {fit_exact[\"m\"]:.3e} +/- {fit_exact[\"m_err\"]:.3e} Msun'\n",
    ")\n",
    "print()\n",
    "print(\"Flat sky\")\n",
    "print(\n",
    "    f'Best fit mass for average redshift               = {fit_mean_z_flat[\"m\"]:.3e} +/- {fit_mean_z_flat[\"m_err\"]:.3e} Msun'\n",
    ")\n",
    "print(\n",
    "    f'Best fit mass for N(z) model                     = {fit_approx_flat[\"m\"]:.3e} +/- {fit_approx_flat[\"m_err\"]:.3e} Msun'\n",
    ")\n",
    "print(\n",
    "    f'Best fit mass for individual redshift and radius = {fit_exact_flat[\"m\"]:.3e} +/- {fit_exact_flat[\"m_err\"]:.3e} Msun'\n",
    ")\n",
    "print()\n",
    "print(\"Difference (Curve-Flat)\")\n",
    "print(\n",
    "    f'Best fit mass for average redshift               = {fit_mean_z_flat[\"m\"]-fit_mean_z[\"m\"]:.3e} Msun'\n",
    ")\n",
    "print(\n",
    "    f'Best fit mass for N(z) model                     = {fit_approx_flat[\"m\"]-fit_approx[\"m\"]:.3e} Msun'\n",
    ")\n",
    "print(\n",
    "    f'Best fit mass for individual redshift and radius = {fit_exact_flat[\"m\"]-fit_exact[\"m\"]:.3e} Msun'\n",
    ")"
   ]
  },
  {
   "cell_type": "markdown",
   "metadata": {},
   "source": [
    "## Reduced $\\chi$2"
   ]
  },
  {
   "cell_type": "code",
   "execution_count": null,
   "metadata": {},
   "outputs": [],
   "source": [
    "def get_predicted_shear(predict_function, fit_values):\n",
    "    gt_est = predict_function(data_for_fit, fit_values[\"logm\"])\n",
    "    gt_est_err = [\n",
    "        predict_function(data_for_fit, fit_values[\"logm\"] + i * fit_values[\"logm_err\"])\n",
    "        for i in (-3, 3)\n",
    "    ]\n",
    "    return gt_est, gt_est_err\n",
    "\n",
    "\n",
    "def chi2(predict_function, fit_values):\n",
    "    gt_mean_z, gt_err_mean_z = get_predicted_shear(predict_function, fit_values)\n",
    "    return np.sum((gt_mean_z - data_for_fit[\"gt\"]) ** 2 / (data_for_fit[\"gt_err\"]) ** 2) / (\n",
    "        len(data_for_fit) - 1\n",
    "    )"
   ]
  },
  {
   "cell_type": "code",
   "execution_count": null,
   "metadata": {},
   "outputs": [],
   "source": [
    "print(\"Curve sky\")\n",
    "print(\n",
    "    f\"Reduced chi2 (mean z model)           : {chi2(predict_reduced_tangential_shear_mean_z, fit_mean_z):.6f}\"\n",
    ")\n",
    "print(\n",
    "    f\"Reduced chi2 (N(z) model)             : {chi2(predict_reduced_tangential_shear_approx, fit_approx):.6f}\"\n",
    ")\n",
    "print(\n",
    "    f\"Reduced chi2 (individual (R,z) model) : {chi2(predict_reduced_tangential_shear_exact, fit_exact):.6f}\"\n",
    ")\n",
    "print()\n",
    "print(\"Flat sky\")\n",
    "print(\n",
    "    f\"Reduced chi2 (mean z model)           : {chi2(predict_reduced_tangential_shear_mean_z, fit_mean_z_flat):.6f}\"\n",
    ")\n",
    "print(\n",
    "    f\"Reduced chi2 (N(z) model)             : {chi2(predict_reduced_tangential_shear_approx, fit_approx_flat):.6f}\"\n",
    ")\n",
    "print(\n",
    "    f\"Reduced chi2 (individual (R,z) model) : {chi2(predict_reduced_tangential_shear_exact, fit_exact_flat):.6f}\"\n",
    ")"
   ]
  }
 ],
 "metadata": {
  "kernelspec": {
   "display_name": "Python 3 (ipykernel)",
   "language": "python",
   "name": "python3"
  },
  "language_info": {
   "codemirror_mode": {
    "name": "ipython",
    "version": 3
   },
   "file_extension": ".py",
   "mimetype": "text/x-python",
   "name": "python",
   "nbconvert_exporter": "python",
   "pygments_lexer": "ipython3",
   "version": "3.10.8"
  }
 },
 "nbformat": 4,
 "nbformat_minor": 4
}
