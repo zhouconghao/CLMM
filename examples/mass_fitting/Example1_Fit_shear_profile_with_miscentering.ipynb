{
 "cells": [
  {
   "cell_type": "markdown",
   "metadata": {},
   "source": [
    "# Example 1b: Impact of miscentering\n",
    "## Fit halo mass to shear profile ivestigating the impact of miscentering on shear profiles\n",
    "\n",
    "_the LSST-DESC CLMM team_\n",
    "\n",
    "This notebook demonstrates the impact of taking wrong cluster centers to construct and derive the mass from reduced shear profiles with`CLMM`. This notebook is based on notebook \"demo_dataops_functionality.ipynb\". \n"
   ]
  },
  {
   "cell_type": "code",
   "execution_count": null,
   "metadata": {},
   "outputs": [],
   "source": [
    "import matplotlib.pyplot as plt\n",
    "import clmm\n",
    "import clmm.dataops\n",
    "from clmm.dataops import compute_tangential_and_cross_components, make_radial_profile, make_bins\n",
    "from clmm.galaxycluster import GalaxyCluster\n",
    "import clmm.utils as u\n",
    "from clmm import Cosmology\n",
    "from clmm.support import mock_data as mock\n",
    "import clmm.galaxycluster as gc\n",
    "from numpy import random\n",
    "import numpy as np\n",
    "import clmm.dataops as da\n",
    "from clmm.support.sampler import fitters\n",
    "\n",
    "from astropy.coordinates import SkyCoord\n",
    "import astropy.units as u"
   ]
  },
  {
   "cell_type": "markdown",
   "metadata": {},
   "source": [
    "Make sure we know which version we're using"
   ]
  },
  {
   "cell_type": "code",
   "execution_count": null,
   "metadata": {},
   "outputs": [],
   "source": [
    "clmm.__version__"
   ]
  },
  {
   "cell_type": "markdown",
   "metadata": {},
   "source": [
    "### Define cosmology object"
   ]
  },
  {
   "cell_type": "code",
   "execution_count": null,
   "metadata": {},
   "outputs": [],
   "source": [
    "mock_cosmo = Cosmology(H0=70.0, Omega_dm0=0.27 - 0.045, Omega_b0=0.045, Omega_k0=0.0)\n",
    "np.random.seed(11)"
   ]
  },
  {
   "cell_type": "markdown",
   "metadata": {},
   "source": [
    "## 1. Generate cluster objects from mock data\n",
    "In this example, the mock data only include galaxies drawn from redshift distribution."
   ]
  },
  {
   "cell_type": "markdown",
   "metadata": {},
   "source": [
    "Define toy cluster parameters for mock data generation"
   ]
  },
  {
   "cell_type": "code",
   "execution_count": null,
   "metadata": {},
   "outputs": [],
   "source": [
    "cosmo = mock_cosmo\n",
    "cluster_id = \"Awesome_cluster\"\n",
    "cluster_m = 1.0e15\n",
    "cluster_z = 0.3\n",
    "concentration = 4\n",
    "ngal_density = 50  # gal/arcmin2\n",
    "cluster_ra = 20.0\n",
    "cluster_dec = 40.0\n",
    "zsrc_min = cluster_z + 0.1  # we only want to draw background galaxies\n",
    "field_size = 20  # Mpc\n",
    "\n",
    "ideal_data_z = mock.generate_galaxy_catalog(\n",
    "    cluster_m,\n",
    "    cluster_z,\n",
    "    concentration,\n",
    "    cosmo,\n",
    "    \"chang13\",\n",
    "    delta_so=200,\n",
    "    massdef=\"mean\",\n",
    "    zsrc_min=zsrc_min,\n",
    "    ngal_density=ngal_density,\n",
    "    cluster_ra=cluster_ra,\n",
    "    cluster_dec=cluster_dec,\n",
    "    field_size=field_size,\n",
    ")"
   ]
  },
  {
   "cell_type": "markdown",
   "metadata": {},
   "source": [
    "We want to load this mock data into several CLMM cluster objects, with cluster centers located in a 0.4 x 0.4 degrees windows around the original cluster position `(cluster_ra, cluster_dec)`. The user can change the number of cluster centers if desired. We set the first center to `(cluster_ra,cluster_dec)` for comparison reasons, which corresponds to a == 0 in the cell below."
   ]
  },
  {
   "cell_type": "code",
   "execution_count": null,
   "metadata": {},
   "outputs": [],
   "source": [
    "center_number = 5\n",
    "cluster_list = []\n",
    "coord = []\n",
    "\n",
    "for a in range(0, center_number):\n",
    "    if a == 0:\n",
    "        cluster_ra_new = cluster_ra\n",
    "        cluster_dec_new = cluster_dec\n",
    "    else:\n",
    "        cluster_ra_new = random.uniform(cluster_ra - 0.2, cluster_ra + 0.2)\n",
    "        cluster_dec_new = random.uniform(cluster_dec - 0.2, cluster_dec + 0.2)\n",
    "\n",
    "    cl = clmm.GalaxyCluster(cluster_id, cluster_ra_new, cluster_dec_new, cluster_z, ideal_data_z)\n",
    "\n",
    "    print(f\"Cluster info = ID: {cl.unique_id}; ra: {cl.ra:.2f}; dec: {cl.dec:.2f}; z_l: {cl.z}\")\n",
    "    print(f\"The number of source galaxies is : {len(cl.galcat)}\")\n",
    "\n",
    "    cluster_list.append(cl)\n",
    "    coord.append(SkyCoord(cl.ra * u.deg, cl.dec * u.deg))"
   ]
  },
  {
   "cell_type": "code",
   "execution_count": null,
   "metadata": {},
   "outputs": [],
   "source": [
    "# Offset of the different cluster centers from the position 0,0 (in degree)\n",
    "offset = [coord[0].separation(coord[i]).value for i in range(5)]"
   ]
  },
  {
   "cell_type": "markdown",
   "metadata": {},
   "source": [
    "## 2. Basic checks and plots \n",
    "- galaxy positions\n",
    "- redshift distribution\n",
    "\n",
    "For a better visualization, we plot all the different cluster centers, represented by the red dots."
   ]
  },
  {
   "cell_type": "code",
   "execution_count": null,
   "metadata": {},
   "outputs": [],
   "source": [
    "f, ax = plt.subplots(1, 2, figsize=(12, 4))\n",
    "\n",
    "for cl in cluster_list:\n",
    "    ax[0].scatter(cl.galcat[\"ra\"], cl.galcat[\"dec\"], color=\"blue\", s=1, alpha=0.3)\n",
    "    ax[0].plot(cl.ra, cl.dec, \"ro\")\n",
    "    ax[0].set_ylabel(\"dec\", fontsize=\"large\")\n",
    "    ax[0].set_xlabel(\"ra\", fontsize=\"large\")\n",
    "\n",
    "    hist = ax[1].hist(cl.galcat[\"z\"], bins=20)[0]\n",
    "\n",
    "    ax[1].axvline(cl.z, c=\"r\", ls=\"--\")\n",
    "    ax[1].set_xlabel(\"$z_{source}$\", fontsize=\"large\")\n",
    "    xt = {t: f\"{t}\" for t in ax[1].get_xticks() if t != 0}\n",
    "    xt[cl.z] = \"$z_{cl}$\"\n",
    "    xto = sorted(list(xt.keys()) + [cl.z])\n",
    "    ax[1].set_xticks(xto)\n",
    "    ax[1].set_xticklabels(xt[t] for t in xto)\n",
    "    ax[1].get_xticklabels()[xto.index(cl.z)].set_color(\"red\")\n",
    "    plt.xlim(0, max(xto))\n",
    "\n",
    "plt.show()"
   ]
  },
  {
   "cell_type": "markdown",
   "metadata": {},
   "source": [
    "## 3. Compute the center effect on the shear profiles\n",
    "\n",
    "Next, we generate the profiles for all the Cluster objects and save the profiles into a list. We also save the `gt`, `gx`, and `radius` columns of each `profile` into lists, so we can make a plot of these components. \n"
   ]
  },
  {
   "cell_type": "code",
   "execution_count": null,
   "metadata": {},
   "outputs": [],
   "source": [
    "bin_edges = make_bins(0.3, 6, 10)  # We want to specify the same bins for all the centers.\n",
    "\n",
    "profile_list = []\n",
    "\n",
    "for cl in cluster_list:\n",
    "    theta, e_t, e_x = compute_tangential_and_cross_components(\n",
    "        ra_lens=cl.ra,\n",
    "        dec_lens=cl.dec,\n",
    "        ra_source=cl.galcat[\"ra\"],\n",
    "        dec_source=cl.galcat[\"dec\"],\n",
    "        shear1=cl.galcat[\"e1\"],\n",
    "        shear2=cl.galcat[\"e2\"],\n",
    "    )\n",
    "    cl.compute_tangential_and_cross_components(add=True)\n",
    "    cl.make_radial_profile(\"Mpc\", cosmo=cosmo, bins=bin_edges, include_empty_bins=False)\n",
    "    profile_list.append(cl.profile)"
   ]
  },
  {
   "cell_type": "code",
   "execution_count": null,
   "metadata": {},
   "outputs": [],
   "source": [
    "fig = plt.figure(figsize=(10, 6))\n",
    "\n",
    "for a in range(0, len(profile_list)):\n",
    "    fig.gca().errorbar(\n",
    "        profile_list[a][\"radius\"],\n",
    "        profile_list[a][\"gt\"],\n",
    "        profile_list[a][\"gt_err\"],\n",
    "        linestyle=\"-\",\n",
    "        marker=\"o\",\n",
    "        label=f'offset = {\"{:.2f}\".format(offset[a])}°',\n",
    "    )\n",
    "\n",
    "plt.xlabel(\"log(radius)\", size=14)\n",
    "plt.ylabel(\"gt\", size=14)\n",
    "\n",
    "plt.legend()\n",
    "plt.show()"
   ]
  },
  {
   "cell_type": "code",
   "execution_count": null,
   "metadata": {},
   "outputs": [],
   "source": [
    "fig2 = plt.figure(figsize=(10, 6))\n",
    "\n",
    "for a in range(0, len(profile_list)):\n",
    "    fig2.gca().errorbar(\n",
    "        profile_list[a][\"radius\"],\n",
    "        profile_list[a][\"gx\"],\n",
    "        profile_list[a][\"gx_err\"],\n",
    "        linestyle=\"-\",\n",
    "        marker=\"o\",\n",
    "        label=f'offset = {\"{:.2f}\".format(offset[a])}°',\n",
    "    )\n",
    "\n",
    "plt.xlabel(\"log(radius)\", size=14)\n",
    "plt.ylabel(\"gx\", size=14)\n",
    "plt.legend(loc=4)\n",
    "\n",
    "plt.show()"
   ]
  },
  {
   "cell_type": "markdown",
   "metadata": {},
   "source": [
    "Since we consider GalaxyCluster objects with no shape noise or photo-z errors, the center (0,0) gives the expected result `gx = 0`, by construction. For the other cluster centers, we can see that the cross shear term average to zero as expected, but the profiles are noisier. "
   ]
  },
  {
   "cell_type": "markdown",
   "metadata": {},
   "source": [
    "## 4. Compute the center effect by fitting the Halo mass\n",
    "\n",
    "In this last step, we compute the fitting Halo mass with the `nfw` model and, using a plot, compare the impact of the Cluster centers on the weak lensing mass."
   ]
  },
  {
   "cell_type": "code",
   "execution_count": null,
   "metadata": {},
   "outputs": [],
   "source": [
    "from clmm.support.sampler import samplers"
   ]
  },
  {
   "cell_type": "markdown",
   "metadata": {},
   "source": [
    "The function below defines the Halo model. For further information, check the notebook \"Example2_Fit_Halo_Mass_to_Shear_Catalog.ipynb\" "
   ]
  },
  {
   "cell_type": "code",
   "execution_count": null,
   "metadata": {},
   "outputs": [],
   "source": [
    "logm_0 = random.uniform(13.0, 17.0, 1)[0]\n",
    "\n",
    "\n",
    "def shear_profile_model(r, logm, z_src):\n",
    "    m = 10.0**logm\n",
    "    gt_model = clmm.compute_reduced_tangential_shear(\n",
    "        r, m, concentration, cluster_z, z_src, cosmo, delta_mdef=200, halo_profile_model=\"nfw\"\n",
    "    )\n",
    "    return gt_model"
   ]
  },
  {
   "cell_type": "code",
   "execution_count": null,
   "metadata": {},
   "outputs": [],
   "source": [
    "for a in range(0, len(cluster_list)):\n",
    "    popt, pcov = fitters[\"curve_fit\"](\n",
    "        lambda r, logm: shear_profile_model(r, logm, profile_list[a][\"z\"]),\n",
    "        profile_list[a][\"radius\"],\n",
    "        profile_list[a][\"gt\"],\n",
    "        profile_list[a][\"gt_err\"],\n",
    "        bounds=[13.0, 17.0],\n",
    "    )\n",
    "\n",
    "    m_est1 = 10.0 ** popt[0]\n",
    "    m_est_err1 = (\n",
    "        m_est1 * np.sqrt(pcov[0][0]) * np.log(10)\n",
    "    )  # convert the error on logm to error on m\n",
    "\n",
    "    print(f\"The fitted mass is : {m_est1:.2e}, for the offset distance: {offset[a]:.2f} deg\")\n",
    "    plt.errorbar(\n",
    "        offset[a], m_est1, yerr=m_est_err1, fmt=\".\", color=\"black\", markersize=10\n",
    "    )  # , label=f'Offset:{\"{:.2f}\".format(offset[a])}°')\n",
    "\n",
    "plt.xlabel(\"offset [deg]\", size=12)\n",
    "plt.ylabel(\"fitted mass $M_{200,m}$ [M$_{\\odot}$]\", size=12)\n",
    "plt.yscale(\"log\")\n",
    "plt.ylim([5.0e12, 2.0e15])\n",
    "plt.axhline(cluster_m, label=\"input mass\")\n",
    "plt.legend(loc=\"best\")\n",
    "plt.show()"
   ]
  },
  {
   "cell_type": "markdown",
   "metadata": {},
   "source": [
    "We can see that for cluster centers differing from (0,0), we have a negative effect on the lensing mass, which increases with the offset distance."
   ]
  }
 ],
 "metadata": {
  "kernelspec": {
   "display_name": "Python 3 (ipykernel)",
   "language": "python",
   "name": "python3"
  },
  "language_info": {
   "codemirror_mode": {
    "name": "ipython",
    "version": 3
   },
   "file_extension": ".py",
   "mimetype": "text/x-python",
   "name": "python",
   "nbconvert_exporter": "python",
   "pygments_lexer": "ipython3",
   "version": "3.9.13"
  }
 },
 "nbformat": 4,
 "nbformat_minor": 4
}
