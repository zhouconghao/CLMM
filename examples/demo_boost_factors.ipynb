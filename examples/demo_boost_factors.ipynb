{
 "cells": [
  {
   "cell_type": "markdown",
   "metadata": {},
   "source": [
    "# Boost factors"
   ]
  },
  {
   "cell_type": "code",
   "execution_count": null,
   "metadata": {},
   "outputs": [],
   "source": [
    "import clmm\n",
    "from clmm import Cosmology\n",
    "from clmm.support import mock_data as mock\n",
    "from clmm.galaxycluster import GalaxyCluster\n",
    "import matplotlib.pyplot as plt\n",
    "import sys\n",
    "import clmm.utils as u"
   ]
  },
  {
   "cell_type": "markdown",
   "metadata": {},
   "source": [
    "Make sure we know which version we're using"
   ]
  },
  {
   "cell_type": "code",
   "execution_count": null,
   "metadata": {},
   "outputs": [],
   "source": [
    "clmm.__version__"
   ]
  },
  {
   "cell_type": "markdown",
   "metadata": {},
   "source": [
    "### Define cosmology object"
   ]
  },
  {
   "cell_type": "code",
   "execution_count": null,
   "metadata": {},
   "outputs": [],
   "source": [
    "mock_cosmo = Cosmology(H0=70.0, Omega_dm0=0.27 - 0.045, Omega_b0=0.045, Omega_k0=0.0)"
   ]
  },
  {
   "cell_type": "markdown",
   "metadata": {},
   "source": [
    "First, we want to generate a $\\Delta\\Sigma$ (excess surface density) profile from mock data, to which we can apply boost factors. The mock data is generated in the following cells."
   ]
  },
  {
   "cell_type": "markdown",
   "metadata": {},
   "source": [
    "Generate cluster object from mock data"
   ]
  },
  {
   "cell_type": "code",
   "execution_count": null,
   "metadata": {},
   "outputs": [],
   "source": [
    "cosmo = mock_cosmo\n",
    "cluster_id = \"Awesome_cluster\"\n",
    "cluster_m = 1.0e15\n",
    "cluster_z = 0.3\n",
    "concentration = 4\n",
    "ngals = 1000\n",
    "\n",
    "zsrc_min = cluster_z + 0.1  # we only want to draw background galaxies\n",
    "\n",
    "noisy_data_z = mock.generate_galaxy_catalog(\n",
    "    cluster_m,\n",
    "    cluster_z,\n",
    "    concentration,\n",
    "    cosmo,\n",
    "    \"chang13\",\n",
    "    zsrc_min=zsrc_min,\n",
    "    shapenoise=0.005,\n",
    "    photoz_sigma_unscaled=0.05,\n",
    "    ngals=ngals,\n",
    ")"
   ]
  },
  {
   "cell_type": "markdown",
   "metadata": {},
   "source": [
    "Loading this into a CLMM cluster object centered on (0,0)"
   ]
  },
  {
   "cell_type": "code",
   "execution_count": null,
   "metadata": {},
   "outputs": [],
   "source": [
    "cluster_ra = 0.0\n",
    "cluster_dec = 0.0\n",
    "cl = GalaxyCluster(cluster_id, cluster_ra, cluster_dec, cluster_z, noisy_data_z)"
   ]
  },
  {
   "cell_type": "markdown",
   "metadata": {},
   "source": [
    "Compute cross and tangential excess surface density for each source galaxy"
   ]
  },
  {
   "cell_type": "code",
   "execution_count": null,
   "metadata": {},
   "outputs": [],
   "source": [
    "_ = cl.compute_tangential_and_cross_components(\n",
    "    geometry=\"flat\",\n",
    "    shape_component1=\"e1\",\n",
    "    shape_component2=\"e2\",\n",
    "    tan_component=\"DeltaSigma_tan\",\n",
    "    cross_component=\"DeltaSigma_cross\",\n",
    "    add=True,\n",
    "    cosmo=cosmo,\n",
    "    is_deltasigma=True,\n",
    ")"
   ]
  },
  {
   "cell_type": "markdown",
   "metadata": {},
   "source": [
    "Calculate the binned profile"
   ]
  },
  {
   "cell_type": "code",
   "execution_count": null,
   "metadata": {},
   "outputs": [],
   "source": [
    "cl.make_radial_profile(\n",
    "    \"kpc\",\n",
    "    cosmo=cosmo,\n",
    "    tan_component_in=\"DeltaSigma_tan\",\n",
    "    cross_component_in=\"DeltaSigma_cross\",\n",
    "    tan_component_out=\"DeltaSigma_tan\",\n",
    "    cross_component_out=\"DeltaSigma_cross\",\n",
    "    table_name=\"DeltaSigma_profile\",\n",
    ")\n",
    "# Format columns for display\n",
    "for col in cl.DeltaSigma_profile.colnames:\n",
    "    fmt = cl.DeltaSigma_profile[col].info.format\n",
    "    if \"DeltaSigma\" in col:\n",
    "        fmt = \".2e\"\n",
    "    elif any(typ in col for typ in (\"z\", \"radius\")):\n",
    "        fmt = \".2f\"\n",
    "    cl.DeltaSigma_profile[col].info.format = fmt\n",
    "# Show\n",
    "cl.DeltaSigma_profile.show_in_notebook()"
   ]
  },
  {
   "cell_type": "markdown",
   "metadata": {},
   "source": [
    "Plot the $\\Delta\\Sigma$ profile"
   ]
  },
  {
   "cell_type": "code",
   "execution_count": null,
   "metadata": {},
   "outputs": [],
   "source": [
    "plt.errorbar(\n",
    "    cl.DeltaSigma_profile[\"radius\"],\n",
    "    cl.DeltaSigma_profile[\"DeltaSigma_tan\"],\n",
    "    cl.DeltaSigma_profile[\"DeltaSigma_tan_err\"],\n",
    "    marker=\"o\",\n",
    ")\n",
    "\n",
    "plt.title(\"DeltaSigma profile\")\n",
    "plt.xlabel(\"Radius [kpc]\")\n",
    "plt.ylabel(\"$\\Delta\\Sigma [M_\\odot\\; Mpc^{-2}]$\")\n",
    "\n",
    "plt.show()"
   ]
  },
  {
   "cell_type": "markdown",
   "metadata": {},
   "source": [
    "## Boost Factors"
   ]
  },
  {
   "cell_type": "markdown",
   "metadata": {},
   "source": [
    "CLMM offers two boost models, the NFW boost model, and a powerlaw boost model. \n",
    "\n",
    "Note that `compute_nfw_boost` requires two parameters to be specified, `rs` and `b0`, and `compute_powerlaw_boost` requires three paramters, `rs`, `b0` and `alpha`. The default values are in kpc. \n",
    "\n",
    "Details on these boost models can be found [here](https://cluster-toolkit.readthedocs.io/en/latest/source/boostfactors.html)\n",
    "\n",
    "First, we can calculate the boost factors from the two models."
   ]
  },
  {
   "cell_type": "code",
   "execution_count": null,
   "metadata": {},
   "outputs": [],
   "source": [
    "nfw_boost = u.compute_nfw_boost(cl.DeltaSigma_profile[\"radius\"], rscale=1000, boost0=0.1)\n",
    "\n",
    "powerlaw_boost = u.compute_powerlaw_boost(\n",
    "    cl.DeltaSigma_profile[\"radius\"], rscale=1000, boost0=0.1, alpha=-1.0\n",
    ")"
   ]
  },
  {
   "cell_type": "markdown",
   "metadata": {},
   "source": [
    "Plot the two boost factors, $B(R)$"
   ]
  },
  {
   "cell_type": "code",
   "execution_count": null,
   "metadata": {},
   "outputs": [],
   "source": [
    "plt.plot(cl.DeltaSigma_profile[\"radius\"], nfw_boost, label=\"NFW boost factor\")\n",
    "plt.plot(cl.DeltaSigma_profile[\"radius\"], powerlaw_boost, label=\"Powerlaw boost factor\")\n",
    "plt.xlabel(\"Radius [kpc]\")\n",
    "plt.ylabel(\"$B(R)$\")\n",
    "plt.legend()\n",
    "plt.show()"
   ]
  },
  {
   "cell_type": "markdown",
   "metadata": {},
   "source": [
    "The $\\Delta\\Sigma$ profiles can be corrected with the boost factor using `correct_sigma_with_boost_values` or `correct_sigma_with_boost_model`. \n",
    "\n",
    "`correct_sigma_with_boost_values` requires us to precompute the boost factor, e.g. using `compute_nfw_boost`.\n",
    "`correct_sigma_with_boost_model` simply requires us to specify the boost model."
   ]
  },
  {
   "cell_type": "markdown",
   "metadata": {},
   "source": [
    "\n",
    "Note that the boost factor can be used in one of two ways.\n",
    "\n",
    "Either the boost factor can be applied to the observed data vector to correct for the dilution of the signal by cluster member galaxies. In this case the amplitude of the corrected profile will increase.\n",
    "\n",
    "Or the boost factor can be applied to the model prediction. In this case it behaves as a dilution factor, and the resulting model prediction will be lower than the original one.\n",
    "\n",
    "Both scenarios will improve the agreement between the mock data and observed data, by accounting for cluster member galaxy contamination.\n",
    "\n",
    "In this notebook, we use the second approach, where the data is generated using mock data that does not account for dilution until the boost factor is applied. The corrected profiles from the mock data are lower than the uncorrected one.\n",
    "\n",
    "Essentially we are diluting the mock profile to mimick the effect of contamination by cluster members.\n",
    "\n"
   ]
  },
  {
   "cell_type": "markdown",
   "metadata": {},
   "source": [
    "First we will apply the boost factor with `correct_sigma_with_boost_values`"
   ]
  },
  {
   "cell_type": "code",
   "execution_count": null,
   "metadata": {},
   "outputs": [],
   "source": [
    "Sigma_corrected_powerlaw_boost = u.correct_sigma_with_boost_values(\n",
    "    cl.DeltaSigma_profile[\"DeltaSigma_tan\"], powerlaw_boost\n",
    ")\n",
    "Sigma_corrected_nfw_boost = u.correct_sigma_with_boost_values(\n",
    "    cl.DeltaSigma_profile[\"DeltaSigma_tan\"], nfw_boost\n",
    ")"
   ]
  },
  {
   "cell_type": "markdown",
   "metadata": {},
   "source": [
    "Plot the result"
   ]
  },
  {
   "cell_type": "code",
   "execution_count": null,
   "metadata": {},
   "outputs": [],
   "source": [
    "plt.errorbar(\n",
    "    cl.DeltaSigma_profile[\"radius\"],\n",
    "    Sigma_corrected_nfw_boost,\n",
    "    cl.DeltaSigma_profile[\"DeltaSigma_tan_err\"],\n",
    "    marker=\"o\",\n",
    "    label=\"$\\Delta \\Sigma$ / NFW boost factor\",\n",
    ")\n",
    "\n",
    "plt.errorbar(\n",
    "    cl.DeltaSigma_profile[\"radius\"],\n",
    "    Sigma_corrected_powerlaw_boost,\n",
    "    cl.DeltaSigma_profile[\"DeltaSigma_tan_err\"],\n",
    "    marker=\"o\",\n",
    "    label=\"$\\Delta \\Sigma$ / Powerlaw boost factor\",\n",
    ")\n",
    "\n",
    "plt.errorbar(\n",
    "    cl.DeltaSigma_profile[\"radius\"],\n",
    "    cl.DeltaSigma_profile[\"DeltaSigma_tan\"],\n",
    "    cl.DeltaSigma_profile[\"DeltaSigma_tan_err\"],\n",
    "    marker=\"o\",\n",
    "    label=\"uncorrected $\\Delta \\Sigma$\",\n",
    "    color=\"grey\",\n",
    ")\n",
    "\n",
    "# plt.loglog()\n",
    "plt.title(\"DeltaSigma profile\")\n",
    "plt.xlabel(\"Radius [kpc]\")\n",
    "plt.ylabel(\"$\\Delta\\Sigma [M_\\odot\\; Mpc^{-2}]$\")\n",
    "plt.legend()\n",
    "plt.show()"
   ]
  },
  {
   "cell_type": "markdown",
   "metadata": {},
   "source": [
    "Now the same again but with `correct_sigma_with_boost_model`"
   ]
  },
  {
   "cell_type": "code",
   "execution_count": null,
   "metadata": {},
   "outputs": [],
   "source": [
    "Sigma_corrected_powerlaw_boost = u.correct_sigma_with_boost_model(\n",
    "    cl.DeltaSigma_profile[\"radius\"],\n",
    "    cl.DeltaSigma_profile[\"DeltaSigma_tan\"],\n",
    "    boost_model=\"powerlaw_boost\",\n",
    ")\n",
    "Sigma_corrected_nfw_boost = u.correct_sigma_with_boost_model(\n",
    "    cl.DeltaSigma_profile[\"radius\"],\n",
    "    cl.DeltaSigma_profile[\"DeltaSigma_tan\"],\n",
    "    boost_model=\"nfw_boost\",\n",
    ")\n",
    "\n",
    "plt.errorbar(\n",
    "    cl.DeltaSigma_profile[\"radius\"],\n",
    "    Sigma_corrected_nfw_boost,\n",
    "    cl.DeltaSigma_profile[\"DeltaSigma_tan_err\"],\n",
    "    marker=\"o\",\n",
    "    label=\"$\\Delta \\Sigma$ / NFW boost factor\",\n",
    ")\n",
    "\n",
    "plt.errorbar(\n",
    "    cl.DeltaSigma_profile[\"radius\"],\n",
    "    Sigma_corrected_powerlaw_boost,\n",
    "    cl.DeltaSigma_profile[\"DeltaSigma_tan_err\"],\n",
    "    marker=\"o\",\n",
    "    label=\"$\\Delta \\Sigma$ / Powerlaw boost factor\",\n",
    ")\n",
    "\n",
    "plt.errorbar(\n",
    "    cl.DeltaSigma_profile[\"radius\"],\n",
    "    cl.DeltaSigma_profile[\"DeltaSigma_tan\"],\n",
    "    cl.DeltaSigma_profile[\"DeltaSigma_tan_err\"],\n",
    "    marker=\"o\",\n",
    "    label=\"uncorrected $\\Delta \\Sigma$\",\n",
    "    color=\"grey\",\n",
    ")\n",
    "\n",
    "# plt.loglog()\n",
    "plt.title(\"DeltaSigma profile\")\n",
    "plt.xlabel(\"Radius [kpc]\")\n",
    "plt.ylabel(\"$\\Delta\\Sigma [M_\\odot\\; Mpc^{-2}]$\")\n",
    "plt.legend()\n",
    "plt.show()"
   ]
  }
 ],
 "metadata": {
  "kernelspec": {
   "display_name": "Python 3",
   "language": "python",
   "name": "python3"
  },
  "language_info": {
   "codemirror_mode": {
    "name": "ipython",
    "version": 3
   },
   "file_extension": ".py",
   "mimetype": "text/x-python",
   "name": "python",
   "nbconvert_exporter": "python",
   "pygments_lexer": "ipython3",
   "version": "3.6.9"
  }
 },
 "nbformat": 4,
 "nbformat_minor": 5
}
