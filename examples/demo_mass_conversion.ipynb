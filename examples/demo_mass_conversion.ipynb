{
 "cells": [
  {
   "cell_type": "markdown",
   "metadata": {},
   "source": [
    "# Mass conversion between different mass definitions\n",
    "## Mass conversion between spherical overdensity mass definitions\n",
    "\n",
    "In this notebook, we demonstrates how to convert the mass and concentration between various mass definitions (going from $200m$ to $500c$ in this example), and related functionalities, using both the object-oriented and functional interfaces of the code."
   ]
  },
  {
   "cell_type": "code",
   "execution_count": null,
   "metadata": {},
   "outputs": [],
   "source": [
    "import os\n",
    "\n",
    "os.environ[\n",
    "    \"CLMM_MODELING_BACKEND\"\n",
    "] = \"ccl\"  # here you may choose ccl, nc (NumCosmo) or ct (cluster_toolkit)\n",
    "import clmm\n",
    "import numpy as np\n",
    "import matplotlib.pyplot as plt"
   ]
  },
  {
   "cell_type": "markdown",
   "metadata": {},
   "source": [
    "We define a cosmology first:"
   ]
  },
  {
   "cell_type": "code",
   "execution_count": null,
   "metadata": {},
   "outputs": [],
   "source": [
    "cosmo = clmm.Cosmology(H0=70.0, Omega_dm0=0.27 - 0.045, Omega_b0=0.045, Omega_k0=0.0)"
   ]
  },
  {
   "cell_type": "markdown",
   "metadata": {},
   "source": [
    "## Create a `CLMM` Modeling object"
   ]
  },
  {
   "cell_type": "markdown",
   "metadata": {},
   "source": [
    "### Define a mass profile for a given SOD definition"
   ]
  },
  {
   "cell_type": "markdown",
   "metadata": {},
   "source": [
    "We define halo parameters following the $200m$ overdensity definition:\n",
    "1. the mass $M_{200m}$ \n",
    "2. the concentration $c_{200m}$"
   ]
  },
  {
   "cell_type": "code",
   "execution_count": null,
   "metadata": {},
   "outputs": [],
   "source": [
    "# first SOD definition\n",
    "M1 = 1e14\n",
    "c1 = 3\n",
    "massdef1 = \"mean\"\n",
    "delta_mdef1 = 200\n",
    "# cluster redshift\n",
    "z_cl = 0.4"
   ]
  },
  {
   "cell_type": "code",
   "execution_count": null,
   "metadata": {},
   "outputs": [],
   "source": [
    "# create a clmm Modeling object for each profile parametrisation\n",
    "nfw_def1 = clmm.Modeling(massdef=massdef1, delta_mdef=delta_mdef1, halo_profile_model=\"nfw\")\n",
    "her_def1 = clmm.Modeling(massdef=massdef1, delta_mdef=delta_mdef1, halo_profile_model=\"hernquist\")\n",
    "ein_def1 = clmm.Modeling(massdef=massdef1, delta_mdef=delta_mdef1, halo_profile_model=\"einasto\")\n",
    "\n",
    "# set the properties of the profiles\n",
    "nfw_def1.set_mass(M1)\n",
    "nfw_def1.set_concentration(c1)\n",
    "nfw_def1.set_cosmo(cosmo)\n",
    "\n",
    "her_def1.set_mass(M1)\n",
    "her_def1.set_concentration(c1)\n",
    "her_def1.set_cosmo(cosmo)\n",
    "\n",
    "ein_def1.set_mass(M1)\n",
    "ein_def1.set_concentration(c1)\n",
    "ein_def1.set_cosmo(cosmo)"
   ]
  },
  {
   "cell_type": "markdown",
   "metadata": {},
   "source": [
    "## Compute the enclosed mass in a given radius\n",
    "Calculate the enclosed masses within r with the class method `eval_mass_in_radius`. The calculation can also be done in the functional interface with `compute_profile_mass_in_radius`.\n",
    "\n",
    "The enclosed mass is calculated as\n",
    "$$\n",
    "M(<\\text{r}) = M_{\\Delta}\\;\\frac{f\\left(\\frac{\\text{r}}{r_{\\Delta}/c_{\\Delta}}\\right)}{f(c_{\\Delta})},\n",
    "$$\n",
    "\n",
    "where $f(x)$ for the different models are\n",
    "\n",
    "- $\\text{NFW}:\\quad \\ln(1+x)-\\frac{x}{1+x}$\n",
    "- $\\text{Einasto}:\\quad \\gamma\\left(\\frac{3}{\\alpha}, \\frac{2}{\\alpha}x^{\\alpha}\\right)\\quad \\; (\\gamma\\text{ is the lower incomplete gamma function},\\; \\alpha\\text{ is the index of the Einasto profile})$\n",
    "- $\\text{Hernquist}:\\quad \\left(\\frac{x}{1+x}\\right)^2$\n"
   ]
  },
  {
   "cell_type": "code",
   "execution_count": null,
   "metadata": {},
   "outputs": [],
   "source": [
    "r = np.logspace(-2, 0.4, 100)\n",
    "# object oriented\n",
    "nfw_def1_enclosed_oo = nfw_def1.eval_mass_in_radius(r3d=r, z_cl=z_cl)\n",
    "her_def1_enclosed_oo = her_def1.eval_mass_in_radius(r3d=r, z_cl=z_cl)\n",
    "ein_def1_enclosed_oo = ein_def1.eval_mass_in_radius(r3d=r, z_cl=z_cl)\n",
    "\n",
    "# functional\n",
    "nfw_def1_enclosed = clmm.compute_profile_mass_in_radius(\n",
    "    r3d=r,\n",
    "    redshift=z_cl,\n",
    "    cosmo=cosmo,\n",
    "    mdelta=M1,\n",
    "    cdelta=c1,\n",
    "    massdef=massdef1,\n",
    "    delta_mdef=delta_mdef1,\n",
    "    halo_profile_model=\"nfw\",\n",
    ")\n",
    "her_def1_enclosed = clmm.compute_profile_mass_in_radius(\n",
    "    r3d=r,\n",
    "    redshift=z_cl,\n",
    "    cosmo=cosmo,\n",
    "    mdelta=M1,\n",
    "    cdelta=c1,\n",
    "    massdef=massdef1,\n",
    "    delta_mdef=delta_mdef1,\n",
    "    halo_profile_model=\"hernquist\",\n",
    ")\n",
    "ein_def1_enclosed = clmm.compute_profile_mass_in_radius(\n",
    "    r3d=r,\n",
    "    redshift=z_cl,\n",
    "    cosmo=cosmo,\n",
    "    mdelta=M1,\n",
    "    cdelta=c1,\n",
    "    massdef=massdef1,\n",
    "    delta_mdef=delta_mdef1,\n",
    "    halo_profile_model=\"einasto\",\n",
    "    alpha=ein_def1.get_einasto_alpha(z_cl),\n",
    ")"
   ]
  },
  {
   "cell_type": "markdown",
   "metadata": {},
   "source": [
    "Sanity check: comparison of the results given by the object-oriented and functional interface"
   ]
  },
  {
   "cell_type": "code",
   "execution_count": null,
   "metadata": {},
   "outputs": [],
   "source": [
    "fig = plt.figure(figsize=(8, 6))\n",
    "fig.gca().loglog(r, nfw_def1_enclosed, label=\" NFW functional\")\n",
    "fig.gca().loglog(r, nfw_def1_enclosed_oo, ls=\"--\", label=\" NFW object oriented\")\n",
    "fig.gca().loglog(r, her_def1_enclosed, label=\"Hernquist functional\")\n",
    "fig.gca().loglog(r, her_def1_enclosed_oo, ls=\"--\", label=\"Hernquist object oriented\")\n",
    "fig.gca().loglog(r, ein_def1_enclosed, label=\"Einasto functional\")\n",
    "fig.gca().loglog(r, ein_def1_enclosed_oo, ls=\"--\", label=\"Einasto object oriented\")\n",
    "fig.gca().set_xlabel(r\"$r\\ [Mpc]$\", fontsize=20)\n",
    "fig.gca().set_ylabel(r\"$M(<r)\\ [M_\\odot]$\", fontsize=20)\n",
    "fig.gca().legend()\n",
    "plt.show()"
   ]
  },
  {
   "cell_type": "markdown",
   "metadata": {},
   "source": [
    "## Compute the spherical overdensity radius\n",
    "We can also compute the spherical overdensity radius, $r_{200m}$ with `eval_rdelta` (resp. `compute_rdelta`) in the object oriented (resp. functional) interface as follows:"
   ]
  },
  {
   "cell_type": "code",
   "execution_count": null,
   "metadata": {},
   "outputs": [],
   "source": [
    "## OO interface\n",
    "r200m_oo = nfw_def1.eval_rdelta(z_cl)\n",
    "\n",
    "# functional interface\n",
    "r200m = clmm.compute_rdelta(\n",
    "    mdelta=M1, redshift=z_cl, cosmo=cosmo, massdef=massdef1, delta_mdef=delta_mdef1\n",
    ")\n",
    "\n",
    "print(f\"r200m_oo = {r200m_oo} Mpc\")\n",
    "print(f\"r200m = {r200m} Mpc\")"
   ]
  },
  {
   "cell_type": "markdown",
   "metadata": {},
   "source": [
    "## Conversion to another SOD definition (here we choose 500c)\n"
   ]
  },
  {
   "cell_type": "code",
   "execution_count": null,
   "metadata": {},
   "outputs": [],
   "source": [
    "# New SOD definition\n",
    "massdef2 = \"critical\"\n",
    "delta_mdef2 = 500"
   ]
  },
  {
   "cell_type": "markdown",
   "metadata": {},
   "source": [
    "To find $M_2$ and $c_2$ of the second SOD definition, we solve the system of equations:\n",
    "- $M_{M_1, c_1}(r_1) = M_{M_2, c_2}(r_1)$\n",
    "- $M_{M_1, c_1}(r_2) = M_{M_2, c_2}(r_2)$\n",
    "\n",
    "where $M_{M_i, c_i}(r)$ is the mass enclosed within a sphere of radius $r$ specified by the overdensity mass $M_i$ and concentration $c_i$. Here, $r_i$ is chosen to be the overdensity radius $r_{\\Delta_i}$ of the $i$th overdensity definition, which is calculated with\n",
    "$$\n",
    "r_{\\Delta_i} = \\left(\\frac{3M_{\\Delta_i}}{4\\pi \\Delta_i \\rho_{\\text{bckgd},i}}\\right)^{1/3}\n",
    "$$\n",
    "By identifying $M_{M_i, c_i}(r_i) = M_{\\Delta_i}$ we now have two equations with two unknowns, $M_2$ and $c_2$:\n",
    "- $M_1 = M_{M_2, c_2}(r_1)$\n",
    "- $M_{M_1, c_1}(r_2) = M_2$"
   ]
  },
  {
   "cell_type": "markdown",
   "metadata": {},
   "source": [
    "The conversion can be done by the `convert_mass_concentration` method of a modeling object and the output is the mass and concentration in the second SOD definition."
   ]
  },
  {
   "cell_type": "code",
   "execution_count": null,
   "metadata": {},
   "outputs": [],
   "source": [
    "M2_nfw_oo, c2_nfw_oo = nfw_def1.convert_mass_concentration(\n",
    "    z_cl=z_cl, massdef=massdef2, delta_mdef=delta_mdef2\n",
    ")\n",
    "M2_her_oo, c2_her_oo = her_def1.convert_mass_concentration(\n",
    "    z_cl=z_cl, massdef=massdef2, delta_mdef=delta_mdef2\n",
    ")\n",
    "M2_ein_oo, c2_ein_oo = ein_def1.convert_mass_concentration(\n",
    "    z_cl=z_cl, massdef=massdef2, delta_mdef=delta_mdef2\n",
    ")\n",
    "\n",
    "print(f\"NFW: M2 = {M2_nfw_oo:.2e} M_sun, c2 = {c2_nfw_oo:.2f}\")\n",
    "print(f\"HER: M2 = {M2_her_oo:.2e} M_sun, c2 = {c2_her_oo:.2f}\")\n",
    "print(f\"EIN: M2 = {M2_ein_oo:.2e} M_sun, c2 = {c2_ein_oo:.2f}\")"
   ]
  },
  {
   "cell_type": "markdown",
   "metadata": {},
   "source": [
    "Similarly, there is functional interface to do the conversion (only showing it for NFW below)"
   ]
  },
  {
   "cell_type": "code",
   "execution_count": null,
   "metadata": {
    "tags": []
   },
   "outputs": [],
   "source": [
    "M2, c2 = clmm.convert_profile_mass_concentration(\n",
    "    mdelta=M1,\n",
    "    cdelta=c1,\n",
    "    redshift=z_cl,\n",
    "    cosmo=cosmo,\n",
    "    massdef=massdef1,\n",
    "    delta_mdef=delta_mdef1,\n",
    "    halo_profile_model=\"nfw\",\n",
    "    massdef2=massdef2,\n",
    "    delta_mdef2=delta_mdef2,\n",
    ")\n",
    "print(f\"NFW: M2 = {M2_nfw_oo:.2e} M_sun, c2 = {c2_nfw_oo:.2f}\")"
   ]
  },
  {
   "cell_type": "markdown",
   "metadata": {},
   "source": [
    "## Check conversion by looking at the enclosed mass\n",
    "\n",
    "To test the conversion method, we plot the relative difference for the enclosed mass between the two mass definitions.\n",
    "    $$\n",
    "    \\left|\\frac{M_{M_2, c_2}(<r)}{M_{M_1, c_1}(<r)}-1\\right|\n",
    "    $$"
   ]
  },
  {
   "cell_type": "code",
   "execution_count": null,
   "metadata": {},
   "outputs": [],
   "source": [
    "r = np.logspace(-3, 1, 100)\n",
    "nfw_def2_enclosed = clmm.compute_profile_mass_in_radius(\n",
    "    r3d=r,\n",
    "    redshift=z_cl,\n",
    "    cosmo=cosmo,\n",
    "    mdelta=M2,\n",
    "    cdelta=c2,\n",
    "    massdef=massdef2,\n",
    "    delta_mdef=delta_mdef2,\n",
    "    halo_profile_model=\"nfw\",\n",
    ")\n",
    "her_def2_enclosed = clmm.compute_profile_mass_in_radius(\n",
    "    r3d=r,\n",
    "    redshift=z_cl,\n",
    "    cosmo=cosmo,\n",
    "    mdelta=M2_her_oo,\n",
    "    cdelta=c2_her_oo,\n",
    "    massdef=massdef2,\n",
    "    delta_mdef=delta_mdef2,\n",
    "    halo_profile_model=\"hernquist\",\n",
    ")\n",
    "ein_def2_enclosed = clmm.compute_profile_mass_in_radius(\n",
    "    r3d=r,\n",
    "    redshift=z_cl,\n",
    "    cosmo=cosmo,\n",
    "    mdelta=M2_ein_oo,\n",
    "    cdelta=c2_ein_oo,\n",
    "    massdef=massdef2,\n",
    "    delta_mdef=delta_mdef2,\n",
    "    halo_profile_model=\"einasto\",\n",
    "    alpha=ein_def1.get_einasto_alpha(z_cl),\n",
    ")\n",
    "\n",
    "fig2 = plt.figure(figsize=(8, 6))\n",
    "fig2.gca().loglog(\n",
    "    r, abs(nfw_def2_enclosed / nfw_def1.eval_mass_in_radius(r, z_cl) - 1), ls=\"-\", label=\"nfw\"\n",
    ")\n",
    "fig2.gca().loglog(\n",
    "    r, abs(her_def2_enclosed / her_def1.eval_mass_in_radius(r, z_cl) - 1), ls=\"-\", label=\"hernquist\"\n",
    ")\n",
    "fig2.gca().loglog(\n",
    "    r, abs(ein_def2_enclosed / ein_def1.eval_mass_in_radius(r, z_cl) - 1), ls=\"-\", label=\"einasto\"\n",
    ")\n",
    "fig2.gca().set_xlabel(\"r [Mpc]\", fontsize=20)\n",
    "fig2.gca().set_ylabel(r\"relative difference\", fontsize=20)\n",
    "fig2.gca().legend()\n",
    "plt.show()"
   ]
  }
 ],
 "metadata": {
  "kernelspec": {
   "display_name": "Python 3",
   "language": "python",
   "name": "python3"
  },
  "language_info": {
   "codemirror_mode": {
    "name": "ipython",
    "version": 3
   },
   "file_extension": ".py",
   "mimetype": "text/x-python",
   "name": "python",
   "nbconvert_exporter": "python",
   "pygments_lexer": "ipython3",
   "version": "3.6.9"
  }
 },
 "nbformat": 4,
 "nbformat_minor": 4
}
