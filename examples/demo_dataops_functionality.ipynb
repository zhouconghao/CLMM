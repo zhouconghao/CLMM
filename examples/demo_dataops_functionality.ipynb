{
 "cells": [
  {
   "cell_type": "markdown",
   "metadata": {},
   "source": [
    "# Measure WL Profiles"
   ]
  },
  {
   "cell_type": "markdown",
   "metadata": {},
   "source": [
    "## Note\n",
    "\n",
    "All functions in this section can be used passing the explicit arguments but are also internal functions of the cluster object, and should be used as such. They are just explicitely used here for clarity.\n",
    "\n",
    "Ex:\n",
    "\n",
    "```\n",
    "theta, g_t, g_x = compute_tangential_and_cross_components(ra_lens, dec_lens,\n",
    "                ra_source, dec_source, shear1, shear2)\n",
    "```\n",
    "\n",
    "should be done by the user as:\n",
    "\n",
    "```\n",
    "theta, g_t, g_x = cl.compute_tangential_and_cross_components()\n",
    "```"
   ]
  },
  {
   "cell_type": "code",
   "execution_count": null,
   "metadata": {},
   "outputs": [],
   "source": [
    "import matplotlib.pyplot as plt\n",
    "import numpy as np\n",
    "import clmm\n",
    "import clmm.dataops\n",
    "from clmm.dataops import compute_tangential_and_cross_components, make_radial_profile, make_bins\n",
    "from clmm.galaxycluster import GalaxyCluster\n",
    "import clmm.utils as u\n",
    "from clmm import Cosmology\n",
    "from clmm.support import mock_data as mock"
   ]
  },
  {
   "cell_type": "markdown",
   "metadata": {},
   "source": [
    "Make sure we know which version we're using"
   ]
  },
  {
   "cell_type": "code",
   "execution_count": null,
   "metadata": {},
   "outputs": [],
   "source": [
    "clmm.__version__"
   ]
  },
  {
   "cell_type": "markdown",
   "metadata": {},
   "source": [
    "Define random seed for reproducibility"
   ]
  },
  {
   "cell_type": "code",
   "execution_count": null,
   "metadata": {},
   "outputs": [],
   "source": [
    "np.random.seed(11)"
   ]
  },
  {
   "cell_type": "markdown",
   "metadata": {},
   "source": [
    "### Define cosmology object"
   ]
  },
  {
   "cell_type": "code",
   "execution_count": null,
   "metadata": {},
   "outputs": [],
   "source": [
    "mock_cosmo = Cosmology(H0=70.0, Omega_dm0=0.27 - 0.045, Omega_b0=0.045, Omega_k0=0.0)"
   ]
  },
  {
   "cell_type": "markdown",
   "metadata": {},
   "source": [
    "## 1. Generate cluster object from mock data\n",
    "In this example, the mock data includes: shape noise, galaxies drawn from redshift distribution and photoz errors."
   ]
  },
  {
   "cell_type": "markdown",
   "metadata": {},
   "source": [
    "Define toy cluster parameters for mock data generation"
   ]
  },
  {
   "cell_type": "code",
   "execution_count": null,
   "metadata": {},
   "outputs": [],
   "source": [
    "cosmo = mock_cosmo\n",
    "cluster_id = \"Awesome_cluster\"\n",
    "cluster_m = 1.0e15\n",
    "cluster_z = 0.3\n",
    "concentration = 4\n",
    "ngals = 10000\n",
    "\n",
    "cluster_ra = 0.0\n",
    "cluster_dec = 90.0\n",
    "\n",
    "zsrc_min = cluster_z + 0.1  # we only want to draw background galaxies\n",
    "\n",
    "noisy_data_z = mock.generate_galaxy_catalog(\n",
    "    cluster_m,\n",
    "    cluster_z,\n",
    "    concentration,\n",
    "    cosmo,\n",
    "    \"chang13\",\n",
    "    zsrc_min=zsrc_min,\n",
    "    shapenoise=0.05,\n",
    "    photoz_sigma_unscaled=0.05,\n",
    "    ngals=ngals,\n",
    "    cluster_ra=cluster_ra,\n",
    "    cluster_dec=cluster_dec,\n",
    ")"
   ]
  },
  {
   "cell_type": "markdown",
   "metadata": {},
   "source": [
    "Loading this into a CLMM cluster object centered on (0,0)"
   ]
  },
  {
   "cell_type": "code",
   "execution_count": null,
   "metadata": {},
   "outputs": [],
   "source": [
    "cl = GalaxyCluster(cluster_id, cluster_ra, cluster_dec, cluster_z, noisy_data_z)"
   ]
  },
  {
   "cell_type": "markdown",
   "metadata": {},
   "source": [
    "### 2. Load cluster object containing:\n",
    "> Lens properties (ra_l, dec_l, z_l)\n",
    "\n",
    "> Source properties (ra_s, dec_s, e1, e2)\n",
    "### Note, if loading from mock data, use: \n",
    "> cl = gc.GalaxyCluster.load(\"GC_from_mock_data.pkl\")"
   ]
  },
  {
   "cell_type": "code",
   "execution_count": null,
   "metadata": {},
   "outputs": [],
   "source": [
    "print(\"Cluster info = ID:\", cl.unique_id, \"; ra:\", cl.ra, \"; dec:\", cl.dec, \"; z_l :\", cl.z)\n",
    "print(\"The number of source galaxies is :\", len(cl.galcat))"
   ]
  },
  {
   "cell_type": "markdown",
   "metadata": {},
   "source": [
    "## 2. Basic checks and plots \n",
    "- galaxy positions\n",
    "- redshift distribution"
   ]
  },
  {
   "cell_type": "code",
   "execution_count": null,
   "metadata": {},
   "outputs": [],
   "source": [
    "f, ax = plt.subplots(1, 2, figsize=(12, 4))\n",
    "\n",
    "ax[0].scatter(cl.galcat[\"ra\"], cl.galcat[\"dec\"], color=\"blue\", s=1, alpha=0.3)\n",
    "ax[0].plot(cl.ra, cl.dec, \"ro\")\n",
    "ax[0].set_ylabel(\"dec\", fontsize=\"large\")\n",
    "ax[0].set_xlabel(\"ra\", fontsize=\"large\")\n",
    "\n",
    "hist = ax[1].hist(cl.galcat[\"z\"], bins=40)[0]\n",
    "ax[1].axvline(cl.z, c=\"r\", ls=\"--\")\n",
    "ax[1].set_xlabel(\"$z_{source}$\", fontsize=\"large\")\n",
    "xt = {t: f\"{t}\" for t in ax[1].get_xticks() if t != 0}\n",
    "xt[cl.z] = \"$z_{cl}$\"\n",
    "xto = sorted(list(xt.keys()) + [cl.z])\n",
    "ax[1].set_xticks(xto)\n",
    "ax[1].set_xticklabels(xt[t] for t in xto)\n",
    "ax[1].get_xticklabels()[xto.index(cl.z)].set_color(\"red\")\n",
    "plt.xlim(0, max(xto))\n",
    "plt.show()"
   ]
  },
  {
   "cell_type": "markdown",
   "metadata": {},
   "source": [
    "- Check ellipticities"
   ]
  },
  {
   "cell_type": "code",
   "execution_count": null,
   "metadata": {},
   "outputs": [],
   "source": [
    "fig, ax1 = plt.subplots(1, 1)\n",
    "\n",
    "ax1.scatter(cl.galcat[\"e1\"], cl.galcat[\"e2\"], s=1, alpha=0.2)\n",
    "ax1.set_xlabel(\"e1\")\n",
    "ax1.set_ylabel(\"e2\")\n",
    "ax1.set_aspect(\"equal\", \"datalim\")\n",
    "ax1.axvline(0, linestyle=\"dotted\", color=\"black\")\n",
    "ax1.axhline(0, linestyle=\"dotted\", color=\"black\")"
   ]
  },
  {
   "cell_type": "markdown",
   "metadata": {},
   "source": [
    "## 3. Compute and plot shear profiles"
   ]
  },
  {
   "cell_type": "markdown",
   "metadata": {},
   "source": [
    "### 3.1 Compute angular separation, cross and tangential shear for each source galaxy"
   ]
  },
  {
   "cell_type": "code",
   "execution_count": null,
   "metadata": {},
   "outputs": [],
   "source": [
    "theta, e_t, e_x = compute_tangential_and_cross_components(\n",
    "    ra_lens=cl.ra,\n",
    "    dec_lens=cl.dec,\n",
    "    ra_source=cl.galcat[\"ra\"],\n",
    "    dec_source=cl.galcat[\"dec\"],\n",
    "    shear1=cl.galcat[\"e1\"],\n",
    "    shear2=cl.galcat[\"e2\"],\n",
    ")"
   ]
  },
  {
   "cell_type": "markdown",
   "metadata": {},
   "source": [
    "#### 3.1.1 Using `GalaxyCluster` object\n",
    "- You can also call the function directly from the `GalaxyCluster` object\n",
    "- By defaut, `compute_tangential_and_cross_components` uses columns named `e1` and `e2` of the `galcat` table"
   ]
  },
  {
   "cell_type": "code",
   "execution_count": null,
   "metadata": {},
   "outputs": [],
   "source": [
    "cl.compute_tangential_and_cross_components(add=True)\n",
    "# With the option add the cl object has theta, et and ex new columns\n",
    "# (default: takes in columns named 'e1' and 'e2' and save the results in 'et' and 'ex')\n",
    "cl.galcat[\"et\", \"ex\"].pprint(max_width=-1)"
   ]
  },
  {
   "cell_type": "markdown",
   "metadata": {},
   "source": [
    "- But it's also possible to choose which columns to use for input and output, e.g. Below we're storing the results in `e_tan` and `e_cross` instead (explicitely taking `e1` and `e2` as input)\n"
   ]
  },
  {
   "cell_type": "code",
   "execution_count": null,
   "metadata": {},
   "outputs": [],
   "source": [
    "cl.compute_tangential_and_cross_components(\n",
    "    shape_component1=\"e1\",\n",
    "    shape_component2=\"e2\",\n",
    "    tan_component=\"e_tan\",\n",
    "    cross_component=\"e_cross\",\n",
    "    add=True,\n",
    ")\n",
    "cl.galcat[\"e_tan\", \"e_cross\"].pprint(max_width=-1)"
   ]
  },
  {
   "cell_type": "markdown",
   "metadata": {},
   "source": [
    "Plot tangential and cross ellipticity distributions for verification, which can be accessed in the galaxy cluster object, cl."
   ]
  },
  {
   "cell_type": "code",
   "execution_count": null,
   "metadata": {},
   "outputs": [],
   "source": [
    "f, ax = plt.subplots(1, 2, figsize=(10, 4))\n",
    "\n",
    "ax[0].hist(cl.galcat[\"et\"], bins=50)\n",
    "ax[0].set_xlabel(\"$\\\\epsilon_t$\", fontsize=\"xx-large\")\n",
    "\n",
    "ax[1].hist(cl.galcat[\"ex\"], bins=50)\n",
    "ax[1].set_xlabel(\"$\\\\epsilon_x$\", fontsize=\"xx-large\")\n",
    "ax[1].set_yscale(\"log\")"
   ]
  },
  {
   "cell_type": "markdown",
   "metadata": {},
   "source": [
    "Compute transversal and cross shear profiles in units defined by user, using defaults binning "
   ]
  },
  {
   "cell_type": "markdown",
   "metadata": {},
   "source": [
    "### 3.2 Compute shear profile in radial bins\n",
    "Given the separations in \"radians\" computed in the previous step, the user may ask for a binned profile in various projected distance units.\n",
    "#### 3.2.1 Default binning\n",
    "- default binning using kpc:"
   ]
  },
  {
   "cell_type": "code",
   "execution_count": null,
   "metadata": {},
   "outputs": [],
   "source": [
    "profiles = make_radial_profile(\n",
    "    [cl.galcat[\"et\"], cl.galcat[\"ex\"], cl.galcat[\"z\"]],\n",
    "    angsep=cl.galcat[\"theta\"],\n",
    "    angsep_units=\"radians\",\n",
    "    bin_units=\"kpc\",\n",
    "    cosmo=cosmo,\n",
    "    z_lens=cl.z,\n",
    ")\n",
    "# profiles.pprint(max_width=-1)\n",
    "profiles.show_in_notebook()"
   ]
  },
  {
   "cell_type": "markdown",
   "metadata": {},
   "source": [
    "Note that, because this function bins a generic number of quantities in the radial profile, its output table names the quantities as `p_i` and errors as `p_i_err`."
   ]
  },
  {
   "cell_type": "markdown",
   "metadata": {},
   "source": [
    "#### 3.1.2 Using `GalaxyCluster` object\n",
    "The output `GCData` corresponding to the binning profiled is attached as a new attribute of the galaxy cluster object."
   ]
  },
  {
   "cell_type": "code",
   "execution_count": null,
   "metadata": {},
   "outputs": [],
   "source": [
    "cl.make_radial_profile(\"kpc\", cosmo=cosmo)\n",
    "# cl.profile.pprint(max_width=-1)\n",
    "cl.profile.show_in_notebook()"
   ]
  },
  {
   "cell_type": "markdown",
   "metadata": {},
   "source": [
    "You can see that this `profile` table contains metadata regarding the comology and bin units"
   ]
  },
  {
   "cell_type": "code",
   "execution_count": null,
   "metadata": {},
   "outputs": [],
   "source": [
    "print(\"Cosmology:\", cl.profile.meta[\"cosmo\"])\n",
    "print(\"bin units:\", cl.profile.meta[\"bin_units\"])"
   ]
  },
  {
   "cell_type": "markdown",
   "metadata": {},
   "source": [
    "Use function to plot the profiles"
   ]
  },
  {
   "cell_type": "code",
   "execution_count": null,
   "metadata": {},
   "outputs": [],
   "source": [
    "fig, ax = cl.plot_profiles(xscale=\"log\")"
   ]
  },
  {
   "cell_type": "markdown",
   "metadata": {},
   "source": [
    "- default binning using degrees:"
   ]
  },
  {
   "cell_type": "code",
   "execution_count": null,
   "metadata": {},
   "outputs": [],
   "source": [
    "new_profiles = cl.make_radial_profile(\"degrees\", cosmo=cosmo)\n",
    "fig1, ax1 = cl.plot_profiles()"
   ]
  },
  {
   "cell_type": "markdown",
   "metadata": {},
   "source": [
    "#### 3.2.2 User-defined binning \n",
    "The users may also provide their own binning, in user-defined units, to compute the transversal and cross shear profiles. The `make_bins` function is provided in `utils.py` and allow for various options. \n",
    "\n",
    "- e.g., generate 20 bins between 1 and 6 Mpc, linearly spaced."
   ]
  },
  {
   "cell_type": "code",
   "execution_count": null,
   "metadata": {},
   "outputs": [],
   "source": [
    "new_bins = make_bins(1, 6, nbins=20, method=\"evenwidth\")\n",
    "\n",
    "# Make the shear profile in this binning\n",
    "new_profiles = cl.make_radial_profile(\"Mpc\", bins=new_bins, cosmo=cosmo)\n",
    "\n",
    "fig1, ax1 = cl.plot_profiles()"
   ]
  },
  {
   "cell_type": "markdown",
   "metadata": {},
   "source": [
    "- e.g., generate 20 bins between 1 and 6 Mpc, evenly spaced in log space."
   ]
  },
  {
   "cell_type": "code",
   "execution_count": null,
   "metadata": {},
   "outputs": [],
   "source": [
    "new_bins = make_bins(1, 6, nbins=20, method=\"evenlog10width\")\n",
    "\n",
    "new_profiles = cl.make_radial_profile(\"Mpc\", bins=new_bins, cosmo=cosmo)\n",
    "fig1, ax1 = cl.plot_profiles()\n",
    "ax1.set_xscale(\"log\")"
   ]
  },
  {
   "cell_type": "markdown",
   "metadata": {},
   "source": [
    "- e.g., generate 20 bins between 1 and 6 Mpc, each contaning the same number of galaxies"
   ]
  },
  {
   "cell_type": "code",
   "execution_count": null,
   "metadata": {},
   "outputs": [],
   "source": [
    "# First, convert the source separation table to Mpc\n",
    "seps = u.convert_units(cl.galcat[\"theta\"], \"radians\", \"Mpc\", redshift=cl.z, cosmo=cosmo)\n",
    "\n",
    "new_bins = make_bins(1, 6, nbins=20, method=\"equaloccupation\", source_seps=seps)\n",
    "new_profiles = cl.make_radial_profile(\"Mpc\", bins=new_bins, cosmo=cosmo)\n",
    "\n",
    "print(f\"number of galaxies in each bin: {list(cl.profile['n_src'])}\")\n",
    "fig1, ax1 = cl.plot_profiles()"
   ]
  },
  {
   "cell_type": "markdown",
   "metadata": {},
   "source": [
    "#### 3.2.3 Other individual profile quantities may also be accessed "
   ]
  },
  {
   "cell_type": "code",
   "execution_count": null,
   "metadata": {},
   "outputs": [],
   "source": [
    "plt.title(\"Average redshift in radial bins\")\n",
    "plt.errorbar(new_profiles[\"radius\"], new_profiles[\"z\"], new_profiles[\"z_err\"], marker=\"o\")\n",
    "plt.axhline(cl.z, linestyle=\"dotted\", color=\"r\")\n",
    "plt.text(1, cl.z * 1.1, \"$z_{cl}$\", color=\"r\")\n",
    "plt.xlabel(\"Radius [Mpc]\")\n",
    "plt.ylabel(\"$\\langle z\\\\rangle$\")\n",
    "plt.show()"
   ]
  },
  {
   "cell_type": "markdown",
   "metadata": {},
   "source": [
    "## 4. Focus on some options\n",
    "### 4.1. `gal_ids_in_bins` option \n",
    "adds a `gal_id` field to the profile GCData. For each bin of the profile, this is filled with the list of galaxy IDs for the galaxies that have fallen in that bin."
   ]
  },
  {
   "cell_type": "code",
   "execution_count": null,
   "metadata": {},
   "outputs": [],
   "source": [
    "cl.make_radial_profile(\"Mpc\", cosmo=cosmo, gal_ids_in_bins=True);"
   ]
  },
  {
   "cell_type": "code",
   "execution_count": null,
   "metadata": {},
   "outputs": [],
   "source": [
    "# Here the list of galaxy IDs that are in the first bin of the tangential shear profile\n",
    "gal_list = cl.profile[\"gal_id\"][0]\n",
    "print(gal_list)"
   ]
  },
  {
   "cell_type": "markdown",
   "metadata": {},
   "source": [
    "### 4.2. User-defined naming scheme\n",
    "The user may specify which columns to use from the `galcat` table to perform the binned average. If none is specified, the code looks for columns names `et` and `ex`. Below, we average in bins the columns`e_tan` and `e_cross` of `galcat` and store the results in the columns `g_tan` and `g_cross` of the `profile` table of the cluster object."
   ]
  },
  {
   "cell_type": "code",
   "execution_count": null,
   "metadata": {},
   "outputs": [],
   "source": [
    "cl.make_radial_profile(\n",
    "    \"kpc\",\n",
    "    cosmo=cosmo,\n",
    "    tan_component_in=\"e_tan\",\n",
    "    cross_component_in=\"e_cross\",\n",
    "    tan_component_out=\"g_tan\",\n",
    "    cross_component_out=\"g_cross\",\n",
    ")\n",
    "# cl.profile.pprint(max_width=-1)\n",
    "cl.profile.show_in_notebook()"
   ]
  },
  {
   "cell_type": "markdown",
   "metadata": {},
   "source": [
    "The user may also define the name of the output table attribute. Below, we asked the binned profile to be saved into the `reduced_shear_profile` attribute"
   ]
  },
  {
   "cell_type": "code",
   "execution_count": null,
   "metadata": {},
   "outputs": [],
   "source": [
    "cl.make_radial_profile(\n",
    "    \"kpc\",\n",
    "    cosmo=cosmo,\n",
    "    tan_component_in=\"e_tan\",\n",
    "    cross_component_in=\"e_cross\",\n",
    "    tan_component_out=\"g_tan\",\n",
    "    cross_component_out=\"g_cross\",\n",
    "    table_name=\"reduced_shear_profile\",\n",
    ")\n",
    "# cl.reduced_shear_profile.pprint(max_width=-1)\n",
    "cl.reduced_shear_profile.show_in_notebook()"
   ]
  },
  {
   "cell_type": "markdown",
   "metadata": {},
   "source": [
    "### 4.3 Compute a DeltaSigma profile instead of a shear profile\n",
    "\n",
    "The `is_deltasigma` option allows the user to return a cross and tangential $\\Delta\\Sigma$ (excess surface density) value for each galaxy in the catalog, provided `galcat` contains the redshifts of the galaxies and provided a cosmology is passed to the function. The columns `DeltaSigma_tan` and `DeltaSigma_cross` are added to the `galcat` table."
   ]
  },
  {
   "cell_type": "code",
   "execution_count": null,
   "metadata": {},
   "outputs": [],
   "source": [
    "cl.compute_tangential_and_cross_components(\n",
    "    shape_component1=\"e1\",\n",
    "    shape_component2=\"e2\",\n",
    "    tan_component=\"DeltaSigma_tan\",\n",
    "    cross_component=\"DeltaSigma_cross\",\n",
    "    add=True,\n",
    "    cosmo=cosmo,\n",
    "    is_deltasigma=True,\n",
    ")\n",
    "cl.galcat.columns"
   ]
  },
  {
   "cell_type": "markdown",
   "metadata": {},
   "source": [
    "The signal-to-noise of a $\\Delta\\Sigma$ profile is improved when applying optimal weights accounting for photoz, shape noise, precision of the shape measurements. These weights are computed using the `compute_galaxy_weights` methods of the `GalaxyCluster` class, ans stored as an extra columns of the `galcat` table (see the `demo_compute_deltasigma_weights` notebook).\n"
   ]
  },
  {
   "cell_type": "code",
   "execution_count": null,
   "metadata": {},
   "outputs": [],
   "source": [
    "cl.compute_galaxy_weights(\n",
    "    use_pdz=True,\n",
    "    use_shape_noise=True,\n",
    "    shape_component1=\"e1\",\n",
    "    shape_component2=\"e2\",\n",
    "    cosmo=cosmo,\n",
    "    is_deltasigma=True,\n",
    "    add=True,\n",
    ")\n",
    "\n",
    "cl.galcat.columns"
   ]
  },
  {
   "cell_type": "markdown",
   "metadata": {},
   "source": [
    "Because these operations required a `Cosmology`, it was added to `galcat` metadata:"
   ]
  },
  {
   "cell_type": "code",
   "execution_count": null,
   "metadata": {},
   "outputs": [],
   "source": [
    "cl.galcat.meta[\"cosmo\"]"
   ]
  },
  {
   "cell_type": "markdown",
   "metadata": {},
   "source": [
    "The binned profile is obtained, as before. Below, we use the values obtained from the previous step to compute the binned profile. The latter is saved in a new `DeltaSigma_profile` table of the GalaxyCluster object. If `use_weights=True`, the weighted average is performed using the weights stored in `galcat`."
   ]
  },
  {
   "cell_type": "code",
   "execution_count": null,
   "metadata": {},
   "outputs": [],
   "source": [
    "\"\"\"\n",
    "cl.make_radial_profile(\"Mpc\", cosmo=cosmo, \n",
    "                       tan_component_in='DeltaSigma_tan', cross_component_in='DeltaSigma_cross',\n",
    "                       tan_component_out='DeltaSigma_tan', cross_component_out='DeltaSigma_cross',\n",
    "                       table_name='DeltaSigma_profile').pprint(max_width=-1)\n",
    "\"\"\"\n",
    "cl.make_radial_profile(\n",
    "    \"Mpc\",\n",
    "    cosmo=cosmo,\n",
    "    tan_component_in=\"DeltaSigma_tan\",\n",
    "    cross_component_in=\"DeltaSigma_cross\",\n",
    "    tan_component_out=\"DeltaSigma_tan\",\n",
    "    cross_component_out=\"DeltaSigma_cross\",\n",
    "    table_name=\"DeltaSigma_profile\",\n",
    "    use_weights=True,\n",
    ");"
   ]
  },
  {
   "cell_type": "code",
   "execution_count": null,
   "metadata": {},
   "outputs": [],
   "source": [
    "# cl.DeltaSigma_profile.pprint(max_width=-1)\n",
    "cl.DeltaSigma_profile.show_in_notebook()"
   ]
  },
  {
   "cell_type": "markdown",
   "metadata": {},
   "source": [
    "To compare, we make use of the functional interface to compute the unweighted averaged profile. The outputs columns are called by default `p_0`, `p_1`, etc."
   ]
  },
  {
   "cell_type": "code",
   "execution_count": null,
   "metadata": {},
   "outputs": [],
   "source": [
    "avg_profile_noweights = make_radial_profile(\n",
    "    [cl.galcat[\"DeltaSigma_tan\"], cl.galcat[\"DeltaSigma_cross\"]],\n",
    "    cl.galcat[\"theta\"],\n",
    "    z_lens=cl.z,\n",
    "    bin_units=\"Mpc\",\n",
    "    angsep_units=\"radians\",\n",
    "    cosmo=cosmo,\n",
    "    weights=None,\n",
    ")\n",
    "avg_profile_noweights.columns"
   ]
  },
  {
   "cell_type": "code",
   "execution_count": null,
   "metadata": {},
   "outputs": [],
   "source": [
    "plt.errorbar(\n",
    "    cl.DeltaSigma_profile[\"radius\"],\n",
    "    cl.DeltaSigma_profile[\"DeltaSigma_tan\"],\n",
    "    cl.DeltaSigma_profile[\"DeltaSigma_tan_err\"],\n",
    "    marker=\"o\",\n",
    "    label=\"using weights\",\n",
    ")\n",
    "plt.errorbar(\n",
    "    avg_profile_noweights[\"radius\"],\n",
    "    avg_profile_noweights[\"p_0\"],\n",
    "    avg_profile_noweights[\"p_0_err\"],\n",
    "    marker=\"x\",\n",
    "    label=\"no weights\",\n",
    ")\n",
    "\n",
    "plt.title(\"DeltaSigma profile\")\n",
    "plt.xlabel(\"Radius [Mpc]\")\n",
    "plt.ylabel(\"$\\Delta\\Sigma [M_\\odot\\; Mpc^{-2}]$\")\n",
    "plt.legend()\n",
    "plt.show()"
   ]
  }
 ],
 "metadata": {
  "kernelspec": {
   "display_name": "Python 3 (ipykernel)",
   "language": "python",
   "name": "python3"
  },
  "language_info": {
   "codemirror_mode": {
    "name": "ipython",
    "version": 3
   },
   "file_extension": ".py",
   "mimetype": "text/x-python",
   "name": "python",
   "nbconvert_exporter": "python",
   "pygments_lexer": "ipython3",
   "version": "3.8.10"
  }
 },
 "nbformat": 4,
 "nbformat_minor": 4
}
