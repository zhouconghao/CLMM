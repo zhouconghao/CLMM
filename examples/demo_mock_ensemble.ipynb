{
 "cells": [
  {
   "cell_type": "markdown",
   "id": "ee163bf2",
   "metadata": {},
   "source": [
    "# Generate mock data for a cluster ensemble\n",
    "## Generate cluster ensemble with random masses and redshifts"
   ]
  },
  {
   "cell_type": "code",
   "execution_count": null,
   "id": "7d8e5d58",
   "metadata": {},
   "outputs": [],
   "source": [
    "%load_ext autoreload\n",
    "%autoreload 2\n",
    "\n",
    "import sys\n",
    "import os\n",
    "import numpy as np\n",
    "from astropy.table import Table\n",
    "from numpy import random\n",
    "import scipy\n",
    "import matplotlib.pyplot as plt\n",
    "import clmm\n",
    "from clmm import GalaxyCluster, ClusterEnsemble, GCData\n",
    "from clmm import Cosmology\n",
    "from clmm.support import mock_data as mock\n",
    "\n",
    "clmm.__version__"
   ]
  },
  {
   "cell_type": "code",
   "execution_count": null,
   "id": "47314c70-58d9-4e9d-8053-f424767c9926",
   "metadata": {},
   "outputs": [],
   "source": [
    "np.random.seed(11)"
   ]
  },
  {
   "cell_type": "code",
   "execution_count": null,
   "id": "0a88a2e2",
   "metadata": {},
   "outputs": [],
   "source": [
    "cosmo = Cosmology(H0=71.0, Omega_dm0=0.265 - 0.0448, Omega_b0=0.0448, Omega_k0=0.0)"
   ]
  },
  {
   "cell_type": "markdown",
   "id": "df55d889",
   "metadata": {},
   "source": [
    "## Generating a cluster catalog and associated source catalogs\n",
    "Below, we randomly generate the masses, redshifts, concentrations and coordinates of an ensemble of `n_clusters` clusters. For simplicity, the drawing is performed uniformly in logm and redshift (instead of following a halo mass function).\n"
   ]
  },
  {
   "cell_type": "code",
   "execution_count": null,
   "id": "910f87b4",
   "metadata": {},
   "outputs": [],
   "source": [
    "# redshift and mass range of the galaxy clusters\n",
    "z_bin = [0.2, 0.25]\n",
    "logm_bin = np.array([14, 14.1])  # Solar Mass\n",
    "\n",
    "# number of clusters in the ensemble\n",
    "n_clusters = 30\n",
    "\n",
    "# random draw in the mass and redshift range (for simplicity, uniform instead of following an actual mass function)\n",
    "cluster_m = 10 ** (\n",
    "    (logm_bin[1] - logm_bin[0]) * np.random.random(n_clusters) + logm_bin[0]\n",
    ")  # in M_sun\n",
    "cluster_z = (z_bin[1] - z_bin[0]) * np.random.random(n_clusters) + z_bin[0]\n",
    "\n",
    "# random normal draw of cluster concentration, around c_mean\n",
    "c_mean = 4.0\n",
    "lnc = abs(np.log(c_mean) + 0.01 * np.random.randn(n_clusters))\n",
    "concentration = np.exp(lnc)\n",
    "\n",
    "# randomly draw cluster positions on the sky\n",
    "ra = np.random.random(n_clusters) * 360  # from 0 to 360 deg\n",
    "sindec = np.random.random(n_clusters) * 2 - 1\n",
    "dec = np.arcsin(sindec) * 180 / np.pi  # from -90 to 90 deg"
   ]
  },
  {
   "cell_type": "markdown",
   "id": "ed013971",
   "metadata": {},
   "source": [
    "### Background galaxy catalog generation\n",
    "\n",
    "For each cluster of the ensemble, we use `mock_data` to generate a background galaxy catalog and store the results in a `GalaxyCluster` object. Note that:\n",
    "- The cluster density profiles follow the NFW parametrisation;\n",
    "- The source redshifts follow the Chang et al. distribution and have associated pdfs;\n",
    "- The shapes include shape noise and shape measurement errors;\n",
    "- Background galaxy catalogs are independent, even if the clusters are close (i.e., no common galaxy between two catalogs).\n",
    "- For each cluster we then compute\n",
    "    - the tangential and cross $\\Delta\\Sigma$ for each background galaxy\n",
    "    - the weights `w_ls` to be used to compute the corresponding radial profiles (see `demo_compute_deltasigma_weights.ipynb` notebook for details)\n",
    "\n",
    "The cluster objects are then stored in `gclist`."
   ]
  },
  {
   "cell_type": "code",
   "execution_count": null,
   "id": "9e662adc-6d92-4c8a-87a3-926c47567e73",
   "metadata": {},
   "outputs": [],
   "source": [
    "import warnings\n",
    "\n",
    "warnings.simplefilter(\n",
    "    \"ignore\"\n",
    ")  # just to prevent warning print out when looping over the cluster ensemble below"
   ]
  },
  {
   "cell_type": "code",
   "execution_count": null,
   "id": "60d9e41b",
   "metadata": {},
   "outputs": [],
   "source": [
    "gclist = []\n",
    "# number of galaxies in each cluster field (alternatively, can use the galaxy density instead)\n",
    "n_gals = 10000\n",
    "# ngal_density = 10\n",
    "\n",
    "for i in range(n_clusters):\n",
    "    # generate background galaxy catalog for cluster i\n",
    "    noisy_data_z = mock.generate_galaxy_catalog(\n",
    "        cluster_m[i],\n",
    "        cluster_z[i],\n",
    "        concentration[i],\n",
    "        cosmo,\n",
    "        cluster_ra=ra[i],\n",
    "        cluster_dec=dec[i],\n",
    "        zsrc=\"chang13\",\n",
    "        delta_so=200,\n",
    "        massdef=\"critical\",\n",
    "        halo_profile_model=\"nfw\",\n",
    "        zsrc_min=cluster_z[i] + 0.1,\n",
    "        zsrc_max=3.0,\n",
    "        field_size=10.0,\n",
    "        shapenoise=0.04,\n",
    "        photoz_sigma_unscaled=0.02,\n",
    "        ngals=n_gals,\n",
    "        mean_e_err=0.1,\n",
    "    )\n",
    "\n",
    "    cl = clmm.GalaxyCluster(\"mock_cluster\", ra[i], dec[i], cluster_z[i], noisy_data_z)\n",
    "\n",
    "    # compute DeltaSigma for each background galaxy\n",
    "    cl.compute_tangential_and_cross_components(\n",
    "        shape_component1=\"e1\",\n",
    "        shape_component2=\"e2\",\n",
    "        tan_component=\"DS_t\",\n",
    "        cross_component=\"DS_x\",\n",
    "        cosmo=cosmo,\n",
    "        is_deltasigma=True,\n",
    "        use_pdz=True,\n",
    "    )\n",
    "\n",
    "    # compute the weights to be used to bluid the DeltaSigma radial profiles\n",
    "    cl.compute_galaxy_weights(\n",
    "        use_pdz=True,\n",
    "        use_shape_noise=True,\n",
    "        shape_component1=\"e1\",\n",
    "        shape_component2=\"e2\",\n",
    "        use_shape_error=True,\n",
    "        shape_component1_err=\"e_err\",\n",
    "        shape_component2_err=\"e_err\",\n",
    "        weight_name=\"w_ls\",\n",
    "        cosmo=cosmo,\n",
    "        is_deltasigma=True,\n",
    "        add=True,\n",
    "    )\n",
    "\n",
    "    # append the cluster in the list\n",
    "    gclist.append(cl)"
   ]
  },
  {
   "cell_type": "code",
   "execution_count": null,
   "id": "544e0b75-0a5e-4506-bc35-63314c6b508c",
   "metadata": {},
   "outputs": [],
   "source": [
    "cl.galcat.columns"
   ]
  },
  {
   "cell_type": "markdown",
   "id": "a7f6a520",
   "metadata": {},
   "source": [
    "## Creating ClusterEnsemble object and estimation of individual excess surface density profiles\n",
    "From the galaxy cluster object list `gclist`, we instantiate a cluster ensemble object `clusterensemble`. This instantiation step uses\n",
    " - the individual galaxy input $\\Delta\\Sigma_+$ and $\\Delta\\Sigma_{\\times}$ values (computed in the previous step, `DS_{t,x}`)\n",
    " - the corresponding individual input weights `w_ls` (computed in the previous step)\n",
    "\n",
    "to compute\n",
    "\n",
    "- the output tangential `DS_t` and cross signal `DS_x` binned profiles (where the binning is controlled by `bins`)\n",
    "- the associated profile weights `W_l` (that will be used to compute the stacked profile)\n"
   ]
  },
  {
   "cell_type": "code",
   "execution_count": null,
   "id": "cdb973ec",
   "metadata": {},
   "outputs": [],
   "source": [
    "ensemble_id = 1\n",
    "names = [\"id\", \"ra\", \"dec\", \"z\", \"radius\", \"gt\", \"gx\", \"W_l\"]\n",
    "bins = np.logspace(np.log10(0.3), np.log10(5), 10)\n",
    "clusterensemble = ClusterEnsemble(\n",
    "    ensemble_id,\n",
    "    gclist,\n",
    "    tan_component_in=\"DS_t\",\n",
    "    cross_component_in=\"DS_x\",\n",
    "    tan_component_out=\"DS_t\",\n",
    "    cross_component_out=\"DS_x\",\n",
    "    weights_in=\"w_ls\",\n",
    "    weights_out=\"W_l\",\n",
    "    bins=bins,\n",
    "    bin_units=\"Mpc\",\n",
    "    cosmo=cosmo,\n",
    ")"
   ]
  },
  {
   "cell_type": "markdown",
   "id": "774b45da",
   "metadata": {},
   "source": [
    "There is also the option to create an `ClusterEnsemble` object without the clusters list. Then, the user may compute the individual profile for each wanted cluster and compute the radial profile once all the indvidual profiles have been computed. This method may be reccomended if there a large number of clusters to avoid excess of memory allocation, since the user can generate each cluster separately, compute its individual profile and then delete the cluster object. "
   ]
  },
  {
   "cell_type": "code",
   "execution_count": null,
   "id": "dff912bc",
   "metadata": {},
   "outputs": [],
   "source": [
    "ensemble_id2 = 2\n",
    "empty_cluster_ensemble = ClusterEnsemble(ensemble_id2)\n",
    "for cluster in gclist:\n",
    "    empty_cluster_ensemble.make_individual_radial_profile(\n",
    "        galaxycluster=cluster,\n",
    "        tan_component_in=\"DS_t\",\n",
    "        cross_component_in=\"DS_x\",\n",
    "        tan_component_out=\"DS_t\",\n",
    "        cross_component_out=\"DS_x\",\n",
    "        weights_in=\"w_ls\",\n",
    "        weights_out=\"W_l\",\n",
    "        bins=bins,\n",
    "        bin_units=\"Mpc\",\n",
    "        cosmo=cosmo,\n",
    "    )"
   ]
  },
  {
   "cell_type": "markdown",
   "id": "dce0a7da",
   "metadata": {},
   "source": [
    "A third option is where all clusters already have the profile computed, and we just add those to the `ClusterEnsemble` object:"
   ]
  },
  {
   "cell_type": "code",
   "execution_count": null,
   "id": "489277dd",
   "metadata": {},
   "outputs": [],
   "source": [
    "# add profiles to gclist\n",
    "for cluster in gclist:\n",
    "    cluster.make_radial_profile(\n",
    "        tan_component_in=\"DS_t\",\n",
    "        cross_component_in=\"DS_x\",\n",
    "        tan_component_out=\"DS_t\",\n",
    "        cross_component_out=\"DS_x\",\n",
    "        weights_in=\"w_ls\",\n",
    "        weights_out=\"W_l\",\n",
    "        bins=bins,\n",
    "        bin_units=\"Mpc\",\n",
    "        cosmo=cosmo,\n",
    "        use_weights=True,\n",
    "    )"
   ]
  },
  {
   "cell_type": "code",
   "execution_count": null,
   "id": "9de6b261-f1aa-4b43-941b-d415462fec95",
   "metadata": {},
   "outputs": [],
   "source": [
    "cluster.profile"
   ]
  },
  {
   "cell_type": "code",
   "execution_count": null,
   "id": "a92f1bed",
   "metadata": {},
   "outputs": [],
   "source": [
    "ensemble_id3 = 3\n",
    "empty_cluster_ensemble = ClusterEnsemble(ensemble_id3)\n",
    "for cluster in gclist:\n",
    "    empty_cluster_ensemble.add_individual_radial_profile(\n",
    "        galaxycluster=cluster,\n",
    "        profile_table=cluster.profile,\n",
    "        tan_component=\"DS_t\",\n",
    "        cross_component=\"DS_x\",\n",
    "        weights=\"W_l\",\n",
    "    )"
   ]
  },
  {
   "cell_type": "markdown",
   "id": "99e3fe18",
   "metadata": {},
   "source": [
    "## Stacked profile of the cluster ensemble\n",
    "The stacked radial profile of the ensemble is then obtained as "
   ]
  },
  {
   "cell_type": "code",
   "execution_count": null,
   "id": "5f028309",
   "metadata": {},
   "outputs": [],
   "source": [
    "clusterensemble.make_stacked_radial_profile(tan_component=\"DS_t\", cross_component=\"DS_x\")"
   ]
  },
  {
   "cell_type": "markdown",
   "id": "907fd664",
   "metadata": {},
   "source": [
    "## Covariance (Bootstrap, sample, Jackknife) of the stack between radial bins\n",
    "Radial bins may be correlated and the `ClusterEnsemble` class provides three methods to compute the covariance matrix of the stacked signal, from the data:\n",
    "- The Sample covariance directly computes the covariance between radial bins of the `N` individual cluster profiles of the stack.\n",
    "- The Bootstrap approach is a resampling technique generating `n_bootstrap` ensembles of `N` randomly drawn clusters from the original ensemble, allowing for duplication. For each new ensemble, the stacked profile is computed and the covariance computed over the `n_bootstrap` stacks.\n",
    "- The Jackknife approach is another resampling technique, that divides the sky in a given number of regions $N_{\\rm region}$ and computes the covariance removing one region (i.e the clusters of the ensemble in that region) at a time. The stack is then computed using the remaining clusters and the covariance computed over the $N_{\\rm region}$ number of stacks. The division of the sky is done using the Healpix pixelisation scheme and is controlled by the `n_side` parameter, with $N_{\\rm region}=12 N_{\\rm side}^2$.\n",
    "\n",
    "NB: Approaches exist to compute the theoretical covariance of a stack but these are not (yet) available in `CLMM`"
   ]
  },
  {
   "cell_type": "code",
   "execution_count": null,
   "id": "22db4f4d",
   "metadata": {},
   "outputs": [],
   "source": [
    "clusterensemble.compute_sample_covariance(tan_component=\"DS_t\", cross_component=\"DS_x\")\n",
    "clusterensemble.compute_bootstrap_covariance(\n",
    "    tan_component=\"DS_t\", cross_component=\"DS_x\", n_bootstrap=300\n",
    ")\n",
    "clusterensemble.compute_jackknife_covariance(\n",
    "    n_side=16, tan_component=\"DS_t\", cross_component=\"DS_x\"\n",
    ")"
   ]
  },
  {
   "cell_type": "code",
   "execution_count": null,
   "id": "892abedb",
   "metadata": {},
   "outputs": [],
   "source": [
    "plt.figure(figsize=(7, 7))\n",
    "plt.rcParams[\"axes.linewidth\"] = 2\n",
    "plt.plot(\n",
    "    clusterensemble.data[\"radius\"][0],\n",
    "    clusterensemble.cov[\"tan_sc\"].diagonal() ** 0.5 / 1e13,\n",
    "    \"--\",\n",
    "    c=\"royalblue\",\n",
    "    label=\"Sample\",\n",
    "    linewidth=3,\n",
    ")\n",
    "plt.plot(\n",
    "    clusterensemble.data[\"radius\"][0],\n",
    "    clusterensemble.cov[\"tan_bs\"].diagonal() ** 0.5 / 1e13,\n",
    "    \"-s\",\n",
    "    c=\"g\",\n",
    "    label=\"Bootstrap\",\n",
    "    linewidth=3,\n",
    "    markersize=10,\n",
    ")\n",
    "plt.plot(\n",
    "    clusterensemble.data[\"radius\"][0],\n",
    "    clusterensemble.cov[\"tan_jk\"].diagonal() ** 0.5 / 1e13,\n",
    "    c=\"r\",\n",
    "    label=\"Jackknife\",\n",
    "    linewidth=3,\n",
    ")\n",
    "plt.xlabel(\"R [Mpc]\", fontsize=20)\n",
    "plt.ylabel(r\"$\\sigma_{\\Delta\\Sigma}\\ (\\times 10^{13} M_\\odot /Mpc^2)$\", fontsize=25)\n",
    "plt.tick_params(axis=\"both\", which=\"major\", labelsize=18)\n",
    "plt.legend(frameon=False, fontsize=20)\n",
    "plt.minorticks_on()\n",
    "plt.grid(lw=0.5)\n",
    "plt.grid(which=\"minor\", lw=0.1)\n",
    "plt.loglog()"
   ]
  },
  {
   "cell_type": "code",
   "execution_count": null,
   "id": "f3e698d9",
   "metadata": {},
   "outputs": [],
   "source": [
    "fig, axes = plt.subplots(1, 3, figsize=(20, 5))\n",
    "plt.rcParams[\"axes.linewidth\"] = 2\n",
    "fig.subplots_adjust(wspace=0.15, hspace=0)\n",
    "\n",
    "maximum = clusterensemble.cov[\"tan_sc\"].max()\n",
    "for ax, cov, label in zip(\n",
    "    axes,\n",
    "    [clusterensemble.cov[\"tan_sc\"], clusterensemble.cov[\"tan_bs\"], clusterensemble.cov[\"tan_jk\"]],\n",
    "    [\"Stack : Sample\", \"Stack : Bootstrap\", \"Stack : Jackknife\"],\n",
    "):\n",
    "    ax.set_title(label, fontsize=20)\n",
    "    ax.set_xlabel(\"radial bin index\", fontsize=18)\n",
    "    ax.set_ylabel(\"radial bin index\", fontsize=18)\n",
    "    ax.tick_params(axis=\"both\", which=\"major\", labelsize=12)\n",
    "    im = ax.imshow(cov, cmap=\"Reds\", vmin=0, vmax=maximum, origin=\"lower\")\n",
    "    plt.colorbar(im, ax=ax)"
   ]
  },
  {
   "cell_type": "markdown",
   "id": "bfeeb5cf-d8ce-4cd0-93aa-9c36e874e8c4",
   "metadata": {},
   "source": [
    "## Visualizing the stacked profiles and corresponding model"
   ]
  },
  {
   "cell_type": "markdown",
   "id": "a237d1ce-92b9-4bcc-8711-e9ab7eafc377",
   "metadata": {},
   "source": [
    "In the figure below, we plot:\n",
    "- the individual $\\Delta\\Sigma$ profiles of the clusters (light blue)\n",
    "- the stacked signal (red symbols)\n",
    "- the prediction computed using a NFW profile and the mean values of the mass, concentration and redshift in the stack (dashed black)"
   ]
  },
  {
   "cell_type": "code",
   "execution_count": null,
   "id": "e15ad6da-b66c-4bbd-875c-e0437b4390f8",
   "metadata": {},
   "outputs": [],
   "source": [
    "moo = clmm.Modeling(massdef=\"critical\", delta_mdef=200, halo_profile_model=\"nfw\")\n",
    "moo.set_cosmo(cosmo)\n",
    "# Average values of mass and concentration of the ensemble to be used below to overplot the model on the stacked profile\n",
    "moo.set_concentration(concentration.mean())\n",
    "moo.set_mass(cluster_m.mean())"
   ]
  },
  {
   "cell_type": "code",
   "execution_count": null,
   "id": "d8e95aaa",
   "metadata": {},
   "outputs": [],
   "source": [
    "r_stack, gt_stack, gx_stack = (clusterensemble.stacked_data[c] for c in (\"radius\", \"DS_t\", \"DS_x\"))\n",
    "plt.rcParams[\"axes.linewidth\"] = 2\n",
    "fig, axs = plt.subplots(1, 2, figsize=(17, 6))\n",
    "\n",
    "err_gt = clusterensemble.cov[\"tan_sc\"].diagonal() ** 0.5 / 1e13\n",
    "err_gx = clusterensemble.cov[\"cross_sc\"].diagonal() ** 0.5 / 1e13\n",
    "\n",
    "axs[0].errorbar(\n",
    "    r_stack,\n",
    "    gt_stack / 1e13,\n",
    "    err_gt,\n",
    "    markersize=5,\n",
    "    c=\"r\",\n",
    "    fmt=\"o\",\n",
    "    capsize=10,\n",
    "    elinewidth=1,\n",
    "    zorder=1000,\n",
    "    alpha=1,\n",
    "    label=\"Stack\",\n",
    ")\n",
    "axs[1].errorbar(\n",
    "    r_stack,\n",
    "    gx_stack / 1e13,\n",
    "    err_gx,\n",
    "    markersize=5,\n",
    "    c=\"r\",\n",
    "    fmt=\"o\",\n",
    "    capsize=10,\n",
    "    elinewidth=1,\n",
    "    zorder=1000,\n",
    "    alpha=1,\n",
    "    label=\"Stack\",\n",
    ")\n",
    "\n",
    "axs[0].plot(\n",
    "    clusterensemble.data[\"radius\"][0],\n",
    "    moo.eval_excess_surface_density(clusterensemble.data[\"radius\"][0], cluster_z.mean()) / 1e13,\n",
    "    \"--k\",\n",
    "    linewidth=3,\n",
    "    label=\"Prediction from stack mean cluster\",\n",
    "    zorder=100,\n",
    ")\n",
    "axs[1].plot(\n",
    "    clusterensemble.data[\"radius\"][0],\n",
    "    0 * moo.eval_excess_surface_density(clusterensemble.data[\"radius\"][0], cluster_z.mean()) / 1e13,\n",
    "    \"--k\",\n",
    "    linewidth=3,\n",
    "    label=\"y=0\",\n",
    "    zorder=100,\n",
    ")\n",
    "\n",
    "axs[0].set_xscale(\"log\")\n",
    "axs[1].set_xscale(\"log\")\n",
    "\n",
    "\n",
    "for i in range(n_clusters):\n",
    "    axs[0].plot(\n",
    "        clusterensemble.data[\"radius\"][i],\n",
    "        clusterensemble.data[\"DS_t\"][i] / 1e13,\n",
    "        \"cyan\",\n",
    "        label=\"Individual\",\n",
    "        alpha=1,\n",
    "        linewidth=1,\n",
    "    )\n",
    "    axs[1].plot(\n",
    "        clusterensemble.data[\"radius\"][i],\n",
    "        clusterensemble.data[\"DS_x\"][i] / 1e13,\n",
    "        \"cyan\",\n",
    "        label=\"Individual\",\n",
    "        alpha=1,\n",
    "        linewidth=1,\n",
    "    )\n",
    "    if i == 0:\n",
    "        axs[0].legend(frameon=False, fontsize=15)\n",
    "        axs[1].legend(frameon=False, fontsize=15)\n",
    "# axs[0].plot(np.average(clusterensemble.data['radius'], axis = 0), np.average(clusterensemble.data['gt'], weights = None, axis = 0)/1e13)\n",
    "axs[0].set_xlabel(\"R [Mpc]\", fontsize=20)\n",
    "axs[1].set_xlabel(\"R [Mpc]\", fontsize=20)\n",
    "axs[0].tick_params(axis=\"both\", which=\"major\", labelsize=18)\n",
    "axs[1].tick_params(axis=\"both\", which=\"major\", labelsize=18)\n",
    "axs[0].set_ylabel(r\"$\\Delta\\Sigma_+$ $[\\times 10^{13} M_\\odot /Mpc^])$\", fontsize=20)\n",
    "axs[1].set_ylabel(r\"$\\Delta\\Sigma_\\times$  $[\\times 10^{13} M_\\odot /Mpc^2]$\", fontsize=20)\n",
    "axs[0].set_title(r\"Tangential\", fontsize=20)\n",
    "axs[1].set_title(r\"Cross\", fontsize=20)\n",
    "\n",
    "for ax in axs:\n",
    "    ax.minorticks_on()\n",
    "    ax.grid(lw=0.5)\n",
    "    ax.grid(which=\"minor\", lw=0.1)\n",
    "\n",
    "plt.show()"
   ]
  },
  {
   "cell_type": "markdown",
   "id": "aa1791f1",
   "metadata": {},
   "source": [
    "## Saving/Loading ClusterEnsemble\n",
    "The `ClusterEnsemble` object also have an option for saving/loading:"
   ]
  },
  {
   "cell_type": "code",
   "execution_count": null,
   "id": "cd489bbf",
   "metadata": {},
   "outputs": [],
   "source": [
    "clusterensemble.save(\"ce.pkl\")"
   ]
  },
  {
   "cell_type": "code",
   "execution_count": null,
   "id": "c3a86d18",
   "metadata": {},
   "outputs": [],
   "source": [
    "clusterensemble2 = ClusterEnsemble.load(\"ce.pkl\")"
   ]
  }
 ],
 "metadata": {
  "kernelspec": {
   "display_name": "wrk",
   "language": "python",
   "name": "wrk"
  },
  "language_info": {
   "codemirror_mode": {
    "name": "ipython",
    "version": 3
   },
   "file_extension": ".py",
   "mimetype": "text/x-python",
   "name": "python",
   "nbconvert_exporter": "python",
   "pygments_lexer": "ipython3",
   "version": "3.10.9"
  }
 },
 "nbformat": 4,
 "nbformat_minor": 5
}
