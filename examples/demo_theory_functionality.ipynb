{
 "cells": [
  {
   "cell_type": "markdown",
   "metadata": {},
   "source": [
    "# Model WL Profiles"
   ]
  },
  {
   "cell_type": "markdown",
   "metadata": {},
   "source": [
    "## Notebook for generating an example galaxy cluster model. \n",
    "\n",
    "This notebook goes through the steps to generate model data for galaxy cluster weak lensing observables.  In particular, we define a galaxy cluster model that follows and NFW distribution and generate various profiles for the model (mass density, convergence, shear, etc.), which we plot.  Note, a full pipeline to measure a galaxy cluster weak lensing mass requires fitting the observed (or mock) data to a model.\n",
    "\n",
    "---\n",
    "**_Note 1:_** This notebook shows how to make this modeling using functions, it is simpler than using an object oriented approach but can also be slower. For the object oriented approach, see [demo_theory_functionality_oo.ipynb](https://lsstdesc.org/CLMM/compiled-examples/demo_theory_functionality_oo.html).\n",
    "\n",
    "**_Note 2:_** There are many different approaches on using the redshift information of the source. For a detailed description on it, see [demo_theory_functionality_diff_z_types.ipynb](https://lsstdesc.org/CLMM/compiled-examples/demo_theory_functionality_diff_z_types.html).\n",
    "\n"
   ]
  },
  {
   "cell_type": "code",
   "execution_count": null,
   "metadata": {},
   "outputs": [],
   "source": [
    "import numpy as np\n",
    "import matplotlib.pyplot as plt\n",
    "\n",
    "%matplotlib inline"
   ]
  },
  {
   "cell_type": "markdown",
   "metadata": {},
   "source": [
    "Imports specific to clmm "
   ]
  },
  {
   "cell_type": "code",
   "execution_count": null,
   "metadata": {},
   "outputs": [],
   "source": [
    "import os\n",
    "\n",
    "os.environ[\n",
    "    \"CLMM_MODELING_BACKEND\"\n",
    "] = \"ccl\"  # here you may choose ccl, nc (NumCosmo) or ct (cluster_toolkit)\n",
    "import clmm\n",
    "import clmm.theory as m\n",
    "from clmm import Cosmology"
   ]
  },
  {
   "cell_type": "markdown",
   "metadata": {},
   "source": [
    "Make sure we know which version we're using"
   ]
  },
  {
   "cell_type": "code",
   "execution_count": null,
   "metadata": {},
   "outputs": [],
   "source": [
    "clmm.__version__"
   ]
  },
  {
   "cell_type": "markdown",
   "metadata": {},
   "source": [
    "Define a cosmology using astropy"
   ]
  },
  {
   "cell_type": "code",
   "execution_count": null,
   "metadata": {},
   "outputs": [],
   "source": [
    "cosmo = Cosmology(H0=70.0, Omega_dm0=0.27 - 0.045, Omega_b0=0.045, Omega_k0=0.0)"
   ]
  },
  {
   "cell_type": "markdown",
   "metadata": {},
   "source": [
    "Define the galaxy cluster model.  Here, we choose parameters that describe the galaxy cluster model, including the mass definition, concentration, and mass distribution.  For the mass distribution, we choose a distribution that follows an NFW profile."
   ]
  },
  {
   "cell_type": "code",
   "execution_count": null,
   "metadata": {},
   "outputs": [],
   "source": [
    "# cluster properties\n",
    "density_profile_parametrization = \"nfw\"\n",
    "mass_Delta = 200\n",
    "cluster_mass = 1.0e15\n",
    "cluster_concentration = 4\n",
    "z_cl = 1.0\n",
    "\n",
    "# source properties\n",
    "z_source = 2.0  # all sources in the same plan\n",
    "z_distrib_func = clmm.redshift.distributions.chang2013  # sources redshift following a distribution\n",
    "alpha = [2, -0.5]"
   ]
  },
  {
   "cell_type": "markdown",
   "metadata": {},
   "source": [
    "Quick test of all theory functionality"
   ]
  },
  {
   "cell_type": "code",
   "execution_count": null,
   "metadata": {},
   "outputs": [],
   "source": [
    "r3d = np.logspace(-2, 2, 100)"
   ]
  },
  {
   "cell_type": "code",
   "execution_count": null,
   "metadata": {},
   "outputs": [],
   "source": [
    "rho = m.compute_3d_density(\n",
    "    r3d, mdelta=cluster_mass, cdelta=cluster_concentration, z_cl=z_cl, cosmo=cosmo\n",
    ")"
   ]
  },
  {
   "cell_type": "code",
   "execution_count": null,
   "metadata": {},
   "outputs": [],
   "source": [
    "Sigma = m.compute_surface_density(\n",
    "    r3d,\n",
    "    cluster_mass,\n",
    "    cluster_concentration,\n",
    "    z_cl,\n",
    "    cosmo=cosmo,\n",
    "    delta_mdef=mass_Delta,\n",
    "    halo_profile_model=density_profile_parametrization,\n",
    ")"
   ]
  },
  {
   "cell_type": "code",
   "execution_count": null,
   "metadata": {},
   "outputs": [],
   "source": [
    "DeltaSigma = m.compute_excess_surface_density(\n",
    "    r3d,\n",
    "    cluster_mass,\n",
    "    cluster_concentration,\n",
    "    z_cl,\n",
    "    cosmo=cosmo,\n",
    "    delta_mdef=mass_Delta,\n",
    "    halo_profile_model=density_profile_parametrization,\n",
    ")"
   ]
  },
  {
   "cell_type": "code",
   "execution_count": null,
   "metadata": {},
   "outputs": [],
   "source": [
    "gammat = m.compute_tangential_shear(\n",
    "    r3d,\n",
    "    mdelta=cluster_mass,\n",
    "    cdelta=cluster_concentration,\n",
    "    z_cluster=z_cl,\n",
    "    z_source=z_source,\n",
    "    cosmo=cosmo,\n",
    "    delta_mdef=mass_Delta,\n",
    "    halo_profile_model=density_profile_parametrization,\n",
    "    z_src_info=\"discrete\",\n",
    ")"
   ]
  },
  {
   "cell_type": "code",
   "execution_count": null,
   "metadata": {},
   "outputs": [],
   "source": [
    "kappa = m.compute_convergence(\n",
    "    r3d,\n",
    "    mdelta=cluster_mass,\n",
    "    cdelta=cluster_concentration,\n",
    "    z_cluster=z_cl,\n",
    "    z_source=z_source,\n",
    "    cosmo=cosmo,\n",
    "    delta_mdef=mass_Delta,\n",
    "    halo_profile_model=density_profile_parametrization,\n",
    "    z_src_info=\"discrete\",\n",
    ")"
   ]
  },
  {
   "cell_type": "code",
   "execution_count": null,
   "metadata": {},
   "outputs": [],
   "source": [
    "gt = m.compute_reduced_tangential_shear(\n",
    "    r3d,\n",
    "    mdelta=cluster_mass,\n",
    "    cdelta=cluster_concentration,\n",
    "    z_cluster=z_cl,\n",
    "    z_source=z_source,\n",
    "    cosmo=cosmo,\n",
    "    delta_mdef=mass_Delta,\n",
    "    halo_profile_model=density_profile_parametrization,\n",
    "    z_src_info=\"discrete\",\n",
    ")"
   ]
  },
  {
   "cell_type": "code",
   "execution_count": null,
   "metadata": {},
   "outputs": [],
   "source": [
    "mu = m.compute_magnification(\n",
    "    r3d,\n",
    "    mdelta=cluster_mass,\n",
    "    cdelta=cluster_concentration,\n",
    "    z_cluster=z_cl,\n",
    "    z_source=z_source,\n",
    "    cosmo=cosmo,\n",
    "    delta_mdef=mass_Delta,\n",
    "    halo_profile_model=density_profile_parametrization,\n",
    "    z_src_info=\"discrete\",\n",
    ")"
   ]
  },
  {
   "cell_type": "code",
   "execution_count": null,
   "metadata": {},
   "outputs": [],
   "source": [
    "mu_bias = m.compute_magnification_bias(\n",
    "    r3d,\n",
    "    alpha=alpha,\n",
    "    mdelta=cluster_mass,\n",
    "    cdelta=cluster_concentration,\n",
    "    z_cluster=z_cl,\n",
    "    z_source=z_source,\n",
    "    cosmo=cosmo,\n",
    "    delta_mdef=mass_Delta,\n",
    "    halo_profile_model=density_profile_parametrization,\n",
    "    z_src_info=\"discrete\",\n",
    ")"
   ]
  },
  {
   "cell_type": "markdown",
   "metadata": {},
   "source": [
    "Lensing quantities assuming sources follow a given redshift distribution."
   ]
  },
  {
   "cell_type": "code",
   "execution_count": null,
   "metadata": {},
   "outputs": [],
   "source": [
    "gt_z = m.compute_reduced_tangential_shear(\n",
    "    r3d,\n",
    "    mdelta=cluster_mass,\n",
    "    cdelta=cluster_concentration,\n",
    "    z_cluster=z_cl,\n",
    "    z_source=z_distrib_func,\n",
    "    cosmo=cosmo,\n",
    "    delta_mdef=mass_Delta,\n",
    "    halo_profile_model=density_profile_parametrization,\n",
    "    z_src_info=\"distribution\",\n",
    "    approx=\"order2\",\n",
    ")"
   ]
  },
  {
   "cell_type": "markdown",
   "metadata": {},
   "source": [
    "Plot the predicted profiles"
   ]
  },
  {
   "cell_type": "code",
   "execution_count": null,
   "metadata": {},
   "outputs": [],
   "source": [
    "def plot_profile(r, profile_vals, profile_label=\"rho\", label=\"\"):\n",
    "    plt.loglog(r, profile_vals, label=label)\n",
    "    plt.xlabel(\"r [Mpc]\", fontsize=\"xx-large\")\n",
    "    plt.ylabel(profile_label, fontsize=\"xx-large\")"
   ]
  },
  {
   "cell_type": "code",
   "execution_count": null,
   "metadata": {},
   "outputs": [],
   "source": [
    "plot_profile(r3d, rho, \"$\\\\rho_{\\\\rm 3d}$\")"
   ]
  },
  {
   "cell_type": "code",
   "execution_count": null,
   "metadata": {},
   "outputs": [],
   "source": [
    "plot_profile(r3d, Sigma, \"$\\\\Sigma_{\\\\rm 2d}$\")"
   ]
  },
  {
   "cell_type": "code",
   "execution_count": null,
   "metadata": {},
   "outputs": [],
   "source": [
    "plot_profile(r3d, DeltaSigma, \"$\\\\Delta\\\\Sigma_{\\\\rm 2d}$\")"
   ]
  },
  {
   "cell_type": "code",
   "execution_count": null,
   "metadata": {
    "scrolled": true
   },
   "outputs": [],
   "source": [
    "plot_profile(r3d, kappa, \"$\\\\kappa$\")"
   ]
  },
  {
   "cell_type": "code",
   "execution_count": null,
   "metadata": {},
   "outputs": [],
   "source": [
    "plot_profile(r3d, gammat, \"$\\\\gamma_t$\")"
   ]
  },
  {
   "cell_type": "code",
   "execution_count": null,
   "metadata": {},
   "outputs": [],
   "source": [
    "plot_profile(r3d, gt, \"$g_t$\", label=\"single plane\")\n",
    "plot_profile(r3d, gt_z, \"$g_t$\", label=\"redshift distribution\")\n",
    "plt.legend()"
   ]
  },
  {
   "cell_type": "code",
   "execution_count": null,
   "metadata": {},
   "outputs": [],
   "source": [
    "plot_profile(r3d, mu, \"$\\mu$\")"
   ]
  },
  {
   "cell_type": "code",
   "execution_count": null,
   "metadata": {},
   "outputs": [],
   "source": [
    "plot_profile(\n",
    "    r3d, mu_bias[0] - 1, profile_label=\"$\\delta_{\\mu}$\", label=\"$\\\\alpha$ =\" + str(alpha[0])\n",
    ")\n",
    "plot_profile(r3d, mu_bias[1] - 1, \"$\\delta_{\\mu}$\", label=\"$\\\\alpha$ =\" + str(alpha[1]))\n",
    "\n",
    "plt.legend(fontsize=\"xx-large\")\n",
    "plt.yscale(\"linear\")\n",
    "plt.grid()\n",
    "\n",
    "plt.ylim(-3, 5)"
   ]
  },
  {
   "cell_type": "code",
   "execution_count": null,
   "metadata": {},
   "outputs": [],
   "source": [
    "# The 2-halo term excess surface density is only implemented for the CCL and NC backends\n",
    "# An error will be raised if using the CT backend instead\n",
    "\n",
    "DeltaSigma_2h = m.compute_excess_surface_density_2h(r3d, z_cl, cosmo=cosmo, halobias=0.3)\n",
    "plot_profile(r3d, DeltaSigma_2h, \"$\\\\Delta\\\\Sigma_{\\\\rm 2h}$\")"
   ]
  },
  {
   "cell_type": "code",
   "execution_count": null,
   "metadata": {},
   "outputs": [],
   "source": [
    "# The 2-halo term excess surface density is only implemented for the CCL and NC backends\n",
    "# An error will be raised if using the CT backend instead\n",
    "\n",
    "Sigma_2h = m.compute_surface_density_2h(r3d, z_cl, cosmo=cosmo, halobias=0.3)\n",
    "plot_profile(r3d, Sigma_2h, \"$\\\\Sigma_{\\\\rm 2h}$\")"
   ]
  },
  {
   "cell_type": "markdown",
   "metadata": {},
   "source": [
    "## Side note regarding the Einasto profile (CCL and NC backends only)\n",
    "\n",
    "The Einasto profile is supported by both the CCL and NumCosmo backends. The value of the slope of the Einasto profile can be defined by the user, using the `alpha_ein` keyword. If `alpha_ein` is not provided, both backend revert to a default value for the Einasto slope:\n",
    "- In CCL, the default Einasto slope depends on cosmology, redshift and halo mass.\n",
    "- In NumCosmo, the default value is $\\alpha_{\\rm ein}=0.25$.\n",
    "\n",
    "**NB: for CCL, setting a user-defined value for the Einasto slope is only available for versions >= 2.6.** Earlier versions only allow the default option.\n",
    "\n",
    "The verbose option allows to print the value of $\\alpha$ that is being used, as follows:"
   ]
  },
  {
   "cell_type": "code",
   "execution_count": null,
   "metadata": {},
   "outputs": [],
   "source": [
    "rho = m.compute_3d_density(\n",
    "    r3d,\n",
    "    mdelta=cluster_mass,\n",
    "    cdelta=cluster_concentration,\n",
    "    z_cl=z_cl,\n",
    "    cosmo=cosmo,\n",
    "    halo_profile_model=\"einasto\",\n",
    "    alpha_ein=0.17,\n",
    "    verbose=True,\n",
    ")\n",
    "\n",
    "# For CCL < 2.6, the above call will return an error, as alpha_ein can not be set. The call below, not specifying alpha_ein,\n",
    "# will use the default value (for both CCL and NC backends)\n",
    "\n",
    "# rho = m.compute_3d_density(r3d, mdelta=cluster_mass, cdelta=cluster_concentration,\n",
    "#                            z_cl=z_cl, cosmo=cosmo, halo_profile_model='einasto',\n",
    "#                            verbose=True)\n",
    "\n",
    "\n",
    "plot_profile(r3d, rho, \"$\\\\rho_{\\\\rm 3d}$\")"
   ]
  },
  {
   "cell_type": "markdown",
   "metadata": {},
   "source": [
    "## Side note regarding the Einasto profile (CCL backend only)\n",
    "\n",
    "For CCL versions >= 2.8.1.dev73+g86125b08, the surface mass density profile can be calculated with the quad_vec numerial integration in addition to the default FFTLog. This option will increase the precision of the profile at large radii and can be enabled by passing `use_projected_quad` keyword argument to `compute_surface_density`."
   ]
  },
  {
   "cell_type": "code",
   "execution_count": null,
   "metadata": {},
   "outputs": [],
   "source": [
    "# use quad_vec\n",
    "Sigma_quad = m.compute_surface_density(\n",
    "    r3d,\n",
    "    mdelta=cluster_mass,\n",
    "    cdelta=cluster_concentration,\n",
    "    z_cl=z_cl,\n",
    "    cosmo=cosmo,\n",
    "    halo_profile_model=\"einasto\",\n",
    "    alpha_ein=0.17,\n",
    "    use_projected_quad=True, # use quad_vec\n",
    "    verbose=True,\n",
    ")\n",
    "\n",
    "plot_profile(r3d, Sigma_quad, \"$\\\\Sigma_{\\\\rm quad}$\")"
   ]
  },
  {
   "cell_type": "code",
   "execution_count": null,
   "metadata": {},
   "outputs": [],
   "source": [
    "# default behavior\n",
    "Sigma_FFTLog = m.compute_surface_density(\n",
    "    r3d,\n",
    "    mdelta=cluster_mass,\n",
    "    cdelta=cluster_concentration,\n",
    "    z_cl=z_cl,\n",
    "    cosmo=cosmo,\n",
    "    halo_profile_model=\"einasto\",\n",
    "    alpha_ein=0.17,\n",
    "    use_projected_quad=False, # default\n",
    "    verbose=True,\n",
    ")\n",
    "\n",
    "plot_profile(r3d, Sigma_FFTLog, \"$\\\\Sigma_{\\\\rm FFTLog}$\")"
   ]
  }
 ],
 "metadata": {
  "kernelspec": {
   "display_name": "Python 3 (ipykernel)",
   "language": "python",
   "name": "python3"
  },
  "language_info": {
   "codemirror_mode": {
    "name": "ipython",
    "version": 3
   },
   "file_extension": ".py",
   "mimetype": "text/x-python",
   "name": "python",
   "nbconvert_exporter": "python",
   "pygments_lexer": "ipython3",
   "version": "3.11.5"
  }
 },
 "nbformat": 4,
 "nbformat_minor": 4
}
