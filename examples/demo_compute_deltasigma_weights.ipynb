{
 "cells": [
  {
   "cell_type": "markdown",
   "id": "68dc9675-9e74-434d-aba3-e90e5a0280c6",
   "metadata": {},
   "source": [
    "# Weak lensing weights\n",
    "## Weak lensing weights to compute the $\\Delta\\Sigma$ profile\n",
    "\n",
    "The excess surface mass density profile computed from the data is computed from a weighted average\n",
    "$$\n",
    "     \\widehat{\\Delta\\Sigma}_+(R) = \\frac{1}{\\sum\\limits_{l,s = 1} w_{l,s}}\n",
    "     \\sum\\limits_{l,s= 1}w_{l,s}\\widehat{\\Sigma_{{\\rm crit}}}(z_s, z_l)\\epsilon_+^{l,s}.\n",
    "$$\n",
    "\n",
    "where the sum runs over all lens-background source pairs, $\\epsilon_+^{l,s}$ is the tangential ellipticity, $\\Sigma_{\\rm crit}(z_s, z_l)$ is the critical surface density, and where the weights\n",
    "\n",
    "$$\n",
    "    w_{l,s} = \\frac{\\left(\\int_{z_l}^{+\\infty}\\Sigma_{\\rm crit}(z_l, z)^{-1}p(z) dz\\right)^2}{\\sigma^2_{\\rm shapenoise} + \\sigma^2_{\\rm shape\\ error}}.\n",
    "$$\n",
    "Where $p(z)$ is the photometric redshift ditribution. These weights correspond to the maximum likelihood estimator of $\\Delta\\Sigma$ (e.g., Shirasaki & Takada 2018).\n",
    "\n",
    "Identifying background galaxies can be made by considering the individual probability to be in the background of the cluster i.e. \n",
    "$$\n",
    "P(z > z_l) = \\int_{z_l}^{+\\infty} dz\\ p(z) \n",
    "$$\n",
    "to be higher than a given threshold.\n",
    "\n",
    "In this notebook, we show the `clmm` functionalities developed to compute:\n",
    "- those weights under a variety of configuration (true redhsifts or photoz, shape noise or not, ideal galaxy shapes or not).\n",
    "- the background probability $P(z > z_l)$ for each galaxy"
   ]
  },
  {
   "cell_type": "code",
   "execution_count": null,
   "id": "88e8bdd1",
   "metadata": {},
   "outputs": [],
   "source": [
    "%load_ext autoreload\n",
    "%autoreload 2\n",
    "import sys\n",
    "import os\n",
    "\n",
    "import numpy as np\n",
    "import matplotlib.pyplot as plt\n",
    "from astropy.table import Table\n",
    "import scipy\n",
    "import copy\n",
    "\n",
    "import clmm\n",
    "from clmm import Cosmology\n",
    "from clmm import GalaxyCluster\n",
    "from clmm.dataops import compute_galaxy_weights, compute_background_probability\n",
    "from clmm.support import mock_data as mock\n",
    "\n",
    "clmm.__version__"
   ]
  },
  {
   "cell_type": "code",
   "execution_count": null,
   "id": "2b021533-9563-4b7f-9f77-6b9765938e71",
   "metadata": {},
   "outputs": [],
   "source": [
    "np.random.seed(11)"
   ]
  },
  {
   "cell_type": "code",
   "execution_count": null,
   "id": "b8b70cdf",
   "metadata": {},
   "outputs": [],
   "source": [
    "cosmo = Cosmology(H0=71.0, Omega_dm0=0.265 - 0.0448, Omega_b0=0.0448, Omega_k0=0.0)"
   ]
  },
  {
   "cell_type": "code",
   "execution_count": null,
   "id": "4bcd70d3",
   "metadata": {},
   "outputs": [],
   "source": [
    "cluster_z = 0.4\n",
    "cluster_m = 1.0e14\n",
    "cluster_c = 4\n",
    "cluster_ra = 0.0\n",
    "cluster_dec = 0.0"
   ]
  },
  {
   "cell_type": "code",
   "execution_count": null,
   "id": "74790332",
   "metadata": {},
   "outputs": [],
   "source": [
    "noisy_data_z = mock.generate_galaxy_catalog(\n",
    "    cluster_m,\n",
    "    cluster_z,\n",
    "    cluster_c,\n",
    "    cosmo,\n",
    "    cluster_ra=cluster_ra,\n",
    "    cluster_dec=cluster_dec,\n",
    "    delta_so=200,\n",
    "    massdef=\"critical\",\n",
    "    halo_profile_model=\"nfw\",\n",
    "    zsrc=\"chang13\",\n",
    "    zsrc_min=0.15,\n",
    "    zsrc_max=3.0,\n",
    "    photoz_sigma_unscaled=0.05,\n",
    "    shapenoise=0.05,\n",
    "    mean_e_err=0.1,\n",
    "    field_size=10.0,\n",
    "    ngals=3000,\n",
    ")\n",
    "z_gal = noisy_data_z[\"ztrue\"]\n",
    "# add redshift dependency on shape measurement error\n",
    "noisy_data_z[\"e_err\"] = noisy_data_z[\"e_err\"] * (1 + 0.4 * noisy_data_z[\"ztrue\"])\n",
    "cl0 = GalaxyCluster(\"mock_cluster\", cluster_ra, cluster_dec, cluster_z, noisy_data_z)"
   ]
  },
  {
   "cell_type": "code",
   "execution_count": null,
   "id": "71a6f518-f910-4d5e-b5a5-7c9d82366b86",
   "metadata": {},
   "outputs": [],
   "source": [
    "args = (\"mock_cluster\", cluster_ra, cluster_dec, cluster_z, noisy_data_z)\n",
    "cl1 = GalaxyCluster(*args)\n",
    "cl2 = GalaxyCluster(*args)\n",
    "cl3 = GalaxyCluster(*args)"
   ]
  },
  {
   "cell_type": "markdown",
   "id": "d1e1ec03",
   "metadata": {},
   "source": [
    "## Compute the WL weights"
   ]
  },
  {
   "cell_type": "markdown",
   "id": "de35fdb0-5551-4a41-8200-e43abca422b8",
   "metadata": {},
   "source": [
    "### redshift point estimate + no shape error\n",
    "\n",
    "$$\n",
    "w_{\\rm ls} = \\Sigma_{\\rm crit}(z_l, z_s)^{-2}\n",
    "$$"
   ]
  },
  {
   "cell_type": "markdown",
   "id": "747e99bf",
   "metadata": {},
   "source": [
    "#### using the functional interface\n",
    "\n",
    "Here, we use the true source redshifts stored in `z_gal`"
   ]
  },
  {
   "cell_type": "code",
   "execution_count": null,
   "id": "05f947c3",
   "metadata": {},
   "outputs": [],
   "source": [
    "w_ls_true = compute_galaxy_weights(\n",
    "    cluster_z,\n",
    "    cosmo,\n",
    "    z_source=z_gal,\n",
    "    shape_component1=noisy_data_z[\"e1\"],\n",
    "    shape_component2=noisy_data_z[\"e2\"],\n",
    "    shape_component1_err=noisy_data_z[\"e_err\"],\n",
    "    shape_component2_err=noisy_data_z[\"e_err\"],\n",
    "    use_pdz=False,\n",
    "    pzpdf=None,\n",
    "    pzbins=None,\n",
    "    use_shape_noise=False,\n",
    "    is_deltasigma=True,\n",
    ")"
   ]
  },
  {
   "cell_type": "markdown",
   "id": "206a9562",
   "metadata": {},
   "source": [
    "#### or as a method of the `GalaxyCluster` object\n",
    "As a method of the `GalaxyCluster` object, `compute_galaxy_weights` uses the content of the `z` column of the object's `galcat` table as the source redshift point estimates. Given that mock data was generated with a photoz error, this point estimate is different from the true redshift used in the cell above."
   ]
  },
  {
   "cell_type": "code",
   "execution_count": null,
   "id": "0ce7f15d",
   "metadata": {},
   "outputs": [],
   "source": [
    "w_ls_point = cl0.compute_galaxy_weights(\n",
    "    use_pdz=False, weight_name=\"w_ls_point\", cosmo=cosmo, is_deltasigma=True, add=True\n",
    ")"
   ]
  },
  {
   "cell_type": "markdown",
   "id": "b5195cda-4092-470f-a2de-5d9816a8aa70",
   "metadata": {},
   "source": [
    "### photoz + no shape errors"
   ]
  },
  {
   "cell_type": "markdown",
   "id": "5f288e2c-32cc-4f35-8744-c66c073b3024",
   "metadata": {},
   "source": [
    "$$\n",
    "w_{\\rm ls} = \\left(\\int_{z_l}^{+\\infty}\\Sigma_{\\rm crit}(z_l, z)^{-1}p(z) dz\\right)^2\n",
    "$$"
   ]
  },
  {
   "cell_type": "markdown",
   "id": "5285a1a7-e990-4d83-a418-15e04d80a948",
   "metadata": {},
   "source": [
    "When used as a method of the `GalaxyCluster` object, with `use_pdz=True`, `compute_galaxy_weights` uses the content of the `pzpdf` and `pzbins` columns of the `galcat` table. It will return an error if those do not exist."
   ]
  },
  {
   "cell_type": "code",
   "execution_count": null,
   "id": "b56b9478",
   "metadata": {},
   "outputs": [],
   "source": [
    "w_ls_photoz = cl1.compute_galaxy_weights(\n",
    "    use_pdz=True, weight_name=\"w_ls_photoz\", cosmo=cosmo, is_deltasigma=True, add=True\n",
    ")"
   ]
  },
  {
   "cell_type": "markdown",
   "id": "8aff3684-360f-4084-9a51-fb5fb407adc7",
   "metadata": {},
   "source": [
    "### redshift point estimate + shape error"
   ]
  },
  {
   "cell_type": "markdown",
   "id": "b1f4fd49-4a5a-480a-a67c-046da6dd4b80",
   "metadata": {},
   "source": [
    "$$\n",
    "w_{\\rm ls} = \\frac{\\Sigma_{\\rm crit}(z_l, z_s)^{-2}}{\\sigma_{\\rm shapenoise}^2 + \\sigma^2_{\\rm shape\\ error}}\n",
    "$$"
   ]
  },
  {
   "cell_type": "code",
   "execution_count": null,
   "id": "ccfe5c83",
   "metadata": {},
   "outputs": [],
   "source": [
    "w_ls_shape = cl2.compute_galaxy_weights(\n",
    "    use_pdz=False,\n",
    "    use_shape_noise=True,\n",
    "    shape_component1=\"e1\",\n",
    "    shape_component2=\"e2\",\n",
    "    use_shape_error=True,\n",
    "    shape_component1_err=\"e_err\",\n",
    "    shape_component2_err=\"e_err\",\n",
    "    weight_name=\"w_ls_shape\",\n",
    "    cosmo=cosmo,\n",
    "    is_deltasigma=True,\n",
    "    add=True,\n",
    ")"
   ]
  },
  {
   "cell_type": "markdown",
   "id": "1eb3565f-49b1-40db-986f-0294dad06ad6",
   "metadata": {},
   "source": [
    "### photoz + shape error"
   ]
  },
  {
   "cell_type": "markdown",
   "id": "d8cdadd9-3da3-4371-9e12-684aca1d6083",
   "metadata": {},
   "source": [
    "$$\n",
    "w_{\\rm ls} = \\frac{\\left(\\int_{z_l}^{+\\infty}\\Sigma_{\\rm crit}(z_l, z)^{-1}p(z) dz\\right)^2}{\\sigma_{\\rm shapenoise}^2 + \\sigma^2_{\\rm shape\\ error}}\n",
    "$$"
   ]
  },
  {
   "cell_type": "code",
   "execution_count": null,
   "id": "5e581173",
   "metadata": {},
   "outputs": [],
   "source": [
    "w_ls_photoz_shape = cl3.compute_galaxy_weights(\n",
    "    use_pdz=True,\n",
    "    use_shape_noise=True,\n",
    "    shape_component1=\"e1\",\n",
    "    shape_component2=\"e2\",\n",
    "    use_shape_error=True,\n",
    "    shape_component1_err=\"e_err\",\n",
    "    shape_component2_err=\"e_err\",\n",
    "    weight_name=\"w_ls_photoz_shape\",\n",
    "    cosmo=cosmo,\n",
    "    is_deltasigma=True,\n",
    "    add=True,\n",
    ")"
   ]
  },
  {
   "cell_type": "markdown",
   "id": "84764558-67df-470f-93ff-32bd5956b40d",
   "metadata": {},
   "source": [
    "With `add=True`, the weights have been added as new columns in the `cl.galcat` Table. A new `sigma_c` column is also automatically added."
   ]
  },
  {
   "cell_type": "code",
   "execution_count": null,
   "id": "1d0cdfbc-8ffd-4c7f-b8a5-9ca3dbf1dfc3",
   "metadata": {},
   "outputs": [],
   "source": [
    "cl0.galcat.colnames"
   ]
  },
  {
   "cell_type": "markdown",
   "id": "392114b6-08bd-4243-9383-59a0fd3b0014",
   "metadata": {
    "tags": []
   },
   "source": [
    "### $\\Sigma_c$ metadata\n",
    "\n",
    "As seen above, the weights are computed either using the standard definition of $\\Sigma_c^{\\rm std}$, using point estimate redshift, or the effective definition based on the inverse $\\Sigma_c^{\\rm eff}$ averaged over the redshift PDF $p(z)$:\n",
    "\n",
    "$$ \n",
    "\\Sigma_c^{\\rm std}\\equiv\\Sigma_{\\rm crit}(z_l, z_s) \\;\\;{\\rm and}\\;\\; \\Sigma_c^{\\rm eff}\\equiv\\left( \\int \\Sigma_{\\rm crit}(z_l, z)^{-1} p(z) dz\\right)^{-1}\n",
    "$$\n",
    "\n",
    "To keep track of what definition of $\\Sigma_c$ was used, `standard` or `effective` the user may look into the `galcat` metadata "
   ]
  },
  {
   "cell_type": "code",
   "execution_count": null,
   "id": "683d2ce5-914c-4abe-96c8-e97f2d07fb43",
   "metadata": {},
   "outputs": [],
   "source": [
    "print(f\"For cluster 0: {cl0.galcat.meta['sigmac_type']}\")\n",
    "print(f\"For cluster 1: {cl1.galcat.meta['sigmac_type']}\")"
   ]
  },
  {
   "cell_type": "markdown",
   "id": "f8096f22-4552-46e8-9bfe-4e26667994fe",
   "metadata": {},
   "source": [
    "### Vizualizing the results\n",
    "\n",
    "The figure below shows the normalized weight per galaxy $\\widehat{w}_{ls} = \\frac{w_{ls}}{\\sum _{s = 1}^N w_{ls}}$."
   ]
  },
  {
   "cell_type": "code",
   "execution_count": null,
   "id": "7d6749d0",
   "metadata": {},
   "outputs": [],
   "source": [
    "plt.rcParams[\"axes.linewidth\"] = 1\n",
    "fig, ax = plt.subplots(1, 2, figsize=(10, 5), sharey=True)\n",
    "fig.subplots_adjust(wspace=0, hspace=0)\n",
    "ax[0].tick_params(axis=\"both\", which=\"major\", labelsize=10)\n",
    "ax[1].tick_params(axis=\"both\", which=\"major\", labelsize=10)\n",
    "\n",
    "ax[0].axvline(cluster_z, color=\"black\", linestyle=\":\")\n",
    "ax[1].axvline(cluster_z, color=\"black\", linestyle=\":\")\n",
    "\n",
    "ax[0].scatter(\n",
    "    z_gal,\n",
    "    1e3 * cl0.galcat[\"w_ls_point\"] / np.sum(cl0.galcat[\"w_ls_point\"]),\n",
    "    c=\"r\",\n",
    "    label=\"point estimate z\",\n",
    "    s=5,\n",
    ")\n",
    "ax[0].scatter(\n",
    "    z_gal,\n",
    "    1e3 * cl1.galcat[\"w_ls_photoz\"] / np.sum(cl1.galcat[\"w_ls_photoz\"]),\n",
    "    c=\"orange\",\n",
    "    label=\"photoz pdf\",\n",
    "    marker=\"+\",\n",
    "    s=5,\n",
    ")\n",
    "ax[0].scatter(z_gal, 1e3 * w_ls_true / np.sum(w_ls_true), c=\"g\", label=\"true z\", marker=\"x\", s=5)\n",
    "ax[1].scatter(\n",
    "    z_gal,\n",
    "    1e3 * cl2.galcat[\"w_ls_shape\"] / np.sum(cl2.galcat[\"w_ls_shape\"]),\n",
    "    c=\"blue\",\n",
    "    label=r\"shape_error, point z\",\n",
    "    s=5,\n",
    ")\n",
    "ax[1].scatter(\n",
    "    z_gal,\n",
    "    1e3 * cl3.galcat[\"w_ls_photoz_shape\"] / np.sum(cl3.galcat[\"w_ls_photoz_shape\"]),\n",
    "    c=\"cyan\",\n",
    "    label=\"shape_error + photoz pdf\",\n",
    "    s=5,\n",
    "    marker=\"+\",\n",
    ")\n",
    "ax[0].legend(frameon=False, fontsize=13)\n",
    "ax[1].legend(frameon=False, fontsize=13)\n",
    "ax[0].set_ylabel(r\"$\\widehat{w}_{ls} (\\times 10^{-3})$\", fontsize=20)\n",
    "ax[0].set_xlabel(\"true redshift\", fontsize=14)\n",
    "ax[1].set_xlabel(\"true redshift\", fontsize=14)"
   ]
  },
  {
   "cell_type": "markdown",
   "id": "70d75c94-60f1-429e-ad6e-6aaacaf48ebb",
   "metadata": {},
   "source": [
    "- The galaxy weights increase with the true galaxy redshift (left panel, red dots), i.e. weights take account that galaxies far from the cluster are more sheared than closer ones.\n",
    "- Using true redshift (left panel, green dots), weights for foreground galaxies are 0.\n",
    "- Adding photoz, either point estimate or including p(z) (left panel, red and orange dots):\n",
    "   - weights are scattered around the true redshift weigthts (when photoz's are not biased)\n",
    "   - some foreground galaxies (with true redshift < $z_{\\rm cluster}$) have non-zero weights\n",
    "   - here the point estimate and p(z) results are very close because `mock_data` generates photoz a gaussian p(z) with the point estimate at the mean. Reality will be more complex and the orange and red points may differ more.\n",
    "- Adding shape error with redshift dependency $\\sigma(z) = \\sigma_0(1 + \\alpha z)$ (right panel, blus dots), high redshift galaxies with measured shapes have smaller weights than considering true shapes (comparing to left panel, red dots).\n",
    "- when combining photoz + shape error, both effects can be seen on galaxy weights (right panel, cyan dots)."
   ]
  },
  {
   "cell_type": "markdown",
   "id": "dff3d90e",
   "metadata": {},
   "source": [
    "### Background probability"
   ]
  },
  {
   "cell_type": "markdown",
   "id": "7231e5ec-062a-49ee-a41a-3e2c0d36e5cd",
   "metadata": {},
   "source": [
    "The probability for a galaxy with photometric redshift of being in the background of the cluster is given by\n",
    "$$\n",
    "P(z > z_l) = \\int_{z_l}^{+\\infty} dz\\ p(z) \n",
    "$$"
   ]
  },
  {
   "cell_type": "code",
   "execution_count": null,
   "id": "6481f253",
   "metadata": {},
   "outputs": [],
   "source": [
    "# Generate new GC object with smaller photoz dispersion for comparison with cl0.\n",
    "noisy_data_z_2 = mock.generate_galaxy_catalog(\n",
    "    1e14,\n",
    "    cluster_z,\n",
    "    4,\n",
    "    cosmo,\n",
    "    delta_so=200,\n",
    "    massdef=\"critical\",\n",
    "    halo_profile_model=\"nfw\",\n",
    "    zsrc=\"chang13\",\n",
    "    zsrc_min=0.1,\n",
    "    zsrc_max=3.0,\n",
    "    photoz_sigma_unscaled=0.02,\n",
    "    shapenoise=0.05,\n",
    "    mean_e_err=0.1,\n",
    "    field_size=10.0,\n",
    "    ngals=3000,\n",
    ")\n",
    "cl0_new = clmm.GalaxyCluster(\"mock_cluster\", 0, 0, cluster_z, noisy_data_z_2)"
   ]
  },
  {
   "cell_type": "code",
   "execution_count": null,
   "id": "8e4e4fcf-84d3-43d6-8bb3-498b5f8121c4",
   "metadata": {},
   "outputs": [],
   "source": [
    "p_background_true = compute_background_probability(cluster_z, z_gal)  # based on cl0 generation"
   ]
  },
  {
   "cell_type": "code",
   "execution_count": null,
   "id": "3753c288-4a93-40a7-9eb4-efe0bd658f37",
   "metadata": {},
   "outputs": [],
   "source": [
    "p_background_photoz_1 = cl0.compute_background_probability(\n",
    "    use_pdz=True, p_background_name=\"p_background_photoz_1\", add=True\n",
    ")"
   ]
  },
  {
   "cell_type": "code",
   "execution_count": null,
   "id": "ffe9ee72",
   "metadata": {},
   "outputs": [],
   "source": [
    "p_background_photoz_2 = cl0_new.compute_background_probability(\n",
    "    use_pdz=True, p_background_name=\"p_background_photoz_2\", add=True\n",
    ")"
   ]
  },
  {
   "cell_type": "code",
   "execution_count": null,
   "id": "cc7b66f7",
   "metadata": {},
   "outputs": [],
   "source": [
    "# plt.rcParams['axes.linewidth'] = 1\n",
    "fig = plt.figure(figsize=(8, 5))\n",
    "\n",
    "plt.tick_params(axis=\"both\", which=\"major\", labelsize=10)\n",
    "plt.scatter(\n",
    "    cl0_new.galcat[\"ztrue\"],\n",
    "    p_background_photoz_2,\n",
    "    c=\"darkorange\",\n",
    "    label=r\"$\\sigma_z = 0.02$\",\n",
    "    marker=\"x\",\n",
    "    s=10,\n",
    "    alpha=0.5,\n",
    ")\n",
    "plt.scatter(\n",
    "    cl0.galcat[\"ztrue\"],\n",
    "    p_background_photoz_1,\n",
    "    c=\"blue\",\n",
    "    label=r\"$\\sigma_z = 0.05$\",\n",
    "    marker=\"+\",\n",
    "    s=10,\n",
    "    alpha=0.5,\n",
    ")\n",
    "plt.scatter(z_gal, p_background_true, c=\"green\", s=3, zorder=110, label=\"True z\")\n",
    "\n",
    "plt.vlines(cluster_z, -0.1, 1.1, color=\"k\", linestyle=\":\")\n",
    "plt.xlim([0.0, 1])\n",
    "plt.ylim([-0.1, 1.1])\n",
    "\n",
    "plt.xlabel(\"true source redshift\", fontsize=15)\n",
    "plt.ylabel(r\"$P(z_s > z_l)$\", fontsize=15)\n",
    "plt.legend(frameon=True, fontsize=15)\n",
    "\n",
    "\n",
    "ax2 = fig.add_axes([0.155, 0.65, 0.17, 0.18])\n",
    "ax2.scatter(\n",
    "    cl0_new.galcat[\"z\"],\n",
    "    p_background_photoz_2,\n",
    "    c=\"darkorange\",\n",
    "    label=r\"$\\sigma_z = 0.02$\",\n",
    "    marker=\"x\",\n",
    "    s=1,\n",
    "    alpha=0.5,\n",
    "    lw=0.1,\n",
    ")\n",
    "ax2.scatter(\n",
    "    cl0.galcat[\"z\"],\n",
    "    p_background_photoz_1,\n",
    "    c=\"blue\",\n",
    "    label=r\"$\\sigma_z = 0.05$\",\n",
    "    marker=\"+\",\n",
    "    s=1,\n",
    "    alpha=0.5,\n",
    "    lw=0.1,\n",
    ")\n",
    "for item in (\n",
    "    ax2.title,\n",
    "    ax2.xaxis.label,\n",
    "    ax2.yaxis.label,\n",
    "    *ax2.get_xticklabels(),\n",
    "    *ax2.get_yticklabels(),\n",
    "):\n",
    "    item.set_fontsize(5)\n",
    "ax2.set_yticklabels([])\n",
    "ax2.vlines(cluster_z, -0.1, 1.1, color=\"k\", linestyle=\":\")\n",
    "ax2.set_xlim([0.0, 1])\n",
    "ax2.set_ylim([-0.1, 1.1])\n",
    "ax2.set_xlabel(\"obs. source redshift\", fontsize=10)"
   ]
  },
  {
   "cell_type": "markdown",
   "id": "5cb9e668-5f92-4614-a04a-b2c7d020b27b",
   "metadata": {},
   "source": [
    "The figure above shows the background probability $P(z > z_l)$ for each galaxy.\n",
    "- When using true redshift (green), the background probability is a Heavyside function centered on $z_s$, i.e. $p(z) = \\delta^D(z-z_s)$.\n",
    "- When using photometric redshift (blue and orange dots), galaxies on the foreground of the cluster have non-zero probability to be in the background. Idem, for close galaxies in the background, the probability in being in the foreground is non-zero.\n",
    "- These weights represent the fraction of the galaxy PDF that is located behind the cluster and is mapped to the observed redshift as it can be seen on the top left panel. The scatter in the main panel comes from the scatter between true and observed redshifts."
   ]
  }
 ],
 "metadata": {
  "kernelspec": {
   "display_name": "Python 3 (ipykernel)",
   "language": "python",
   "name": "python3"
  },
  "language_info": {
   "codemirror_mode": {
    "name": "ipython",
    "version": 3
   },
   "file_extension": ".py",
   "mimetype": "text/x-python",
   "name": "python",
   "nbconvert_exporter": "python",
   "pygments_lexer": "ipython3",
   "version": "3.10.8"
  }
 },
 "nbformat": 4,
 "nbformat_minor": 5
}
