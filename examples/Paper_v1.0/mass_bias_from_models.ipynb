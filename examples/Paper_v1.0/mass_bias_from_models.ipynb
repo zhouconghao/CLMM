{
 "cells": [
  {
   "cell_type": "markdown",
   "metadata": {},
   "source": [
    "# Impact of the backend modeling on the reconstructed mass\n",
    "\n",
    "This notebook was setup to guide the discussion in section 3.2.3 of the CLMM v1.0 paper."
   ]
  },
  {
   "cell_type": "code",
   "execution_count": null,
   "metadata": {},
   "outputs": [],
   "source": [
    "import os\n",
    "\n",
    "os.environ[\"CLMM_MODELING_BACKEND\"] = \"ct\"\n",
    "import sys\n",
    "import math\n",
    "import numpy as np\n",
    "import matplotlib.pyplot as plt\n",
    "\n",
    "%matplotlib inline"
   ]
  },
  {
   "cell_type": "code",
   "execution_count": null,
   "metadata": {},
   "outputs": [],
   "source": [
    "# CLMM with ct be\n",
    "import clmm\n",
    "import clmm.theory as mod\n",
    "from clmm import Cosmology as clmm_cosmo\n",
    "from clmm.support.sampler import fitters\n",
    "from clmm.constants import Constants as const"
   ]
  },
  {
   "cell_type": "code",
   "execution_count": null,
   "metadata": {},
   "outputs": [],
   "source": [
    "import cluster_toolkit as ct"
   ]
  },
  {
   "cell_type": "code",
   "execution_count": null,
   "metadata": {},
   "outputs": [],
   "source": [
    "# NumCosmo\n",
    "try:\n",
    "    import gi\n",
    "\n",
    "    gi.require_version(\"NumCosmo\", \"1.0\")\n",
    "    gi.require_version(\"NumCosmoMath\", \"1.0\")\n",
    "except:\n",
    "    pass\n",
    "\n",
    "from gi.repository import GObject\n",
    "from gi.repository import NumCosmo as Nc\n",
    "from gi.repository import NumCosmoMath as Ncm"
   ]
  },
  {
   "cell_type": "code",
   "execution_count": null,
   "metadata": {},
   "outputs": [],
   "source": [
    "# Colossus\n",
    "from colossus.cosmology import cosmology as col_cosmo"
   ]
  },
  {
   "cell_type": "code",
   "execution_count": null,
   "metadata": {},
   "outputs": [],
   "source": [
    "# CCL\n",
    "import pyccl as ccl"
   ]
  },
  {
   "cell_type": "markdown",
   "metadata": {},
   "source": [
    "## Define comology and prepare backends"
   ]
  },
  {
   "cell_type": "code",
   "execution_count": null,
   "metadata": {},
   "outputs": [],
   "source": [
    "# Colossus Cosmology\n",
    "cosmo_col = col_cosmo.setCosmology(\"planck18\")\n",
    "# no massive neutrinos\n",
    "\n",
    "Omega_c_col = cosmo_col.Om0 - cosmo_col.Ob0\n",
    "Omega_b_col = cosmo_col.Ob0\n",
    "h_col = cosmo_col.H0 / 100.0\n",
    "n_s_col = cosmo_col.ns\n",
    "\n",
    "# CCL Cosmology\n",
    "cosmo_ccl = ccl.Cosmology(\n",
    "    Omega_c=Omega_c_col, Omega_b=Omega_b_col, h=h_col, A_s=2.1e-9, n_s=n_s_col\n",
    ")\n",
    "\n",
    "# NumCosmo Cosmology\n",
    "Ncm.cfg_init()\n",
    "Ncm.cfg_set_log_handler(lambda msg: sys.stdout.write(msg) and sys.stdout.flush())\n",
    "\n",
    "cosmo = Nc.HICosmo.new_from_name(Nc.HICosmo, \"NcHICosmoDEXcdm{'massnu-length':<0>}\")\n",
    "cosmo.omega_x2omega_k()\n",
    "cosmo.param_set_by_name(\"H0\", cosmo_col.H0)\n",
    "cosmo.param_set_by_name(\"Omegak\", cosmo_col.Ok(0.0))\n",
    "cosmo.param_set_by_name(\"w\", cosmo_col.w0)\n",
    "cosmo.param_set_by_name(\"Omegab\", Omega_b_col)\n",
    "cosmo.param_set_by_name(\"Omegac\", Omega_c_col)\n",
    "cosmo.param_set_by_name(\"ENnu\", cosmo_col.Neff)\n",
    "cosmo.param_set_by_name(\"Tgamma0\", cosmo_col.Tcmb0)\n",
    "\n",
    "# CLMM Cosmology: with CT backend, massive neutrinos not taken into account\n",
    "cosmo_clmm = clmm_cosmo(H0=cosmo_col.H0, Omega_dm0=Omega_c_col, Omega_b0=Omega_b_col, Omega_k0=0.0)\n",
    "print(cosmo_col)"
   ]
  },
  {
   "cell_type": "code",
   "execution_count": null,
   "metadata": {},
   "outputs": [],
   "source": [
    "Delta = 200\n",
    "Mvir = 1.0e15  # M_sun\n",
    "cvir = 5.0\n",
    "z = 0.2\n",
    "a = 1.0 / (1.0 + z)\n",
    "\n",
    "# CCL\n",
    "MDEF = \"matter\"\n",
    "mdef = ccl.halos.MassDef(Delta, MDEF)\n",
    "conc = ccl.halos.ConcentrationConstant(cvir)\n",
    "mdef.concentration = conc\n",
    "ccl_nfw_num = ccl.halos.HaloProfileNFW(\n",
    "    conc, truncated=False, projected_analytic=False, cumul2d_analytic=False\n",
    ")\n",
    "ccl_nfw_ana = ccl.halos.HaloProfileNFW(\n",
    "    conc, truncated=False, projected_analytic=True, cumul2d_analytic=True\n",
    ")\n",
    "# ccl_nfw_num.update_precision_fftlog (n_per_decade = 1200)\n",
    "ccl_ein = ccl.halos.HaloProfileEinasto(conc, truncated=False)\n",
    "ccl_her = ccl.halos.HaloProfileHernquist(conc, truncated=False)\n",
    "\n",
    "\n",
    "alpha = ccl_ein._get_alpha(cosmo_ccl, Mvir, a, mdef)"
   ]
  },
  {
   "cell_type": "code",
   "execution_count": null,
   "metadata": {},
   "outputs": [],
   "source": [
    "# NumCosmo\n",
    "reltol = 1.0e-9\n",
    "lnXi = math.log(1.0e-4)\n",
    "lnXf = math.log(1.0e4)\n",
    "improve_prec = False\n",
    "\n",
    "nc_nfw = Nc.HaloDensityProfileNFW.new(Nc.HaloDensityProfileMassDef.MEAN, Delta)\n",
    "nc_nfw.props.cDelta = cvir\n",
    "nc_nfw.props.log10MDelta = math.log10(Mvir)\n",
    "\n",
    "if improve_prec:\n",
    "    nc_nfw.set_reltol(reltol)\n",
    "    nc_nfw.set_lnXi(lnXi)\n",
    "    nc_nfw.set_lnXf(lnXf)\n",
    "\n",
    "nc_ein = Nc.HaloDensityProfileEinasto.new(Nc.HaloDensityProfileMassDef.MEAN, Delta)\n",
    "nc_ein.props.cDelta = cvir\n",
    "nc_ein.props.log10MDelta = math.log10(Mvir)\n",
    "nc_ein.props.alpha = alpha\n",
    "\n",
    "if improve_prec:\n",
    "    nc_ein.set_reltol(reltol)\n",
    "    nc_ein.set_lnXi(lnXi)\n",
    "    nc_ein.set_lnXf(lnXf)\n",
    "\n",
    "nc_her = Nc.HaloDensityProfileHernquist.new(Nc.HaloDensityProfileMassDef.MEAN, Delta)\n",
    "nc_her.props.cDelta = cvir\n",
    "nc_her.props.log10MDelta = math.log10(Mvir)\n",
    "\n",
    "if improve_prec:\n",
    "    nc_her.set_reltol(reltol)\n",
    "    nc_her.set_lnXi(lnXi)\n",
    "    nc_her.set_lnXf(lnXf)\n",
    "\n",
    "smd = Nc.WLSurfaceMassDensity.new(Nc.Distance.new(5.0))\n",
    "smd.prepare(cosmo)"
   ]
  },
  {
   "cell_type": "markdown",
   "metadata": {},
   "source": [
    "## Prepare an ideal data vector\n",
    "- Using analytical CCL for NFW\n",
    "- Using NumCosmo for Einasto"
   ]
  },
  {
   "cell_type": "code",
   "execution_count": null,
   "metadata": {},
   "outputs": [],
   "source": [
    "r = np.logspace(-3, 1, 100)  # project radius in Mpc"
   ]
  },
  {
   "cell_type": "code",
   "execution_count": null,
   "metadata": {},
   "outputs": [],
   "source": [
    "# NumCosmo\n",
    "nc_DeltaSigma_ein = np.array(smd.sigma_excess_array(nc_ein, cosmo, r, 1.0, 1.0, z))\n",
    "\n",
    "\n",
    "# CCL\n",
    "ccl_Sigma_nfw_ana = ccl_nfw_ana.projected(cosmo_ccl, r / a, Mvir, a, mdef) / a**2\n",
    "ccl_BarSigma_nfw_ana = ccl_nfw_ana.cumul2d(cosmo_ccl, r / a, Mvir, a, mdef) / a**2\n",
    "ccl_DeltaSigma_nfw_ana = ccl_BarSigma_nfw_ana - ccl_Sigma_nfw_ana"
   ]
  },
  {
   "cell_type": "markdown",
   "metadata": {},
   "source": [
    "## Naive test\n",
    "- Add a constant bias to the model over the full radial range and fit the mass using ideal $\\Delta\\Sigma$ data generated above using the unbiased model\n",
    "- Repeat for NFW and Einasto\n",
    "- plot the bias on the reconstructed mass as a function of the input bias"
   ]
  },
  {
   "cell_type": "code",
   "execution_count": null,
   "metadata": {},
   "outputs": [],
   "source": [
    "def model_ref_nfw(r, logm, bias):\n",
    "    m = 10.0**logm\n",
    "    tmp_Sigma = ccl_nfw_ana.projected(cosmo_ccl, r / a, m, a, mdef) / a**2\n",
    "    tmp_BarSigma = ccl_nfw_ana.cumul2d(cosmo_ccl, r / a, m, a, mdef) / a**2\n",
    "    model = (tmp_BarSigma - tmp_Sigma) * (1 + bias)\n",
    "    return model\n",
    "\n",
    "\n",
    "def model_ref_ein(r, logm, bias):\n",
    "    m = 10.0**logm\n",
    "    nc_ein.props.log10MDelta = logm\n",
    "    return np.array(smd.sigma_excess_array(nc_ein, cosmo, r, 1.0, 1.0, z)) * (1 + bias)"
   ]
  },
  {
   "cell_type": "code",
   "execution_count": null,
   "metadata": {},
   "outputs": [],
   "source": [
    "logmass_nfw = []\n",
    "logmass_ein = []\n",
    "bias = np.logspace(-6, np.log10(0.5), 30)\n",
    "for b in bias:\n",
    "    popt1, pcov1 = fitters[\"curve_fit\"](\n",
    "        lambda rr, logm: model_ref_nfw(rr, logm, b),\n",
    "        r,\n",
    "        ccl_DeltaSigma_nfw_ana,\n",
    "        np.zeros(len(r)) + 1.0e-30,\n",
    "        bounds=[13.0, 17.0],\n",
    "    )\n",
    "    popt2, pcov2 = fitters[\"curve_fit\"](\n",
    "        lambda rr, logm: model_ref_ein(rr, logm, b),\n",
    "        r,\n",
    "        nc_DeltaSigma_ein,\n",
    "        np.zeros(len(r)) + 1.0e-30,\n",
    "        bounds=[13.0, 17.0],\n",
    "    )\n",
    "\n",
    "    logmass_nfw.append(popt1[0])\n",
    "    logmass_ein.append(popt2[0])"
   ]
  },
  {
   "cell_type": "code",
   "execution_count": null,
   "metadata": {},
   "outputs": [],
   "source": [
    "reldiff_nfw = np.abs(10 ** np.array(logmass_nfw) - Mvir) * 100.0 / Mvir\n",
    "reldiff_ein = np.abs(10 ** np.array(logmass_ein) - Mvir) * 100.0 / Mvir\n",
    "plt.scatter((bias) * 100, reldiff_nfw, color=\"orange\")\n",
    "plt.scatter((bias) * 100, reldiff_ein, color=\"blue\", marker=\"+\")\n",
    "plt.plot(bias * 100, 2.4 * bias * 100)  # \"Fit by eye\"\n",
    "plt.xscale(\"log\")\n",
    "plt.yscale(\"log\")\n",
    "plt.xlabel(r\"Hypothetical bias on $\\Delta\\Sigma$ [%]\")\n",
    "plt.ylabel(r\"Bias on reconstructed mass [%]\")"
   ]
  },
  {
   "cell_type": "markdown",
   "metadata": {},
   "source": [
    "## More realistic test for NFW\n",
    "- Use the same set of ideal NFW data points, generated from the analytical CCL prescription\n",
    "- Adjust the mass using the analytical and numerical NFW implementation of all backends\n",
    "- Print the mass bias"
   ]
  },
  {
   "cell_type": "markdown",
   "metadata": {},
   "source": [
    "### Define all the models"
   ]
  },
  {
   "cell_type": "code",
   "execution_count": null,
   "metadata": {},
   "outputs": [],
   "source": [
    "# CCL numerical\n",
    "def model_num_ccl(r, logm):\n",
    "    m = 10.0**logm\n",
    "    tmp_Sigma = ccl_nfw_num.projected(cosmo_ccl, r / a, m, a, mdef) / a**2\n",
    "    tmp_BarSigma = ccl_nfw_num.cumul2d(cosmo_ccl, r / a, m, a, mdef) / a**2\n",
    "    model = tmp_BarSigma - tmp_Sigma\n",
    "    return model"
   ]
  },
  {
   "cell_type": "code",
   "execution_count": null,
   "metadata": {},
   "outputs": [],
   "source": [
    "# CT analytical\n",
    "def model_ana_ct(r, logm):\n",
    "    m = 10.0**logm\n",
    "    return mod.compute_excess_surface_density(\n",
    "        r, m, cvir, z, cosmo=cosmo_clmm, delta_mdef=Delta, halo_profile_model=\"nfw\"\n",
    "    )"
   ]
  },
  {
   "cell_type": "code",
   "execution_count": null,
   "metadata": {},
   "outputs": [],
   "source": [
    "# CT numerical\n",
    "def model_num_ct(r, logm):\n",
    "    cor_factor = clmm.utils._patch_rho_crit_to_cd2018(2.77533742639e11)\n",
    "    omega_m = cosmo_clmm.get_E2Omega_m(z) * cor_factor\n",
    "\n",
    "    rhocrit_mks = 3.0 * 100.0 * 100.0 / (8.0 * np.pi * const.GNEWT.value)\n",
    "    rhocrit_cosmo = (\n",
    "        rhocrit_mks * 1000.0 * 1000.0 * const.PC_TO_METER.value * 1.0e6 / const.SOLAR_MASS.value\n",
    "    )\n",
    "\n",
    "    r_for_sigma = np.logspace(-6, 2, len(r) * 1000)\n",
    "    r3d = np.logspace(-7, 3, len(r) * 1000)\n",
    "\n",
    "    m = 10.0**logm\n",
    "\n",
    "    rho_nfw = ct.density.rho_nfw_at_r(\n",
    "        r3d * cosmo_clmm[\"h\"], m * cosmo_clmm[\"h\"], cvir, omega_m, delta=Delta\n",
    "    )\n",
    "    integrand_nfw = rho_nfw / (omega_m * rhocrit_cosmo)  # xi_nfw + 1 (see CT documentation)\n",
    "\n",
    "    # Redefine Sigma on finer grid for the numerical integration for DeltaSigma\n",
    "    tmp_nfw = (\n",
    "        ct.deltasigma.Sigma_at_R(\n",
    "            r_for_sigma * cosmo_clmm[\"h\"],\n",
    "            r3d * cosmo_clmm[\"h\"],\n",
    "            integrand_nfw,\n",
    "            m * cosmo_clmm[\"h\"],\n",
    "            cvir,\n",
    "            omega_m,\n",
    "        )\n",
    "        * cosmo_clmm[\"h\"]\n",
    "        * 1.0e12\n",
    "    )  # Msun/Mpc2\n",
    "    return ct.deltasigma.DeltaSigma_at_R(\n",
    "        r * cosmo_clmm[\"h\"],\n",
    "        r_for_sigma * cosmo_clmm[\"h\"],\n",
    "        tmp_nfw,\n",
    "        m * cosmo_clmm[\"h\"],\n",
    "        cvir,\n",
    "        omega_m,\n",
    "    )"
   ]
  },
  {
   "cell_type": "code",
   "execution_count": null,
   "metadata": {},
   "outputs": [],
   "source": [
    "# NC analytical\n",
    "def model_ana_numcosmo(r, logm):\n",
    "    nc_nfw.props.log10MDelta = logm\n",
    "    return np.array(smd.sigma_excess_array(nc_nfw, cosmo, r, 1.0, 1.0, z))"
   ]
  },
  {
   "cell_type": "code",
   "execution_count": null,
   "metadata": {},
   "outputs": [],
   "source": [
    "# NC numerical\n",
    "def model_num_numcosmo(r, logm):\n",
    "    nc_nfw.props.log10MDelta = logm\n",
    "    Nc.halo_density_profile_nfw_class_set_ni(True)\n",
    "    res = np.array(smd.sigma_excess_array(nc_nfw, cosmo, r, 1.0, 1.0, z))\n",
    "    Nc.halo_density_profile_nfw_class_set_ni(False)\n",
    "    return res"
   ]
  },
  {
   "cell_type": "markdown",
   "metadata": {},
   "source": [
    "### Perform the adjustment using `curve_fit`\n",
    "- Negligible errors (1.e-15) are added for curve_fit not to crash."
   ]
  },
  {
   "cell_type": "code",
   "execution_count": null,
   "metadata": {},
   "outputs": [],
   "source": [
    "# CCL num\n",
    "popt1, pcov1 = fitters[\"curve_fit\"](\n",
    "    lambda rr, logm: model_num_ccl(rr, logm),\n",
    "    r,\n",
    "    ccl_DeltaSigma_nfw_ana,\n",
    "    np.zeros(len(r)) + 1.0e-15,\n",
    "    bounds=[13.0, 17.0],\n",
    ")\n",
    "print(popt1, pcov1)\n",
    "print(f\"Mass bias for CCL numerical = {np.abs(10**np.array(popt1[0]) - Mvir)*100./Mvir} %\")"
   ]
  },
  {
   "cell_type": "code",
   "execution_count": null,
   "metadata": {},
   "outputs": [],
   "source": [
    "# NC analytical\n",
    "popt1, pcov1 = fitters[\"curve_fit\"](\n",
    "    lambda rr, logm: model_ana_numcosmo(rr, logm),\n",
    "    r,\n",
    "    ccl_DeltaSigma_nfw_ana,\n",
    "    np.zeros(len(r)) + 1.0e-15,\n",
    "    bounds=[13.0, 17.0],\n",
    ")\n",
    "print(popt1, pcov1)\n",
    "print(f\"Mass bias for NC analytical = {np.abs(10**np.array(popt1[0]) - Mvir)*100./Mvir} %\")"
   ]
  },
  {
   "cell_type": "code",
   "execution_count": null,
   "metadata": {},
   "outputs": [],
   "source": [
    "# NC numerical\n",
    "popt1, pcov1 = fitters[\"curve_fit\"](\n",
    "    lambda rr, logm: model_num_numcosmo(rr, logm),\n",
    "    r,\n",
    "    ccl_DeltaSigma_nfw_ana,\n",
    "    np.zeros(len(r)) + 1.0e-15,\n",
    "    bounds=[13.0, 17.0],\n",
    ")\n",
    "print(popt1, pcov1)\n",
    "print(f\"Mass bias for NC numerical = {np.abs(10**np.array(popt1[0]) - Mvir)*100./Mvir} %\")"
   ]
  },
  {
   "cell_type": "code",
   "execution_count": null,
   "metadata": {},
   "outputs": [],
   "source": [
    "# CT analytical\n",
    "popt1, pcov1 = fitters[\"curve_fit\"](\n",
    "    lambda rr, logm: model_ana_ct(rr, logm),\n",
    "    r,\n",
    "    ccl_DeltaSigma_nfw_ana,\n",
    "    np.zeros(len(r)) + 1.0e-15,\n",
    "    bounds=[10.0, 17.0],\n",
    ")\n",
    "print(popt1, pcov1)\n",
    "print(f\"Mass bias for CT analytical = {np.abs(10**np.array(popt1[0]) - Mvir)*100./Mvir} %\")"
   ]
  },
  {
   "cell_type": "code",
   "execution_count": null,
   "metadata": {},
   "outputs": [],
   "source": [
    "# CT numerical\n",
    "popt1, pcov1 = fitters[\"curve_fit\"](\n",
    "    lambda rr, logm: model_num_ct(rr, logm),\n",
    "    r,\n",
    "    ccl_DeltaSigma_nfw_ana,\n",
    "    np.zeros(len(r)) + 1.0e-15,\n",
    "    bounds=[10.0, 17.0],\n",
    ")\n",
    "print(popt1, pcov1)\n",
    "print(f\"Mass bias for CT numerical = {np.abs(10**np.array(popt1[0]) - Mvir)*100./Mvir} %\")"
   ]
  }
 ],
 "metadata": {
  "kernelspec": {
   "display_name": "mydesc3",
   "language": "python",
   "name": "mydesc3"
  },
  "language_info": {
   "codemirror_mode": {
    "name": "ipython",
    "version": 3
   },
   "file_extension": ".py",
   "mimetype": "text/x-python",
   "name": "python",
   "nbconvert_exporter": "python",
   "pygments_lexer": "ipython3",
   "version": "3.7.6"
  }
 },
 "nbformat": 4,
 "nbformat_minor": 4
}
