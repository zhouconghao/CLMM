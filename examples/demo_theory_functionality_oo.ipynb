{
 "cells": [
  {
   "cell_type": "markdown",
   "metadata": {},
   "source": [
    "# Model WL Profiles (Object Oriented)"
   ]
  },
  {
   "cell_type": "markdown",
   "metadata": {},
   "source": [
    "## Notebook for generating an example galaxy cluster model. \n",
    "\n",
    "This notebook goes through the steps to generate model data for galaxy cluster weak lensing observables.  In particular, we define a galaxy cluster model that follows and NFW distribution and generate various profiles for the model (mass density, convergence, shear, etc.), which we plot.  Note, a full pipeline to measure a galaxy cluster weak lensing mass requires fitting the observed (or mock) data to a model. In this notebook we use the OO interface to theory."
   ]
  },
  {
   "cell_type": "code",
   "execution_count": null,
   "metadata": {},
   "outputs": [],
   "source": [
    "import numpy as np\n",
    "import matplotlib.pyplot as plt\n",
    "\n",
    "%matplotlib inline"
   ]
  },
  {
   "cell_type": "markdown",
   "metadata": {},
   "source": [
    "Imports specific to clmm "
   ]
  },
  {
   "cell_type": "code",
   "execution_count": null,
   "metadata": {},
   "outputs": [],
   "source": [
    "import os\n",
    "\n",
    "os.environ[\n",
    "    \"CLMM_MODELING_BACKEND\"\n",
    "] = \"ccl\"  # here you may choose ccl, nc (NumCosmo) or ct (cluster_toolkit)\n",
    "\n",
    "import clmm\n",
    "from clmm import Cosmology"
   ]
  },
  {
   "cell_type": "markdown",
   "metadata": {},
   "source": [
    "Make sure we know which version we're using"
   ]
  },
  {
   "cell_type": "code",
   "execution_count": null,
   "metadata": {},
   "outputs": [],
   "source": [
    "clmm.__version__"
   ]
  },
  {
   "cell_type": "markdown",
   "metadata": {},
   "source": [
    "Define a cosmology using astropy"
   ]
  },
  {
   "cell_type": "code",
   "execution_count": null,
   "metadata": {},
   "outputs": [],
   "source": [
    "cosmo = Cosmology(H0=70.0, Omega_dm0=0.27 - 0.045, Omega_b0=0.045, Omega_k0=0.0)"
   ]
  },
  {
   "cell_type": "markdown",
   "metadata": {},
   "source": [
    "Define the galaxy cluster model.  Here, we choose parameters that describe the galaxy cluster model, including the mass definition, concentration, and mass distribution.  For the mass distribution, we choose a distribution that follows an NFW profile."
   ]
  },
  {
   "cell_type": "code",
   "execution_count": null,
   "metadata": {},
   "outputs": [],
   "source": [
    "moo = clmm.Modeling(massdef=\"mean\", delta_mdef=200, halo_profile_model=\"nfw\")\n",
    "\n",
    "moo.set_cosmo(cosmo)\n",
    "moo.set_concentration(4)\n",
    "moo.set_mass(1.0e15)\n",
    "\n",
    "z_cl = 1.0\n",
    "\n",
    "# source properties\n",
    "z_src = 2.0  # all sources in the same plane\n",
    "z_distrib_func = clmm.redshift.distributions.chang2013  # sources redshift following a distribution\n",
    "alpha = [2, -0.5]"
   ]
  },
  {
   "cell_type": "markdown",
   "metadata": {},
   "source": [
    "Quick test of all theory functionality"
   ]
  },
  {
   "cell_type": "code",
   "execution_count": null,
   "metadata": {},
   "outputs": [],
   "source": [
    "r3d = np.logspace(-2, 2, 100)\n",
    "rho = moo.eval_3d_density(r3d, z_cl)\n",
    "Sigma = moo.eval_surface_density(r3d, z_cl)\n",
    "DeltaSigma = moo.eval_excess_surface_density(r3d, z_cl)\n",
    "gammat = moo.eval_tangential_shear(r3d, z_cl, z_src)\n",
    "kappa = moo.eval_convergence(r3d, z_cl, z_src)\n",
    "\n",
    "gt = moo.eval_reduced_tangential_shear(r3d, z_cl, z_src)\n",
    "# Lensing quantities assuming sources follow a given redshift distribution.\n",
    "\n",
    "# Compute first beta\n",
    "beta_kwargs = {\n",
    "    \"z_cl\": z_cl,\n",
    "    \"z_inf\": 10.0,\n",
    "    \"cosmo\": cosmo,\n",
    "    \"z_distrib_func\": z_distrib_func,\n",
    "}\n",
    "beta_s_mean = clmm.utils.compute_beta_s_mean_from_distribution(**beta_kwargs)\n",
    "beta_s_square_mean = clmm.utils.compute_beta_s_square_mean_from_distribution(**beta_kwargs)\n",
    "\n",
    "gt_z = moo.eval_reduced_tangential_shear(\n",
    "    r3d, z_cl, [beta_s_mean, beta_s_square_mean], z_src_info=\"beta\", approx=\"order2\"\n",
    ")\n",
    "\n",
    "mu = moo.eval_magnification(r3d, z_cl, z_src)\n",
    "mu_bias = moo.eval_magnification_bias(r3d, z_cl, z_src, alpha)"
   ]
  },
  {
   "cell_type": "markdown",
   "metadata": {},
   "source": [
    "Plot the predicted profiles"
   ]
  },
  {
   "cell_type": "code",
   "execution_count": null,
   "metadata": {},
   "outputs": [],
   "source": [
    "def plot_profile(r, profile_vals, profile_label=\"rho\", label=\"\"):\n",
    "    plt.loglog(r, profile_vals, label=label)\n",
    "    plt.xlabel(\"r [Mpc]\", fontsize=\"xx-large\")\n",
    "    plt.ylabel(profile_label, fontsize=\"xx-large\")"
   ]
  },
  {
   "cell_type": "code",
   "execution_count": null,
   "metadata": {},
   "outputs": [],
   "source": [
    "plot_profile(r3d, rho, \"$\\\\rho_{\\\\rm 3d}$\")"
   ]
  },
  {
   "cell_type": "code",
   "execution_count": null,
   "metadata": {},
   "outputs": [],
   "source": [
    "plot_profile(r3d, Sigma, \"$\\\\Sigma_{\\\\rm 2d}$\")"
   ]
  },
  {
   "cell_type": "code",
   "execution_count": null,
   "metadata": {},
   "outputs": [],
   "source": [
    "plot_profile(r3d, DeltaSigma, \"$\\\\Delta\\\\Sigma_{\\\\rm 2d}$\")"
   ]
  },
  {
   "cell_type": "code",
   "execution_count": null,
   "metadata": {},
   "outputs": [],
   "source": [
    "plot_profile(r3d, kappa, \"$\\\\kappa$\")"
   ]
  },
  {
   "cell_type": "code",
   "execution_count": null,
   "metadata": {},
   "outputs": [],
   "source": [
    "plot_profile(r3d, gammat, \"$\\\\gamma_t$\")"
   ]
  },
  {
   "cell_type": "code",
   "execution_count": null,
   "metadata": {},
   "outputs": [],
   "source": [
    "plot_profile(r3d, gt, \"$g_t$\", label=\"single plane\")\n",
    "plot_profile(r3d, gt_z, \"$g_t$\", label=\"redshift distribution\")"
   ]
  },
  {
   "cell_type": "code",
   "execution_count": null,
   "metadata": {},
   "outputs": [],
   "source": [
    "plot_profile(r3d, mu, \"$\\mu$\")"
   ]
  },
  {
   "cell_type": "code",
   "execution_count": null,
   "metadata": {},
   "outputs": [],
   "source": [
    "plot_profile(\n",
    "    r3d, mu_bias[0] - 1, profile_label=\"$\\delta_{\\mu}$\", label=\"$\\\\alpha$ =\" + str(alpha[0])\n",
    ")\n",
    "plot_profile(r3d, mu_bias[1] - 1, \"$\\delta_{\\mu}$\", label=\"$\\\\alpha$ =\" + str(alpha[1]))\n",
    "\n",
    "plt.legend(fontsize=\"xx-large\")\n",
    "plt.yscale(\"linear\")\n",
    "plt.grid()\n",
    "\n",
    "plt.ylim(-3, 5)"
   ]
  },
  {
   "cell_type": "code",
   "execution_count": null,
   "metadata": {},
   "outputs": [],
   "source": [
    "# The 2-halo term excess surface density is currently only implemented for the CCL and NC backends\n",
    "# An error will be raised if using the CT backend instead\n",
    "\n",
    "DeltaSigma_2h = moo.eval_excess_surface_density_2h(r3d, z_cl, halobias=0.3)\n",
    "plot_profile(r3d, DeltaSigma_2h, \"$\\\\Delta\\\\Sigma_{\\\\rm 2h}$\")"
   ]
  },
  {
   "cell_type": "code",
   "execution_count": null,
   "metadata": {},
   "outputs": [],
   "source": [
    "# The 2-halo term excess surface density is currently only implemented for the CCL and NC backends\n",
    "# An error will be raised if using the CT backend instead\n",
    "\n",
    "Sigma_2h = moo.eval_surface_density_2h(r3d, z_cl, halobias=0.3)\n",
    "plot_profile(r3d, Sigma_2h, \"$\\\\Delta\\\\Sigma_{\\\\rm 2h}$\")"
   ]
  },
  {
   "cell_type": "markdown",
   "metadata": {},
   "source": [
    "## Side note regarding the Einasto profile (CCL and NC backends only)\n",
    "\n",
    "The Einasto profile is supported by both the CCL and NumCosmo backends. The value of the slope of the Einasto profile $\\alpha_{\\rm ein}$ can be defined by the user, using the `set_einasto_alpha` method. If $\\alpha_{\\rm ein}$ is not provided, both backend revert to a default value for the Einasto slope:\n",
    "- In CCL, the default Einasto slope depends on cosmology, redshift and halo mass.\n",
    "- In NumCosmo, the default value is $\\alpha=0.25$.\n",
    "\n",
    "**NB: for CCL, setting a user-defined value for the Einasto slope is only available for CCL version >= 2.6.** Earlier versions only allow the default option.\n",
    "\n",
    "The verbose option allows to print the value of $\\alpha$ that is being used, as follows:"
   ]
  },
  {
   "cell_type": "code",
   "execution_count": null,
   "metadata": {},
   "outputs": [],
   "source": [
    "moo_ein = clmm.Modeling(massdef=\"mean\", delta_mdef=200, halo_profile_model=\"einasto\")\n",
    "moo_ein.set_cosmo(cosmo)\n",
    "moo_ein.set_concentration(4)\n",
    "moo_ein.set_mass(1.0e15)\n",
    "\n",
    "# With the NC backend or CCL >=2.6 you may set the slope to the value of your choosing.\n",
    "# Otherwise, the backend default value will be used\n",
    "moo_ein.set_einasto_alpha(0.17)\n",
    "\n",
    "r3d = np.logspace(-2, 2, 100)\n",
    "rho = moo_ein.eval_3d_density(r3d, z_cl, verbose=True)\n",
    "plot_profile(r3d, rho, \"$\\\\rho_{\\\\rm 3d}$\")"
   ]
  },
  {
   "cell_type": "markdown",
   "metadata": {},
   "source": [
    "## Side note regarding the Einasto profile (CCL backend only)\n",
    "\n",
    "For CCL versions >= 2.8.1.dev73+g86125b08, the surface mass density profile can be calculated with the quad_vec numerial integration in addition to the default FFTLog. This option will increase the precision of the profile at large radii and can be enabled by calling `set_projected_quad(True)`."
   ]
  },
  {
   "cell_type": "code",
   "execution_count": null,
   "metadata": {},
   "outputs": [],
   "source": [
    "# use quad_vec\n",
    "moo_ein.set_projected_quad(True)\n",
    "\n",
    "Sigma_quad = moo_ein.eval_surface_density(r3d, z_cl, verbose=True)\n",
    "\n",
    "plot_profile(r3d, Sigma_quad, \"$\\\\Sigma_{\\\\rm quad}$\")"
   ]
  },
  {
   "cell_type": "code",
   "execution_count": null,
   "metadata": {},
   "outputs": [],
   "source": [
    "# revert the effect from the previous cell\n",
    "moo_ein.set_projected_quad(False)\n",
    "\n",
    "# default behavior\n",
    "Sigma_FFTLog = moo_ein.eval_surface_density(r3d, z_cl, verbose=True)\n",
    "\n",
    "plot_profile(r3d, Sigma_FFTLog, \"$\\\\Sigma_{\\\\rm FFTLog}$\")"
   ]
  }
 ],
 "metadata": {
  "kernelspec": {
   "display_name": "Python 3 (ipykernel)",
   "language": "python",
   "name": "python3"
  },
  "language_info": {
   "codemirror_mode": {
    "name": "ipython",
    "version": 3
   },
   "file_extension": ".py",
   "mimetype": "text/x-python",
   "name": "python",
   "nbconvert_exporter": "python",
   "pygments_lexer": "ipython3",
   "version": "3.11.5"
  }
 },
 "nbformat": 4,
 "nbformat_minor": 4
}
