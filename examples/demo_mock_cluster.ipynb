{
 "cells": [
  {
   "cell_type": "markdown",
   "metadata": {},
   "source": [
    "# Generate mock data for a cluster"
   ]
  },
  {
   "cell_type": "markdown",
   "metadata": {},
   "source": [
    "In this example we generate mock data with a variety of systematic effects including photometric redshifts, source galaxy distributions, and shape noise.  We then populate a galaxy cluster object. This notebooks is organised as follows:\n",
    "- Imports and configuration setup\n",
    "- Generate mock data with different source galaxy options\n",
    "- Generate mock data with different field-of-view options\n",
    "- Generate mock data with different galaxy cluster options (only available with the Numcosmo and/or CCL backends). Use the `os.environ['CLMM_MODELING_BACKEND']` line below to select your backend."
   ]
  },
  {
   "cell_type": "code",
   "execution_count": null,
   "metadata": {},
   "outputs": [],
   "source": [
    "import os\n",
    "\n",
    "## Uncomment the following line if you want to use a specific modeling backend among 'ct' (cluster-toolkit), 'ccl' (CCL) or 'nc' (Numcosmo). Default is 'ccl'\n",
    "# os.environ['CLMM_MODELING_BACKEND'] = 'nc'"
   ]
  },
  {
   "cell_type": "code",
   "execution_count": null,
   "metadata": {},
   "outputs": [],
   "source": [
    "import numpy as np\n",
    "import matplotlib.pyplot as plt\n",
    "\n",
    "%matplotlib inline"
   ]
  },
  {
   "cell_type": "code",
   "execution_count": null,
   "metadata": {},
   "outputs": [],
   "source": [
    "import clmm"
   ]
  },
  {
   "cell_type": "markdown",
   "metadata": {},
   "source": [
    "Make sure we know which version we're using"
   ]
  },
  {
   "cell_type": "code",
   "execution_count": null,
   "metadata": {},
   "outputs": [],
   "source": [
    "clmm.__version__"
   ]
  },
  {
   "cell_type": "code",
   "execution_count": null,
   "metadata": {},
   "outputs": [],
   "source": [
    "# to limit decimal places in catalog columns display\n",
    "def _nice_display(cat):\n",
    "    for col in (\"ra\", \"dec\"):\n",
    "        cat[col].info.format = \".2f\"\n",
    "    for col in (\"e1\", \"e2\"):\n",
    "        cat[col].info.format = \".4f\"\n",
    "    cat[\"z\"].info.format = \".3f\"\n",
    "    return cat"
   ]
  },
  {
   "cell_type": "markdown",
   "metadata": {},
   "source": [
    "## Import mock data module and setup the configuration "
   ]
  },
  {
   "cell_type": "code",
   "execution_count": null,
   "metadata": {},
   "outputs": [],
   "source": [
    "from clmm.support import mock_data as mock\n",
    "from clmm import Cosmology"
   ]
  },
  {
   "cell_type": "markdown",
   "metadata": {},
   "source": [
    "Mock data generation requires a defined cosmology"
   ]
  },
  {
   "cell_type": "code",
   "execution_count": null,
   "metadata": {},
   "outputs": [],
   "source": [
    "mock_cosmo = Cosmology(H0=70.0, Omega_dm0=0.27 - 0.045, Omega_b0=0.045, Omega_k0=0.0)"
   ]
  },
  {
   "cell_type": "markdown",
   "metadata": {},
   "source": [
    "Mock data generation requires some cluster information. The default is to work with the NFW profile, using the \"200,mean\" mass definition. The Numcosmo and CCL backends allow for more flexibility (see last section of this notebook)"
   ]
  },
  {
   "cell_type": "code",
   "execution_count": null,
   "metadata": {},
   "outputs": [],
   "source": [
    "cosmo = mock_cosmo\n",
    "cluster_id = \"Awesome_cluster\"\n",
    "cluster_m = 1.0e15  # M200,m\n",
    "cluster_z = 0.3\n",
    "src_z = 0.8\n",
    "concentration = 4\n",
    "ngals = 1000  # number of source galaxies\n",
    "\n",
    "# Cluster centre coordinates\n",
    "cluster_ra = 50.0\n",
    "cluster_dec = 87.0"
   ]
  },
  {
   "cell_type": "markdown",
   "metadata": {},
   "source": [
    "It is also possible to choose the coordinate system for the generated ellipticities. Possible options are either \"celestial\" or \"euclidean\". The default choice is \"euclidean\". See https://doi.org/10.48550/arXiv.1407.7676 section 5.1 for more details."
   ]
  },
  {
   "cell_type": "code",
   "execution_count": null,
   "metadata": {},
   "outputs": [],
   "source": [
    "coordinate_system = \"euclidean\""
   ]
  },
  {
   "cell_type": "markdown",
   "metadata": {},
   "source": [
    "## Generate the mock catalog with different source galaxy options"
   ]
  },
  {
   "cell_type": "markdown",
   "metadata": {},
   "source": [
    "- Clean data: no noise, all galaxies at the same redshift"
   ]
  },
  {
   "cell_type": "code",
   "execution_count": null,
   "metadata": {},
   "outputs": [],
   "source": [
    "zsrc_min = cluster_z + 0.1"
   ]
  },
  {
   "cell_type": "code",
   "execution_count": null,
   "metadata": {},
   "outputs": [],
   "source": [
    "ideal_data = mock.generate_galaxy_catalog(\n",
    "    cluster_m,\n",
    "    cluster_z,\n",
    "    concentration,\n",
    "    cosmo,\n",
    "    src_z,\n",
    "    ngals=ngals,\n",
    "    cluster_ra=cluster_ra,\n",
    "    cluster_dec=cluster_dec,\n",
    "    coordinate_system=coordinate_system,\n",
    ")"
   ]
  },
  {
   "cell_type": "code",
   "execution_count": null,
   "metadata": {},
   "outputs": [],
   "source": [
    "# let's put all these quantities in a single dictionary to facilitate clarity\n",
    "cluster_kwargs = {\n",
    "    \"cluster_m\": cluster_m,\n",
    "    \"cluster_z\": cluster_z,\n",
    "    \"cluster_ra\": cluster_ra,\n",
    "    \"cluster_dec\": cluster_dec,\n",
    "    \"cluster_c\": concentration,\n",
    "    \"cosmo\": cosmo,\n",
    "    \"coordinate_system\": coordinate_system,\n",
    "}"
   ]
  },
  {
   "cell_type": "code",
   "execution_count": null,
   "metadata": {},
   "outputs": [],
   "source": [
    "ideal_data = mock.generate_galaxy_catalog(**cluster_kwargs, zsrc=src_z, ngals=ngals)"
   ]
  },
  {
   "cell_type": "markdown",
   "metadata": {},
   "source": [
    "- Noisy data: shape noise, all galaxies at the same redshift"
   ]
  },
  {
   "cell_type": "code",
   "execution_count": null,
   "metadata": {},
   "outputs": [],
   "source": [
    "noisy_data_src_z = mock.generate_galaxy_catalog(\n",
    "    **cluster_kwargs, zsrc=src_z, shapenoise=0.05, ngals=ngals\n",
    ")"
   ]
  },
  {
   "cell_type": "markdown",
   "metadata": {},
   "source": [
    "* Noisy data: shape noise plus measurement error, all galaxies at the same redshift"
   ]
  },
  {
   "cell_type": "code",
   "execution_count": null,
   "metadata": {},
   "outputs": [],
   "source": [
    "noisy_data_src_z_e_err = mock.generate_galaxy_catalog(\n",
    "    **cluster_kwargs, zsrc=src_z, shapenoise=0.05, mean_e_err=0.05, ngals=ngals\n",
    ")"
   ]
  },
  {
   "cell_type": "markdown",
   "metadata": {},
   "source": [
    "<div class=\"alert alert-warning\">\n",
    "\n",
    "**WARNING:** Experimental feature. Uncertainties are created by simply drawing random numbers near the value specified by `mean_e_err`. Use at your own risk. This will be improved in future releases.\n",
    "    \n",
    "</div>"
   ]
  },
  {
   "cell_type": "markdown",
   "metadata": {},
   "source": [
    "- Noisy data: photo-z errors (and pdfs!), all galaxies at the same redshift. At present, the pdfs are generated by drawing a random value from a Normal distribution with mean `ztrue` and width given by `dz = (1+z)*photoz_sigma_unscaled`, and the pdf is this Normal distribution centered around `z` instead of `ztrue`."
   ]
  },
  {
   "cell_type": "code",
   "execution_count": null,
   "metadata": {},
   "outputs": [],
   "source": [
    "np.random.seed(41363)\n",
    "\n",
    "noisy_data_photoz = mock.generate_galaxy_catalog(\n",
    "    **cluster_kwargs,\n",
    "    zsrc=src_z,\n",
    "    shapenoise=0.05,\n",
    "    photoz_sigma_unscaled=0.05,\n",
    "    pz_bins=101,\n",
    "    ngals=ngals\n",
    ")\n",
    "_nice_display(noisy_data_photoz[:5])"
   ]
  },
  {
   "cell_type": "markdown",
   "metadata": {},
   "source": [
    "* Changing ellipticity coordinate system: notice that $e_2$ changes sign!"
   ]
  },
  {
   "cell_type": "code",
   "execution_count": null,
   "metadata": {},
   "outputs": [],
   "source": [
    "cluster_kwargs_celestial = cluster_kwargs.copy()\n",
    "cluster_kwargs_celestial[\"coordinate_system\"] = \"celestial\"\n",
    "\n",
    "np.random.seed(41363)\n",
    "\n",
    "noisy_data_photoz_celestial = mock.generate_galaxy_catalog(\n",
    "    **cluster_kwargs_celestial,\n",
    "    zsrc=src_z,\n",
    "    shapenoise=0.05,\n",
    "    photoz_sigma_unscaled=0.05,\n",
    "    pz_bins=101,\n",
    "    ngals=ngals\n",
    ")\n",
    "_nice_display(noisy_data_photoz_celestial[:3])"
   ]
  },
  {
   "cell_type": "markdown",
   "metadata": {},
   "source": [
    "- Clean data: source galaxy redshifts drawn from a redshift distribution instead of fixed `src_z` value. Options are `chang13` for Chang et al. 2013 or `desc_srd` for the distribution given in the DESC Science Requirement Document. No shape noise or photoz errors."
   ]
  },
  {
   "cell_type": "code",
   "execution_count": null,
   "metadata": {},
   "outputs": [],
   "source": [
    "ideal_with_src_dist = mock.generate_galaxy_catalog(\n",
    "    **cluster_kwargs, zsrc=\"chang13\", zsrc_min=zsrc_min, zsrc_max=7.0, ngals=ngals\n",
    ")"
   ]
  },
  {
   "cell_type": "markdown",
   "metadata": {},
   "source": [
    "- Noisy data: galaxies following redshift distribution, redshift error, shape noise"
   ]
  },
  {
   "cell_type": "code",
   "execution_count": null,
   "metadata": {},
   "outputs": [],
   "source": [
    "allsystematics = mock.generate_galaxy_catalog(\n",
    "    **cluster_kwargs,\n",
    "    zsrc=\"chang13\",\n",
    "    zsrc_min=zsrc_min,\n",
    "    photoz_sigma_unscaled=0.05,\n",
    "    ngals=ngals,\n",
    "    pz_bins=101,\n",
    ")"
   ]
  },
  {
   "cell_type": "code",
   "execution_count": null,
   "metadata": {},
   "outputs": [],
   "source": [
    "allsystematics2 = mock.generate_galaxy_catalog(\n",
    "    **cluster_kwargs,\n",
    "    zsrc=\"desc_srd\",\n",
    "    zsrc_min=zsrc_min,\n",
    "    zsrc_max=7.0,\n",
    "    photoz_sigma_unscaled=0.05,\n",
    "    ngals=ngals,\n",
    "    pz_bins=101,\n",
    "    shapenoise=0.05,\n",
    ")"
   ]
  },
  {
   "cell_type": "markdown",
   "metadata": {},
   "source": [
    "Sanity check: checking that no galaxies were originally drawn below zsrc_min, before photoz errors are applied (when relevant)"
   ]
  },
  {
   "cell_type": "code",
   "execution_count": null,
   "metadata": {},
   "outputs": [],
   "source": [
    "print(\n",
    "    f\"\"\"Number of galaxies below zsrc_min:\n",
    "    ideal_data          : {np.sum(ideal_data['ztrue']<zsrc_min):5,}\n",
    "    noisy_data_src_z    : {np.sum(noisy_data_src_z['ztrue']<zsrc_min):5,}\n",
    "    noisy_data_photoz   : {np.sum(noisy_data_photoz['ztrue']<zsrc_min):5,}\n",
    "    ideal_with_src_dist : {np.sum(ideal_with_src_dist['ztrue']<zsrc_min):5,}\n",
    "    allsystematics      : {np.sum(allsystematics['ztrue']<zsrc_min):5,}\n",
    "\"\"\"\n",
    ")"
   ]
  },
  {
   "cell_type": "markdown",
   "metadata": {},
   "source": [
    "### Different ways to store photometric redshift information"
   ]
  },
  {
   "cell_type": "markdown",
   "metadata": {},
   "source": [
    "- In the default PDF storing (`pzpdf_type='shared_bins'`), the values of the PDF are added to the `pzpdf` column and the binning scheme is stored in the `pzpdf_info` attribute:"
   ]
  },
  {
   "cell_type": "code",
   "execution_count": null,
   "metadata": {},
   "outputs": [],
   "source": [
    "_temp_data_sb = mock.generate_galaxy_catalog(\n",
    "    **cluster_kwargs,\n",
    "    zsrc=src_z,\n",
    "    shapenoise=0.05,\n",
    "    photoz_sigma_unscaled=0.05,\n",
    "    pz_bins=101,\n",
    "    ngals=ngals,\n",
    ")\n",
    "_nice_display(_temp_data_sb[:5])"
   ]
  },
  {
   "cell_type": "code",
   "execution_count": null,
   "metadata": {},
   "outputs": [],
   "source": [
    "_temp_data_sb.pzpdf_info[\"zbins\"][:10]"
   ]
  },
  {
   "cell_type": "markdown",
   "metadata": {},
   "source": [
    "- It is also possible to generate individual binning of the PDF with `pzpdf_type='individual_bins'`. In this case, both the bin values and the PDF are added to the `pzpdf` column:"
   ]
  },
  {
   "cell_type": "code",
   "execution_count": null,
   "metadata": {},
   "outputs": [],
   "source": [
    "_temp_data_ib = mock.generate_galaxy_catalog(\n",
    "    **cluster_kwargs,\n",
    "    zsrc=src_z,\n",
    "    shapenoise=0.05,\n",
    "    photoz_sigma_unscaled=0.05,\n",
    "    pz_bins=101,\n",
    "    ngals=ngals,\n",
    "    pzpdf_type=\"individual_bins\",\n",
    ")\n",
    "_nice_display(_temp_data_ib[:5])"
   ]
  },
  {
   "cell_type": "markdown",
   "metadata": {},
   "source": [
    "- Another possibility is just storing the quantiles of the PDF (`pzpdf_type='quantiles'`). In this case, the locations of the PDF quantiles are added to the `pzquantiles` column and the quantiles scheme is stored in the `pzpdf_info` attribute:"
   ]
  },
  {
   "cell_type": "code",
   "execution_count": null,
   "metadata": {},
   "outputs": [],
   "source": [
    "_temp_data_qt = mock.generate_galaxy_catalog(\n",
    "    **cluster_kwargs,\n",
    "    zsrc=src_z,\n",
    "    shapenoise=0.05,\n",
    "    photoz_sigma_unscaled=0.05,\n",
    "    pz_bins=101,\n",
    "    ngals=ngals,\n",
    "    pzpdf_type=\"quantiles\",\n",
    ")\n",
    "_nice_display(_temp_data_qt[:5])"
   ]
  },
  {
   "cell_type": "code",
   "execution_count": null,
   "metadata": {},
   "outputs": [],
   "source": [
    "_temp_data_qt.pzpdf_info[\"quantiles\"][:10]"
   ]
  },
  {
   "cell_type": "markdown",
   "metadata": {},
   "source": [
    "- Note that if `pzpdf_type=None`, the pdf is not stored:"
   ]
  },
  {
   "cell_type": "code",
   "execution_count": null,
   "metadata": {},
   "outputs": [],
   "source": [
    "_nice_display(\n",
    "    mock.generate_galaxy_catalog(\n",
    "        **cluster_kwargs,\n",
    "        zsrc=src_z,\n",
    "        shapenoise=0.05,\n",
    "        photoz_sigma_unscaled=0.05,\n",
    "        pz_bins=101,\n",
    "        ngals=ngals,\n",
    "        pzpdf_type=None\n",
    "    )[:5]\n",
    ")"
   ]
  },
  {
   "cell_type": "markdown",
   "metadata": {},
   "source": [
    "### Unpacking photometric redshift information\n",
    "- An unified way to recover the PDZ it using the `get_pzpdfs` method.\n",
    "When `pzpdf_type=shared_bins`, a unique array of bins and each PDF is returned:"
   ]
  },
  {
   "cell_type": "code",
   "execution_count": null,
   "metadata": {},
   "outputs": [],
   "source": [
    "pzbins, pzpdf = _temp_data_sb.get_pzpdfs()\n",
    "print(\n",
    "    f\"pzbins shape : {pzbins.shape}\",\n",
    "    f\"\\npzpdf  shape : {pzpdf.shape}\",\n",
    ")"
   ]
  },
  {
   "cell_type": "markdown",
   "metadata": {},
   "source": [
    "- When `pzpdf_type=individual_bins`, each individual redshift binning and PDF is returned:"
   ]
  },
  {
   "cell_type": "code",
   "execution_count": null,
   "metadata": {},
   "outputs": [],
   "source": [
    "pzbins, pzpdf = _temp_data_ib.get_pzpdfs()\n",
    "print(\n",
    "    f\"pzbins shape : {pzbins.shape}\",\n",
    "    f\"\\npzpdf  shape : {pzpdf.shape}\",\n",
    ")"
   ]
  },
  {
   "cell_type": "markdown",
   "metadata": {},
   "source": [
    "When `pzpdf_type=quantiles`, the PDFs are unpacked using an unique array, and the output is of the same format as in `pzpdf_type=shared_bins`:"
   ]
  },
  {
   "cell_type": "code",
   "execution_count": null,
   "metadata": {},
   "outputs": [],
   "source": [
    "pzbins, pzpdf = _temp_data_qt.get_pzpdfs()\n",
    "print(\n",
    "    f\"pzbins shape : {pzbins.shape}\",\n",
    "    f\"\\npzpdf  shape : {pzpdf.shape}\",\n",
    ")"
   ]
  },
  {
   "cell_type": "markdown",
   "metadata": {},
   "source": [
    "This unpacking of the PDF is done based on the values of `pzpdf_info[\"unpack_quantile_zbins_limits\"]` and can be configured:"
   ]
  },
  {
   "cell_type": "code",
   "execution_count": null,
   "metadata": {},
   "outputs": [],
   "source": [
    "_temp_data_qt.pzpdf_info[\"unpack_quantile_zbins_limits\"] = (0, 5, 2000)\n",
    "pzbins, pzpdf = _temp_data_qt.get_pzpdfs()\n",
    "print(\n",
    "    f\"pzbins shape : {pzbins.shape}\",\n",
    "    f\"\\npzpdf  shape : {pzpdf.shape}\",\n",
    ")"
   ]
  },
  {
   "cell_type": "markdown",
   "metadata": {},
   "source": [
    "### Inspect the catalog data"
   ]
  },
  {
   "cell_type": "markdown",
   "metadata": {},
   "source": [
    "- Ideal catalog first entries: no noise on the shape measurement, all galaxies at z=0.8, no redshift errors (z = ztrue)"
   ]
  },
  {
   "cell_type": "code",
   "execution_count": null,
   "metadata": {},
   "outputs": [],
   "source": [
    "_nice_display(ideal_data[:3])"
   ]
  },
  {
   "cell_type": "markdown",
   "metadata": {},
   "source": [
    "- With photo-z errors"
   ]
  },
  {
   "cell_type": "code",
   "execution_count": null,
   "metadata": {},
   "outputs": [],
   "source": [
    "_nice_display(noisy_data_photoz[:3])"
   ]
  },
  {
   "cell_type": "markdown",
   "metadata": {},
   "source": [
    "- Histogram of the redshift distribution of background galaxies, for the true (originally drawn) redshift and the redshift once photoz errors have been added, and the stacked pdf. By construction no true redshift occurs below zsrc_min, but some 'observed' redshifts (i.e. including photoz errors) might be."
   ]
  },
  {
   "cell_type": "code",
   "execution_count": null,
   "metadata": {},
   "outputs": [],
   "source": [
    "plt.hist(\n",
    "    allsystematics[\"z\"],\n",
    "    bins=50,\n",
    "    alpha=0.3,\n",
    "    density=True,\n",
    "    label=\"measured z (i.e. including photoz error)\",\n",
    ")\n",
    "plt.hist(allsystematics[\"ztrue\"], bins=50, alpha=0.3, density=True, label=\"true z\")\n",
    "stacked_pdf = np.mean(allsystematics[\"pzpdf\"], axis=0)\n",
    "plt.plot(allsystematics.pzpdf_info[\"zbins\"], stacked_pdf, \"C3\", label=\"stacked pdf\")\n",
    "plt.axvline(zsrc_min, color=\"k\", label=\"requested zmin\")\n",
    "plt.xlabel(\"Source Redshift\")\n",
    "plt.ylabel(\"n(z)\")\n",
    "plt.legend()\n",
    "plt.xlim(0, 5)\n",
    "plt.show()"
   ]
  },
  {
   "cell_type": "code",
   "execution_count": null,
   "metadata": {},
   "outputs": [],
   "source": [
    "plt.hist(allsystematics[\"ztrue\"], bins=50, alpha=0.3, label=\"true z\")\n",
    "plt.hist(allsystematics2[\"ztrue\"], bins=50, alpha=0.3, label=\"true z\")\n",
    "plt.show()"
   ]
  },
  {
   "cell_type": "markdown",
   "metadata": {},
   "source": [
    "## Populate a galaxy cluster object"
   ]
  },
  {
   "cell_type": "code",
   "execution_count": null,
   "metadata": {},
   "outputs": [],
   "source": [
    "gc_object = clmm.GalaxyCluster(cluster_id, cluster_ra, cluster_dec, cluster_z, allsystematics)"
   ]
  },
  {
   "cell_type": "markdown",
   "metadata": {},
   "source": [
    "From a `GalaxyCluster` object that has photoz information, `draw_gal_z_from_pdz` allows to generate `nobj` random redshifts of each galaxy in `galcat`, from its photoz pdf, and store the result in a new `zcol_out` column."
   ]
  },
  {
   "cell_type": "code",
   "execution_count": null,
   "metadata": {},
   "outputs": [],
   "source": [
    "z_random = gc_object.draw_gal_z_from_pdz(zcol_out=\"z_random\", overwrite=False, nobj=1)"
   ]
  },
  {
   "cell_type": "markdown",
   "metadata": {},
   "source": [
    "The plot below shows the \"observed photoz pdf\" (blue), centered on the \"observed z\" (red), the true redshift from which the shear where computed (green) and  a random redshift (orange) computed from the pdf"
   ]
  },
  {
   "cell_type": "code",
   "execution_count": null,
   "metadata": {},
   "outputs": [],
   "source": [
    "# p(z) for one of the galaxies in the catalog,\n",
    "galid = 0\n",
    "plt.fill(gc_object.galcat.pzpdf_info[\"zbins\"], allsystematics[\"pzpdf\"][galid], alpha=0.3)\n",
    "plt.plot(gc_object.galcat.pzpdf_info[\"zbins\"], gc_object.galcat[\"pzpdf\"][galid], label=\"Photoz pdf\")\n",
    "\n",
    "plt.axvline(gc_object.galcat[\"z\"][galid], label=\"Observed z\", color=\"red\")\n",
    "plt.axvline(gc_object.galcat[\"ztrue\"][galid], label=\"True z\", color=\"g\")\n",
    "plt.axvline(gc_object.galcat[\"z_random\"][galid], label=\"Random z from pdf\", color=\"orange\")\n",
    "\n",
    "plt.xlabel(\"Redshift\")\n",
    "plt.ylabel(\"Photo-z Probability Distribution\")\n",
    "plt.legend(loc=1)\n",
    "plt.xlim(gc_object.galcat[\"z\"][galid] - 0.5, gc_object.galcat[\"z\"][galid] + 0.5)\n",
    "plt.show()"
   ]
  },
  {
   "cell_type": "markdown",
   "metadata": {},
   "source": [
    "Plot source galaxy ellipticities"
   ]
  },
  {
   "cell_type": "code",
   "execution_count": null,
   "metadata": {},
   "outputs": [],
   "source": [
    "plt.scatter(gc_object.galcat[\"e1\"], gc_object.galcat[\"e2\"])\n",
    "\n",
    "plt.xlim(-0.2, 0.2)\n",
    "plt.ylim(-0.2, 0.2)\n",
    "plt.xlabel(\"Ellipticity 1\", fontsize=\"x-large\")\n",
    "plt.ylabel(\"Ellipticity 2\", fontsize=\"x-large\")\n",
    "plt.show()"
   ]
  },
  {
   "cell_type": "markdown",
   "metadata": {},
   "source": [
    "## Generate the mock data catalog with different field-of-view options"
   ]
  },
  {
   "cell_type": "markdown",
   "metadata": {},
   "source": [
    "In the examples above, `ngals=1000` galaxies were simulated in a field corresponding to a 8 Mpc x 8 Mpc (proper distance) square box at the cluster redshift (this is the default). The user may however vary the field size and/or provide a galaxy density (instead of a number of galaxies). This is examplified below, using the `allsystematics` example."
   ]
  },
  {
   "cell_type": "markdown",
   "metadata": {},
   "source": [
    "- `ngals = 1000` in a 4 x 4 Mpc box. Asking for the same number of galaxies in a smaller field of view yields high galaxy density"
   ]
  },
  {
   "cell_type": "code",
   "execution_count": null,
   "metadata": {},
   "outputs": [],
   "source": [
    "allsystematics2 = mock.generate_galaxy_catalog(\n",
    "    **cluster_kwargs,\n",
    "    zsrc=\"chang13\",\n",
    "    zsrc_min=zsrc_min,\n",
    "    zsrc_max=7.0,\n",
    "    shapenoise=0.05,\n",
    "    photoz_sigma_unscaled=0.05,\n",
    "    field_size=4,\n",
    "    ngals=ngals\n",
    ")"
   ]
  },
  {
   "cell_type": "code",
   "execution_count": null,
   "metadata": {},
   "outputs": [],
   "source": [
    "plt.scatter(allsystematics[\"ra\"], allsystematics[\"dec\"], marker=\".\", label=\"default 8 x 8 Mpc FoV\")\n",
    "plt.scatter(allsystematics2[\"ra\"], allsystematics2[\"dec\"], marker=\".\", label=\"user-defined FoV\")\n",
    "plt.legend()\n",
    "plt.show()"
   ]
  },
  {
   "cell_type": "markdown",
   "metadata": {},
   "source": [
    "- Alternatively, the user may provide a galaxy density (here ~1 gal/arcmin2 to roughly match 1000 galaxies, given the configuration) and the number of galaxies to draw will automatically be adjusted to the box size."
   ]
  },
  {
   "cell_type": "code",
   "execution_count": null,
   "metadata": {},
   "outputs": [],
   "source": [
    "allsystematics3 = mock.generate_galaxy_catalog(\n",
    "    **cluster_kwargs,\n",
    "    zsrc=\"chang13\",\n",
    "    zsrc_min=zsrc_min,\n",
    "    zsrc_max=7.0,\n",
    "    shapenoise=0.05,\n",
    "    photoz_sigma_unscaled=0.05,\n",
    "    ngal_density=1.3,\n",
    ")\n",
    "print(f\"Number of drawn galaxies = {len(allsystematics3)}\")"
   ]
  },
  {
   "cell_type": "code",
   "execution_count": null,
   "metadata": {},
   "outputs": [],
   "source": [
    "allsystematics4 = mock.generate_galaxy_catalog(\n",
    "    **cluster_kwargs,\n",
    "    zsrc=\"desc_srd\",\n",
    "    zsrc_min=zsrc_min,\n",
    "    zsrc_max=7.0,\n",
    "    shapenoise=0.05,\n",
    "    photoz_sigma_unscaled=0.05,\n",
    "    ngal_density=1.3,\n",
    ")\n",
    "print(f\"Number of drawn galaxies = {len(allsystematics4)}\")"
   ]
  },
  {
   "cell_type": "code",
   "execution_count": null,
   "metadata": {},
   "outputs": [],
   "source": [
    "plt.scatter(allsystematics[\"ra\"], allsystematics[\"dec\"], marker=\".\", label=\"ngals = 1000\")\n",
    "plt.scatter(\n",
    "    allsystematics3[\"ra\"],\n",
    "    allsystematics3[\"dec\"],\n",
    "    marker=\".\",\n",
    "    label=\"ngal_density = 1 gal / arcmin2\",\n",
    ")\n",
    "plt.legend()\n",
    "plt.show()"
   ]
  },
  {
   "cell_type": "markdown",
   "metadata": {},
   "source": [
    "## Generate mock data with different galaxy cluster options\n",
    "WARNING: Available options depend on the modeling backend:\n",
    "- Cluster-toolkit allows for other values of the overdensity parameter, but is retricted to working with the mean mass definition\n",
    "- Both CCL and Numcosmo allow for different values of the overdensity parameter, but work with both the mean and critical mass definition\n",
    "- Numcosmo further allows for the Einasto or Burkert density profiles to be used instead of the NFW profile\n",
    "\n"
   ]
  },
  {
   "cell_type": "markdown",
   "metadata": {},
   "source": [
    "### Changing the overdensity parameter (all backend) - `delta_so` keyword (default = 200)"
   ]
  },
  {
   "cell_type": "code",
   "execution_count": null,
   "metadata": {},
   "outputs": [],
   "source": [
    "allsystematics_500mean = mock.generate_galaxy_catalog(\n",
    "    **cluster_kwargs,\n",
    "    zsrc=\"chang13\",\n",
    "    delta_so=500,\n",
    "    zsrc_min=zsrc_min,\n",
    "    zsrc_max=7.0,\n",
    "    shapenoise=0.05,\n",
    "    photoz_sigma_unscaled=0.05,\n",
    "    ngals=ngals\n",
    ")"
   ]
  },
  {
   "cell_type": "markdown",
   "metadata": {},
   "source": [
    "### Using the critical mass definition (Numcosmo and CCL only) - `massdef` keyword (default = 'mean')\n",
    "WARNING: error will be raised if using the cluster-toolkit backend"
   ]
  },
  {
   "cell_type": "code",
   "execution_count": null,
   "metadata": {},
   "outputs": [],
   "source": [
    "allsystematics_200critical = mock.generate_galaxy_catalog(\n",
    "    **cluster_kwargs,\n",
    "    zsrc=\"chang13\",\n",
    "    massdef=\"critical\",\n",
    "    zsrc_min=zsrc_min,\n",
    "    zsrc_max=7.0,\n",
    "    shapenoise=0.05,\n",
    "    photoz_sigma_unscaled=0.05,\n",
    "    ngals=ngals\n",
    ")"
   ]
  },
  {
   "cell_type": "markdown",
   "metadata": {},
   "source": [
    "### Changing the halo density profile (Numcosmo and CCL only) - `halo_profile_model` keyword (default = 'nfw')\n",
    "WARNING: error will be raised if using the cluster-toolkit or CCL backends"
   ]
  },
  {
   "cell_type": "code",
   "execution_count": null,
   "metadata": {},
   "outputs": [],
   "source": [
    "allsystematics_200m_einasto = mock.generate_galaxy_catalog(\n",
    "    **cluster_kwargs,\n",
    "    zsrc=\"chang13\",\n",
    "    halo_profile_model=\"einasto\",\n",
    "    zsrc_min=zsrc_min,\n",
    "    zsrc_max=7.0,\n",
    "    shapenoise=0.05,\n",
    "    photoz_sigma_unscaled=0.05,\n",
    "    ngals=ngals\n",
    ")"
   ]
  }
 ],
 "metadata": {
  "anaconda-cloud": {},
  "kernelspec": {
   "display_name": "wrk",
   "language": "python",
   "name": "wrk"
  },
  "language_info": {
   "codemirror_mode": {
    "name": "ipython",
    "version": 3
   },
   "file_extension": ".py",
   "mimetype": "text/x-python",
   "name": "python",
   "nbconvert_exporter": "python",
   "pygments_lexer": "ipython3",
   "version": "3.10.9"
  }
 },
 "nbformat": 4,
 "nbformat_minor": 4
}
