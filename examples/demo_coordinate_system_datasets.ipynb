{
 "cells": [
  {
   "cell_type": "markdown",
   "metadata": {},
   "source": [
    "# Tests of coordinate system effects on shear profiles\n",
    "\n",
    "Author:  Tomomi Sunayama, July 15, 2024\n",
    "\n",
    "Tested, modified, and documented by: Camille Avestruz, July 18, 2024\n",
    "\n",
    "Reviewed by: Caio Lima de Oliveira, July 19, 2024\n",
    "\n",
    "This notebook illustrates the impact of having an incorrect coordinate system when calculating shear profiles.  The default coordinate system for `CLMM` is the euclidean/pixel coordinate system.  This is consistent with DC2 catalogs.  However, if we input a catalog that assumes a celestial (sky) coordinate system and use the default euclidean (pixel) coordinate system (or vice versa), the signal of shear around a cluster disappears because the signal essentially looks random.\n",
    "\n",
    "We test:\n",
    "- CosmoDC2 source galaxies with shears extracted from `TXPipe` for a single galaxy cluster (euclidean/pixel coordinate system)\n",
    "- Example source galaxies for galaxy clusters from a [Summer School](https://github.com/oguri/wlcluster_tutorial) taught by Masamune Oguri (euclidean/pixel coordinate system)\n",
    "- HSC Y3 source galaxies with shears post processed by Tomomi Sunayama (celestial/sky coordinate system)\n",
    "\n",
    "We also \n",
    "- Compare the explicit calculation of a shear profile on the HSC Y3 source galaxies against a profile produced from `CLMM`. \n"
   ]
  },
  {
   "cell_type": "markdown",
   "metadata": {},
   "source": [
    "## Instructions to download text data\n",
    "\n",
    "Before running this notebook, you will need to download some data.  The data is available through a [dropbox link](https://www.dropbox.com/scl/fo/dwsccslr5iwb7lnkf8jvx/AJkjgFeemUEHpHaZaHHqpAg?rlkey=efbtsr15mdrs3y6xsm7l48o0r&st=xb58ap0g&dl=0)\n",
    "\n",
    "First, create a directory where you want to put the example data, e.g. for a given `data_coords_dir`:\n",
    "```\n",
    "mkdir -p <YOUR PATH TO DATA COORDS DIR>/data_coords\n",
    "cd <YOUR PATH TO DATA COORDS DIR>/data_coords\n",
    "```\n",
    "Download all files from [dropbox link](https://www.dropbox.com/scl/fo/dwsccslr5iwb7lnkf8jvx/AJkjgFeemUEHpHaZaHHqpAg?rlkey=efbtsr15mdrs3y6xsm7l48o0r&st=xb58ap0g&dl=0).  This will be a zip file, `CLMM_data.zip` of size 242 Mb. scp or move this to `data_coords_dir`.\n",
    "\n",
    "From the directory, you should be able to unzip:\n",
    "```\n",
    "unzip data_CLMM.zip -d .\n",
    "```\n",
    "You now have the necessary data files to run this notebook.  \n",
    "\n",
    "**Make sure to change the `data_coords_dir` variable in the cell below to the appropriate location where you unzipped these files.**\n"
   ]
  },
  {
   "cell_type": "code",
   "execution_count": null,
   "metadata": {
    "tags": []
   },
   "outputs": [],
   "source": [
    "#  CHANGE <YOUR PATH TO DATA COORDS DIR> TO YOUR LOCATION\n",
    "data_coords_dir = \"<YOUR PATH TO DATA COORDS DIR>/data_coords/\""
   ]
  },
  {
   "cell_type": "code",
   "execution_count": null,
   "metadata": {
    "tags": []
   },
   "outputs": [],
   "source": [
    "import numpy as np\n",
    "import matplotlib.pyplot as plt\n",
    "\n",
    "# %matplotlib inline\n",
    "from astropy.table import Table\n",
    "import pickle as pkl\n",
    "from pathlib import Path\n",
    "import pandas\n",
    "from astropy.io import fits"
   ]
  },
  {
   "cell_type": "code",
   "execution_count": null,
   "metadata": {
    "tags": []
   },
   "outputs": [],
   "source": [
    "from clmm import Cosmology\n",
    "\n",
    "cosmo = Cosmology(H0=70.0, Omega_dm0=0.27 - 0.045, Omega_b0=0.045, Omega_k0=0.0)"
   ]
  },
  {
   "cell_type": "markdown",
   "metadata": {},
   "source": [
    "## Example galaxy cluster from CosmoDC2\n",
    "\n",
    "Here, we plot an example galaxy cluster shear profile using `clmm`.  The cluster and source galaxy files are generated from the CosmoDC2 processed through TXPipe.  We test the coordinate system."
   ]
  },
  {
   "cell_type": "code",
   "execution_count": null,
   "metadata": {},
   "outputs": [],
   "source": [
    "cluster = pandas.read_pickle(data_coords_dir + \"/test_cluster.pkl\")"
   ]
  },
  {
   "cell_type": "code",
   "execution_count": null,
   "metadata": {},
   "outputs": [],
   "source": [
    "cluster_z = cluster[\"redshift\"]  # Cluster redshift\n",
    "cluster_ra = cluster[\"ra\"]  # Cluster Ra in deg\n",
    "cluster_dec = cluster[\"dec\"]"
   ]
  },
  {
   "cell_type": "code",
   "execution_count": null,
   "metadata": {},
   "outputs": [],
   "source": [
    "source = np.genfromtxt(data_coords_dir + \"/test_source.txt\", names=True)"
   ]
  },
  {
   "cell_type": "code",
   "execution_count": null,
   "metadata": {},
   "outputs": [],
   "source": [
    "gal_ra = source[\"ra\"]\n",
    "gal_dec = source[\"dec\"]\n",
    "gal_e1 = source[\"e1\"]\n",
    "gal_e2 = source[\"e2\"]\n",
    "gal_z = source[\"zmean\"]\n",
    "gal_id = np.arange(len(source[\"ra\"]))"
   ]
  },
  {
   "cell_type": "code",
   "execution_count": null,
   "metadata": {},
   "outputs": [],
   "source": [
    "import clmm\n",
    "import clmm.dataops as da\n",
    "from clmm.utils import convert_units\n",
    "\n",
    "# Create a GCData with the galaxies.\n",
    "galaxies = clmm.GCData(\n",
    "    [gal_ra, gal_dec, gal_e1, gal_e2, gal_z, gal_id], names=[\"ra\", \"dec\", \"e1\", \"e2\", \"z\", \"id\"]\n",
    ")"
   ]
  },
  {
   "cell_type": "markdown",
   "metadata": {},
   "source": [
    "Here we create a `GalaxyCluster` object, specifying an *incorrect* coordinate system.  For source galaxies from CosmoDC2, these are in the **euclidean** coordinate system.  We use the implemented kwarg when defining the galaxy cluster object to specify the **celestial** coordinate system."
   ]
  },
  {
   "cell_type": "code",
   "execution_count": null,
   "metadata": {},
   "outputs": [],
   "source": [
    "# Create a GalaxyCluster.\n",
    "cluster = clmm.GalaxyCluster(\n",
    "    \"Name of cluster\", cluster_ra, cluster_dec, cluster_z, galaxies, coordinate_system=\"celestial\"\n",
    ")\n",
    "\n",
    "# Convert elipticities into shears for the members.\n",
    "cluster.compute_tangential_and_cross_components()\n",
    "print(cluster.galcat.colnames)\n",
    "\n",
    "# Measure profile and add profile table to the cluster.\n",
    "seps = convert_units(cluster.galcat[\"theta\"], \"radians\", \"Mpc\", cluster.z, cosmo)\n",
    "\n",
    "cluster.make_radial_profile(\n",
    "    bins=da.make_bins(0.1, 3.0, 15, method=\"evenlog10width\"),\n",
    "    bin_units=\"Mpc\",\n",
    "    cosmo=cosmo,\n",
    "    include_empty_bins=False,\n",
    "    gal_ids_in_bins=True,\n",
    ")\n",
    "print(cluster.profile.colnames)"
   ]
  },
  {
   "cell_type": "markdown",
   "metadata": {},
   "source": [
    "Here, we plot the resulting profile when `clmm` uses assumes a coordinate system inconsistent with the catalogs provided.  You will note that the signal is virtually zero at almost all radii."
   ]
  },
  {
   "cell_type": "code",
   "execution_count": null,
   "metadata": {},
   "outputs": [],
   "source": [
    "fig = plt.figure(figsize=(6, 4))\n",
    "ax = fig.add_axes((0, 0, 1, 1))\n",
    "errorbar_kwargs = dict(linestyle=\"\", marker=\"o\", markersize=1, elinewidth=0.5, capthick=0.5)\n",
    "ax.errorbar(\n",
    "    cluster.profile[\"radius\"],\n",
    "    cluster.profile[\"gt\"],\n",
    "    cluster.profile[\"gt_err\"],\n",
    "    c=\"k\",\n",
    "    **errorbar_kwargs\n",
    ")\n",
    "ax.set_xlabel(\"r [Mpc]\", fontsize=10)\n",
    "ax.set_ylabel(r\"$g_t$\", fontsize=10)\n",
    "ax.grid(lw=0.3)\n",
    "ax.minorticks_on()\n",
    "ax.grid(which=\"minor\", lw=0.1)\n",
    "plt.show()"
   ]
  },
  {
   "cell_type": "markdown",
   "metadata": {},
   "source": [
    "Here we create a `GalaxyCluster` object, specifying the *correct* coordinate system.  For source galaxies from CosmoDC2, these are in the **euclidean** coordinate system.  We use the implemented kwarg when defining the galaxy cluster object to also specify the **euclidean** coordinate system.  However, with a single galaxy cluster, the signal is not significant enough to clearly see a difference.  There is a possible excess excess with the correct coordinate system at larger radii.  Note:  First, the lensing signal in CosmoDC2 clusters at the inner radii is known to be weak due to a limitation in the resolution when the ray tracing was performed in generating the source galaxy shears.  Second, this has been process through `TXPipe`, which is something else we will need to understand."
   ]
  },
  {
   "cell_type": "code",
   "execution_count": null,
   "metadata": {},
   "outputs": [],
   "source": [
    "cluster2 = clmm.GalaxyCluster(\n",
    "    \"Name of cluster\", cluster_ra, cluster_dec, cluster_z, galaxies, coordinate_system=\"euclidean\"\n",
    ")\n",
    "cluster2.compute_tangential_and_cross_components()\n",
    "print(cluster.galcat.colnames)\n",
    "\n",
    "# Measure profile and add profile table to the cluster.\n",
    "seps = convert_units(cluster2.galcat[\"theta\"], \"radians\", \"Mpc\", cluster2.z, cosmo)\n",
    "\n",
    "cluster2.make_radial_profile(\n",
    "    bins=da.make_bins(0.1, 3.0, 15, method=\"evenlog10width\"),\n",
    "    bin_units=\"Mpc\",\n",
    "    cosmo=cosmo,\n",
    "    include_empty_bins=False,\n",
    "    gal_ids_in_bins=True,\n",
    ")\n",
    "print(cluster.profile.colnames)\n",
    "fig = plt.figure(figsize=(6, 4))\n",
    "ax = fig.add_axes((0, 0, 1, 1))\n",
    "errorbar_kwargs = dict(linestyle=\"\", marker=\"o\", markersize=1, elinewidth=0.5, capthick=0.5)\n",
    "ax.errorbar(\n",
    "    cluster.profile[\"radius\"], cluster.profile[\"gt\"], cluster.profile[\"gt_err\"], label=\"celestial\"\n",
    ")\n",
    "ax.errorbar(\n",
    "    cluster2.profile[\"radius\"],\n",
    "    cluster2.profile[\"gt\"],\n",
    "    cluster2.profile[\"gt_err\"],\n",
    "    label=\"euclidean\",\n",
    ")\n",
    "ax.set_xlabel(\"r [Mpc]\", fontsize=20)\n",
    "ax.set_ylabel(r\"$g_t$\", fontsize=20)\n",
    "ax.grid(lw=0.3)\n",
    "ax.minorticks_on()\n",
    "ax.grid(which=\"minor\", lw=0.1)\n",
    "plt.legend(fontsize=20)\n",
    "plt.show()"
   ]
  },
  {
   "cell_type": "markdown",
   "metadata": {},
   "source": [
    "## Example source galaxies from M. Oguri\n",
    "\n",
    "This dataset is a curated selection of cluster and source catalogs from Summer School lectures delivered by Masamune Oguri.  There are eight galaxy clusters in this selection.  \n",
    "\n",
    "More details on the corresponding tutorial can be found at this [GitHub link](https://github.com/oguri/wlcluster_tutorial). These are also in the **euclidean** coordinate system."
   ]
  },
  {
   "cell_type": "code",
   "execution_count": null,
   "metadata": {},
   "outputs": [],
   "source": [
    "clusters = [\n",
    "    \"a1703\",\n",
    "    \"gho1320\",\n",
    "    \"sdss0851\",\n",
    "    \"sdss1050\",\n",
    "    \"sdss1138\",\n",
    "    \"sdss1226\",\n",
    "    \"sdss1329\",\n",
    "    \"sdss1531\",\n",
    "]\n",
    "\n",
    "zl_all = {\n",
    "    \"a1703\": 0.277,\n",
    "    \"gho1320\": 0.308,\n",
    "    \"sdss0851\": 0.370,\n",
    "    \"sdss1050\": 0.60,\n",
    "    \"sdss1138\": 0.451,\n",
    "    \"sdss1226\": 0.435,\n",
    "    \"sdss1329\": 0.443,\n",
    "    \"sdss1531\": 0.335,\n",
    "}\n",
    "\n",
    "ra_cl_all = {\n",
    "    \"a1703\": 198.771833,\n",
    "    \"gho1320\": 200.703208,\n",
    "    \"sdss0851\": 132.911917,\n",
    "    \"sdss1050\": 162.666250,\n",
    "    \"sdss1138\": 174.537292,\n",
    "    \"sdss1226\": 186.712958,\n",
    "    \"sdss1329\": 202.393708,\n",
    "    \"sdss1531\": 232.794167,\n",
    "}\n",
    "\n",
    "dec_cl_all = {\n",
    "    \"a1703\": 51.817389,\n",
    "    \"gho1320\": 31.654944,\n",
    "    \"sdss0851\": 33.518361,\n",
    "    \"sdss1050\": 0.285306,\n",
    "    \"sdss1138\": 27.908528,\n",
    "    \"sdss1226\": 21.831194,\n",
    "    \"sdss1329\": 22.721167,\n",
    "    \"sdss1531\": 34.240278,\n",
    "}"
   ]
  },
  {
   "cell_type": "code",
   "execution_count": null,
   "metadata": {},
   "outputs": [],
   "source": [
    "cname = \"a1703\"\n",
    "\n",
    "# cluster redshift\n",
    "zl = zl_all.get(cname)\n",
    "\n",
    "# coordinates of the cluster center\n",
    "ra_cl = ra_cl_all.get(cname)\n",
    "dec_cl = dec_cl_all.get(cname)\n",
    "\n",
    "# fix source redshift to 1.0\n",
    "zs = 1.0"
   ]
  },
  {
   "cell_type": "markdown",
   "metadata": {},
   "source": [
    "We inspect the first galaxy cluster, Abell 1703."
   ]
  },
  {
   "cell_type": "code",
   "execution_count": null,
   "metadata": {},
   "outputs": [],
   "source": [
    "rfile = data_coords_dir + \"/data/shear_\" + cname + \".dat\"\n",
    "data = np.loadtxt(rfile, comments=\"#\")\n",
    "\n",
    "ra = data[:, 0]\n",
    "dec = data[:, 1]\n",
    "e1 = data[:, 2]\n",
    "e2 = data[:, 3]\n",
    "wei = data[:, 4]\n",
    "ids = np.arange(np.shape(data)[0])\n",
    "redshifts = np.ones(np.shape(data)[0])\n",
    "galaxies = clmm.GCData(\n",
    "    [ra, dec, e1, e2, redshifts, ids], names=[\"ra\", \"dec\", \"e1\", \"e2\", \"z\", \"id\"]\n",
    ")"
   ]
  },
  {
   "cell_type": "markdown",
   "metadata": {},
   "source": [
    "Here we create a GalaxyCluster object, specifying the correct coordinate system. For source galaxies from the Oguri curated dataset, these are in the euclidean coordinate system. We use the implemented kwarg when defining the galaxy cluster object to also **specify the euclidean coordinate system**."
   ]
  },
  {
   "cell_type": "code",
   "execution_count": null,
   "metadata": {},
   "outputs": [],
   "source": [
    "cluster = clmm.GalaxyCluster(\"A1703euc\", ra_cl, dec_cl, zl, galaxies, coordinate_system=\"euclidean\")\n",
    "\n",
    "# Convert elipticities into shears for the members.\n",
    "cluster.compute_tangential_and_cross_components()\n",
    "print(cluster.galcat.colnames)\n",
    "\n",
    "# Measure profile and add profile table to the cluster.\n",
    "seps = convert_units(cluster.galcat[\"theta\"], \"radians\", \"Mpc\", cluster.z, cosmo)\n",
    "\n",
    "cluster.make_radial_profile(\n",
    "    bins=da.make_bins(0.2, 3.0, 8, method=\"evenlog10width\"),\n",
    "    bin_units=\"Mpc\",\n",
    "    cosmo=cosmo,\n",
    "    include_empty_bins=False,\n",
    "    gal_ids_in_bins=True,\n",
    ")\n",
    "print(cluster.profile.colnames)\n",
    "\n",
    "\n",
    "fig = plt.figure(figsize=(6, 4))\n",
    "ax = fig.add_axes((0, 0, 1, 1))\n",
    "errorbar_kwargs = dict(linestyle=\"\", marker=\"o\", markersize=1, elinewidth=0.5, capthick=0.5)\n",
    "ax.errorbar(\n",
    "    cluster.profile[\"radius\"], cluster.profile[\"gt\"], cluster.profile[\"gt_err\"], label=\"euclidean\"\n",
    ")\n",
    "\n",
    "# assume incorrect coordinates\n",
    "cluster2 = clmm.GalaxyCluster(\n",
    "    \"A1703cel\", ra_cl, dec_cl, zl, galaxies, coordinate_system=\"celestial\"\n",
    ")\n",
    "\n",
    "cluster2.compute_tangential_and_cross_components()\n",
    "print(cluster2.galcat.colnames)\n",
    "\n",
    "# Measure profile and add profile table to the cluster.\n",
    "seps = convert_units(cluster2.galcat[\"theta\"], \"radians\", \"Mpc\", cluster.z, cosmo)\n",
    "\n",
    "cluster2.make_radial_profile(\n",
    "    bins=da.make_bins(0.2, 3.0, 8, method=\"evenlog10width\"),\n",
    "    bin_units=\"Mpc\",\n",
    "    cosmo=cosmo,\n",
    "    include_empty_bins=False,\n",
    "    gal_ids_in_bins=True,\n",
    ")\n",
    "print(cluster2.profile.colnames)\n",
    "\n",
    "ax.errorbar(\n",
    "    cluster2.profile[\"radius\"],\n",
    "    cluster2.profile[\"gt\"],\n",
    "    cluster2.profile[\"gt_err\"],\n",
    "    label=\"celestial\",\n",
    ")\n",
    "\n",
    "\n",
    "ax.set_xlabel(\"r [Mpc]\", fontsize=20)\n",
    "ax.set_ylabel(r\"$g_t$\", fontsize=20)\n",
    "ax.grid(lw=0.3)\n",
    "ax.minorticks_on()\n",
    "ax.grid(which=\"minor\", lw=0.1)\n",
    "plt.legend(fontsize=20)\n",
    "plt.show()"
   ]
  },
  {
   "cell_type": "markdown",
   "metadata": {},
   "source": [
    "## Example source galaxies from HSC Y3\n",
    "\n",
    "This dataset is a simplified version of HSC Y3 data (GAMA15H), post-processed by Tomomi Sunayama for testing purposes.  The pre-processed data is already public. These catalogs assume a **celestial** coordinate system."
   ]
  },
  {
   "cell_type": "code",
   "execution_count": null,
   "metadata": {},
   "outputs": [],
   "source": [
    "cluster_cat = np.genfromtxt(\n",
    "    data_coords_dir + \"/GAMA15H/redmapper_dr8_GAMA15H.txt\",\n",
    "    dtype=np.dtype(\n",
    "        [(\"ra\", np.float64), (\"dec\", np.float64), (\"z\", np.float64), (\"richness\", np.float64)]\n",
    "    ),\n",
    ")"
   ]
  },
  {
   "cell_type": "code",
   "execution_count": null,
   "metadata": {},
   "outputs": [],
   "source": [
    "source_cat = fits.getdata(data_coords_dir + \"/GAMA15H/GAMA15H_tutorial.fits\")"
   ]
  },
  {
   "cell_type": "code",
   "execution_count": null,
   "metadata": {},
   "outputs": [],
   "source": [
    "cl = cluster_cat[0]"
   ]
  },
  {
   "cell_type": "markdown",
   "id": "8820c46a",
   "metadata": {},
   "source": [
    "Here, we use a KDTree implementation in scipy to extract the background source galaxies for the first galaxy cluster in the dataset."
   ]
  },
  {
   "cell_type": "code",
   "execution_count": null,
   "metadata": {},
   "outputs": [],
   "source": [
    "from scipy import spatial\n",
    "\n",
    "source1 = source_cat[source_cat[\"photoz\"] > (cl[\"z\"] + 0.3)]\n",
    "tree = spatial.cKDTree(np.array((source1[\"ra\"], source1[\"dec\"])).T)\n",
    "sel = tree.query_ball_point([cl[\"ra\"], cl[\"dec\"]], 3)\n",
    "bg = source1[sel]"
   ]
  },
  {
   "cell_type": "code",
   "execution_count": null,
   "id": "bf2df4dc",
   "metadata": {},
   "outputs": [],
   "source": [
    "# Inspect background source galaxy selection\n",
    "bg"
   ]
  },
  {
   "cell_type": "code",
   "execution_count": null,
   "id": "a77e1bfe",
   "metadata": {},
   "outputs": [],
   "source": [
    "sources = clmm.GCData(\n",
    "    [bg[\"RA\"], bg[\"Dec\"], bg[\"e1\"], bg[\"e2\"], bg[\"photoz\"], bg[\"weight\"]],\n",
    "    names=[\"ra\", \"dec\", \"e1\", \"e2\", \"z\", \"w_ls\"],\n",
    ")"
   ]
  },
  {
   "cell_type": "code",
   "execution_count": null,
   "id": "45d76a13",
   "metadata": {},
   "outputs": [],
   "source": [
    "cluster = clmm.GalaxyCluster(\n",
    "    \"redmapper\", cl[\"ra\"], cl[\"dec\"], cl[\"z\"], sources, coordinate_system=\"celestial\"\n",
    ")"
   ]
  },
  {
   "cell_type": "code",
   "execution_count": null,
   "id": "b1f88b26",
   "metadata": {},
   "outputs": [],
   "source": [
    "sigma_c = cosmo.eval_sigma_crit(cl[\"z\"], sources[\"z\"])"
   ]
  },
  {
   "cell_type": "code",
   "execution_count": null,
   "id": "6de9c9de",
   "metadata": {},
   "outputs": [],
   "source": [
    "cluster.compute_tangential_and_cross_components(\n",
    "    shape_component1=\"e1\",\n",
    "    shape_component2=\"e2\",\n",
    "    tan_component=\"DS_t\",\n",
    "    cross_component=\"DS_x\",\n",
    "    cosmo=cosmo,\n",
    "    is_deltasigma=True,\n",
    "    use_pdz=False,\n",
    ")"
   ]
  },
  {
   "cell_type": "code",
   "execution_count": null,
   "id": "5fa13fb2",
   "metadata": {},
   "outputs": [],
   "source": [
    "cluster"
   ]
  },
  {
   "cell_type": "markdown",
   "id": "a4dcd4a7",
   "metadata": {},
   "source": [
    "Now we construct a radial profile of the tangential and cross terms for the galaxy cluster"
   ]
  },
  {
   "cell_type": "code",
   "execution_count": null,
   "metadata": {},
   "outputs": [],
   "source": [
    "seps = convert_units(cluster.galcat[\"theta\"], \"radians\", \"Mpc\", cluster.z, cosmo)\n",
    "\n",
    "cluster.make_radial_profile(\n",
    "    tan_component_in=\"DS_t\",\n",
    "    cross_component_in=\"DS_x\",\n",
    "    tan_component_out=\"DS_t\",\n",
    "    cross_component_out=\"DS_x\",\n",
    "    weights_in=\"w_ls\",\n",
    "    bins=da.make_bins(0.1, 20.0, 15, method=\"evenlog10width\"),\n",
    "    bin_units=\"Mpc\",\n",
    "    cosmo=cosmo,\n",
    "    include_empty_bins=False,\n",
    "    gal_ids_in_bins=False,\n",
    ")\n",
    "print(cluster.profile.colnames)"
   ]
  },
  {
   "cell_type": "code",
   "execution_count": null,
   "id": "286dc0f9",
   "metadata": {},
   "outputs": [],
   "source": [
    "fig = plt.figure(figsize=(6, 6))\n",
    "ax = fig.add_axes((0, 0, 1, 1))\n",
    "errorbar_kwargs = dict(linestyle=\"\", marker=\"o\", markersize=1, elinewidth=0.5, capthick=0.5)\n",
    "ax.errorbar(\n",
    "    cluster.profile[\"radius\"],\n",
    "    cluster.profile[\"DS_t\"] / 1e13,\n",
    "    cluster.profile[\"DS_t_err\"] / 1e13,\n",
    "    label=\"celestial\",\n",
    ")\n",
    "plt.loglog()\n",
    "\n",
    "ax.set_xlabel(\"r [Mpc]\", fontsize=20)\n",
    "ax.set_ylabel(r\"$\\Delta\\Sigma(r)$\", fontsize=20)\n",
    "ax.grid(lw=0.3)\n",
    "ax.minorticks_on()\n",
    "ax.grid(which=\"minor\", lw=0.1)\n",
    "plt.legend(fontsize=20)\n",
    "plt.show()"
   ]
  },
  {
   "cell_type": "markdown",
   "id": "05e4ee26",
   "metadata": {},
   "source": [
    "## Example explicit lensing profile measurement comparison with CLMM profile\n",
    "\n",
    "Here, we use the example HSC Y3 dataset to explicitly measure the lensing signal without using CLMM for comparison.  Note, we need to still define a cosmology to calculate comoving distances."
   ]
  },
  {
   "cell_type": "code",
   "execution_count": null,
   "id": "651e0048",
   "metadata": {},
   "outputs": [],
   "source": [
    "import numpy as np\n",
    "from astropy.io import fits\n",
    "import matplotlib as mpl\n",
    "import matplotlib.pyplot as plt\n",
    "from scipy import spatial\n",
    "from astropy.cosmology import WMAP5"
   ]
  },
  {
   "cell_type": "code",
   "execution_count": null,
   "id": "dbefe49d",
   "metadata": {},
   "outputs": [],
   "source": [
    "# Read in the data\n",
    "cluster_cat = np.genfromtxt(\n",
    "    data_coords_dir + \"GAMA15H/redmapper_dr8_GAMA15H.txt\",\n",
    "    dtype=np.dtype(\n",
    "        [(\"RA\", np.float64), (\"Dec\", np.float64), (\"z\", np.float64), (\"richness\", np.float64)]\n",
    "    ),\n",
    ")\n",
    "source_cat = fits.getdata(data_coords_dir + \"GAMA15H/GAMA15H_tutorial.fits\")"
   ]
  },
  {
   "cell_type": "code",
   "execution_count": null,
   "id": "a826c6e0",
   "metadata": {},
   "outputs": [],
   "source": [
    "cosmo = WMAP5"
   ]
  },
  {
   "cell_type": "markdown",
   "id": "ca4bd885",
   "metadata": {},
   "source": [
    "Below, we measure lensing signals with simplified assumptions.  We do not account for responsivity, multiplicative, nor additive biases.  "
   ]
  },
  {
   "cell_type": "code",
   "execution_count": null,
   "id": "3fdca16e",
   "metadata": {},
   "outputs": [],
   "source": [
    "# Define functions for the explicit calculation\n",
    "\n",
    "\n",
    "def calcDistanceAngle(a1, d1, a2, d2):\n",
    "    \"\"\"Compute the angle between lens and source galaxies from ra, dec in radians\n",
    "    a1 (float, ndarray) : lens RA in radians\n",
    "    d1 (float, ndarray) : lens DEC in radians\n",
    "    a2 (float, ndarray) : src RA in radians\n",
    "    d2 (float, ndarray) : src DEC in radians\n",
    "    \"\"\"\n",
    "    return np.arccos(np.cos(d1) * np.cos(d2) * np.cos(a1 - a2) + np.sin(d1) * np.sin(d2))\n",
    "\n",
    "\n",
    "def cosPhi2(a1, a2, d1, d2, distanceAngle):\n",
    "    \"\"\"Compute $\\cos(2\\phi)$ for a given distance angle between lens and source galaxies from ra, dec in radians\n",
    "    a1 (float, ndarray) : lens RA in radians\n",
    "    a2 (float, ndarray) : src RA in radians\n",
    "    d1 (float, ndarray) : lens DEC in radians\n",
    "    d2 (float, ndarray) : src DEC in radians\n",
    "    distanceAngle (float, ndarray) : angular distance between lens and source in radians\n",
    "    \"\"\"\n",
    "    return np.sin(a2 - a1) * np.cos(d1) / np.sin(distanceAngle)\n",
    "\n",
    "\n",
    "def sinPhi2(a1, a2, d1, d2, distanceAngle):\n",
    "    \"\"\"Compute $\\sin(2\\phi)$ for a given distance angle between lens and source galaxies from ra, dec in radians\n",
    "    a1 (float, ndarray) : lens RA in radians\n",
    "    a2 (float, ndarray) : src RA in radians\n",
    "    d1 (float, ndarray) : lens DEC in radians\n",
    "    d2 (float, ndarray) : src DEC in radians\n",
    "    distanceAngle (float, ndarray) : angular distance between lens and source in radians\n",
    "    \"\"\"\n",
    "    return (-np.cos(d2) * np.sin(d1) + np.sin(d2) * np.cos(d1) * np.cos(a1 - a2)) / np.sin(\n",
    "        distanceAngle\n",
    "    )\n",
    "\n",
    "\n",
    "def compute_sin2phi_cos2phi(a1, a2, d1, d2, distanceAngle):\n",
    "    \"\"\"Compute necessary coefficients for the et and ex components, sin2phi and cos2phi\n",
    "    a1 (float, ndarray) : lens RA in radians\n",
    "    a2 (float, ndarray) : src RA in radians\n",
    "    d1 (float, ndarray) : lens DEC in radians\n",
    "    d2 (float, ndarray) : src DEC in radians\n",
    "    distanceAngle (float, ndarray) : angular distance between lens and source in radians\n",
    "    \"\"\"\n",
    "    cosp = cosPhi2(a1, a2, d1, d2, distanceAngle)\n",
    "    sinp = sinPhi2(a1, a2, d1, d2, distanceAngle)\n",
    "    cos2p = cosp**2 - sinp**2\n",
    "    sin2p = 2.0 * sinp * cosp\n",
    "    return cos2p, sin2p\n",
    "\n",
    "\n",
    "def calc_et_ex(e1, e2, cos2p, sin2p):\n",
    "    \"\"\"Calculate the et and ex from the e1 e2 values of all sources and their sin2phi, cos2phi\"\"\"\n",
    "    et = -(e1 * cos2p + e2 * sin2p)\n",
    "    ex = -(-e1 * sin2p + e2 * cos2p)\n",
    "    return et, ex\n",
    "\n",
    "\n",
    "def populate_profile_sums(ps, i_r, src_in_bin, Sigma_cr, sel, et, ex):\n",
    "    \"\"\"Populate the profile sums at a given radian bin from the calculated selection, sigma_crit, et, and ex\"\"\"\n",
    "    ps[\"n\"][i_r] += sel.sum()\n",
    "    ps[\"e_sq\"][i_r] += np.sum(et**2 + ex**2)\n",
    "\n",
    "    wt = src_in_bin[\"weight\"] * Sigma_cr**-2  # multiply by the lens weights if it is not one\n",
    "    ps[\"w\"][i_r] += np.sum(wt)\n",
    "\n",
    "    wetsigma = wt * Sigma_cr * et\n",
    "    ps[\"wetsigma\"][i_r] += np.sum(wetsigma)\n",
    "    ps[\"wetsigma_sq\"][i_r] += np.sum(wetsigma**2)\n",
    "\n",
    "    wexsigma = wt * Sigma_cr * ex\n",
    "    ps[\"wexsigma\"][i_r] += np.sum(wexsigma)\n",
    "    ps[\"wexsigma_sq\"][i_r] += np.sum(wexsigma**2)\n",
    "\n",
    "    wsigmainv = wt * 1.0 / Sigma_cr\n",
    "    ps[\"wsigmainv\"][i_r] += np.sum(wsigmainv)\n",
    "\n",
    "    wzs = wt * src_in_bin[\"photoz\"]\n",
    "    ps[\"wzs\"][i_r] += np.sum(wzs)"
   ]
  },
  {
   "cell_type": "code",
   "execution_count": null,
   "id": "f343ae7c",
   "metadata": {},
   "outputs": [],
   "source": [
    "# Relevant constants, radial binning, source photoz range and lens photoz range\n",
    "\n",
    "d2r = np.pi / 180.0\n",
    "r2d = 180.0 / np.pi\n",
    "Mpc = 3.08568025 * 10**19  # 1Mpc = 3.08568025*10**19 km\n",
    "M_sun = 1.9884 * 10**33  # solar mass [g]\n",
    "c_light = 2.99792458 * 10**5  # speed of light [km/s]\n",
    "G = 6.67384 * 10 ** (-20)  # gravitational constant [km^3s^-2kg^-1]\n",
    "Sigma_cr_fact = c_light**2 / (4 * np.pi * G) * Mpc * 10**3 / M_sun\n",
    "rbin_edges = np.logspace(-1, np.log10(20), 15)  # Define your radial bins\n",
    "\n",
    "# Named numpy arrays for relevant profile values to explicitly compute and sum at each radii\n",
    "profile_names = [\n",
    "    \"e_sq\",\n",
    "    \"w\",\n",
    "    \"wetsigma\",\n",
    "    \"wetsigma_sq\",\n",
    "    \"wexsigma\",\n",
    "    \"wexsigma_sq\",\n",
    "    \"wsigmainv\",\n",
    "    \"wzs\",\n",
    "    \"n\",\n",
    "]\n",
    "profile_sums = np.rec.fromarrays(\n",
    "    [np.zeros(len(rbin_edges) - 1) for i in profile_names], names=profile_names\n",
    ")\n",
    "\n",
    "source_pz = {\"min\": 0.5, \"max\": 10}\n",
    "lens_pz = {\"min\": 0.1, \"max\": 0.2}"
   ]
  },
  {
   "cell_type": "code",
   "execution_count": null,
   "id": "8da9ec37",
   "metadata": {},
   "outputs": [],
   "source": [
    "# Select lens clusters and source galaxies from catalogs using kdtree\n",
    "\n",
    "source_pz_criteria = (source_cat[\"photoz\"] < source_pz[\"max\"]) & (\n",
    "    source_cat[\"photoz\"] > source_pz[\"min\"]\n",
    ")\n",
    "selected_sources = source_cat[source_pz_criteria]\n",
    "\n",
    "tree = spatial.cKDTree(np.array((selected_sources[\"RA\"], selected_sources[\"Dec\"])).T)\n",
    "\n",
    "# We only select one,selecting many will take much more time to compute.\n",
    "lens_pz_criteria = (cluster_cat[\"z\"] > lens_pz[\"min\"]) & (cluster_cat[\"z\"] < lens_pz[\"max\"])\n",
    "lens_clusters = cluster_cat[lens_pz_criteria][:1]\n",
    "\n",
    "# Set weights for the cluster lenses to one\n",
    "lens_weights = np.ones(lens_clusters.size)"
   ]
  },
  {
   "cell_type": "code",
   "execution_count": null,
   "id": "972bdfcb",
   "metadata": {
    "tags": []
   },
   "outputs": [],
   "source": [
    "# Calculate lensing profiles for each cluster lens\n",
    "\n",
    "for ilens in np.arange(lens_clusters.size):\n",
    "\n",
    "    # Select source galaxies for this cluster lens\n",
    "    sel = tree.query_ball_point([lens_clusters[\"RA\"][ilens], lens_clusters[\"Dec\"][ilens]], 3)\n",
    "    sel_z = (\n",
    "        source_cat[sel][\"photoz\"] > lens_clusters[\"z\"][ilens]\n",
    "    )  # Try to change the source galaxy selection\n",
    "    source_bg = source_cat[sel][sel_z]\n",
    "\n",
    "    # Compute an angle between the lens and the source\n",
    "    theta_ls = calcDistanceAngle(\n",
    "        lens_clusters[\"RA\"][ilens] * d2r,\n",
    "        lens_clusters[\"Dec\"][ilens] * d2r,\n",
    "        source_bg[\"RA\"] * d2r,\n",
    "        source_bg[\"Dec\"] * d2r,\n",
    "    )\n",
    "\n",
    "    # Compute the comoving distance of the lens\n",
    "    l_chi = cosmo.comoving_distance((lens_clusters[\"z\"][ilens])).value\n",
    "    r = theta_ls * l_chi\n",
    "    assign_r = np.digitize(r, rbin_edges)\n",
    "\n",
    "    for i_r in range(len(rbin_edges) - 1):\n",
    "        # Subselection mask of source galaxies in the radial bin\n",
    "        sel = assign_r == i_r + 1\n",
    "\n",
    "        # Subselected source galaxies and their respective angle, theta, to lens\n",
    "        source_bg_inbin = source_bg[sel]\n",
    "        theta_sub = theta_ls[sel]\n",
    "\n",
    "        # Compute the cos(2*phi) and sin(2*phi) for a given distance angle between lens and source galaxies\n",
    "        cos2p, sin2p = compute_sin2phi_cos2phi(\n",
    "            lens_clusters[\"RA\"][ilens] * d2r,\n",
    "            source_bg_inbin[\"RA\"] * d2r,\n",
    "            lens_clusters[\"Dec\"][ilens] * d2r,\n",
    "            source_bg_inbin[\"Dec\"] * d2r,\n",
    "            theta_sub,\n",
    "        )\n",
    "\n",
    "        # Calculate tangential and cross terms from e1, e2 of all source galaxies in the rbin\n",
    "        et, ex = calc_et_ex(source_bg_inbin[\"e1\"], source_bg_inbin[\"e2\"], cos2p, sin2p)\n",
    "\n",
    "        # Calculate critical surface mass density [M_sun/ comoving Mpc^2]. (1+zl)**-2 is for comoving coordinates.\n",
    "        comoving_distance = cosmo.comoving_distance((source_bg_inbin[\"photoz\"])).value\n",
    "        Sigma_cr = (\n",
    "            Sigma_cr_fact\n",
    "            / (1.0 - l_chi / comoving_distance)\n",
    "            / l_chi\n",
    "            / (1.0 + lens_clusters[\"z\"][ilens])\n",
    "            / 10**12\n",
    "        )\n",
    "\n",
    "        # Populate the profile_sums at this radial bin for this cluster lens\n",
    "        populate_profile_sums(profile_sums, i_r, source_bg_inbin, Sigma_cr, sel, et, ex)"
   ]
  },
  {
   "cell_type": "code",
   "execution_count": null,
   "id": "8078ef52",
   "metadata": {},
   "outputs": [],
   "source": [
    "# Compute the lensing signal and errors to plot\n",
    "\n",
    "radial_bin = (\n",
    "    2.0\n",
    "    * (rbin_edges[1:] ** 3 - rbin_edges[:-1] ** 3)\n",
    "    / (3.0 * (rbin_edges[1:] ** 2 - rbin_edges[:-1] ** 2))\n",
    ")\n",
    "gt = 0.5 * profile_sums[\"wetsigma\"] / profile_sums[\"w\"]\n",
    "gt_err = 0.5 * np.sqrt(profile_sums[\"wetsigma_sq\"]) / profile_sums[\"w\"]\n",
    "gx = 0.5 * profile_sums[\"wexsigma\"] / profile_sums[\"w\"]\n",
    "gx_err = 0.5 * np.sqrt(profile_sums[\"wexsigma_sq\"]) / profile_sums[\"w\"]\n",
    "sigma_cr = 1.0 / (profile_sums[\"wsigmainv\"] / profile_sums[\"w\"])"
   ]
  },
  {
   "cell_type": "markdown",
   "id": "4f4756df",
   "metadata": {},
   "source": [
    "Below, we compare the explicitly calculated lensing signal against the CLMM calculated signal.  You will notice that the `CLMM` calculated profile is systematically lower than the one calculated using Tomomi's code.  This is likely due to a combination of assumed weighting scheme and other factors that differ between HSC post-processing and what `CLMM` assumes or a \"little h\" problem, which we will need to understand and possibly address."
   ]
  },
  {
   "cell_type": "code",
   "execution_count": null,
   "metadata": {},
   "outputs": [],
   "source": [
    "# Figure for the lensing signal\n",
    "plt.figure(figsize=(6, 6))\n",
    "\n",
    "# From explicit calculation\n",
    "plt.errorbar(radial_bin, gt, yerr=gt_err, label=\"original\")\n",
    "\n",
    "# From CLMM\n",
    "plt.errorbar(\n",
    "    cluster.profile[\"radius\"],\n",
    "    cluster.profile[\"DS_t\"] / 1e13,\n",
    "    cluster.profile[\"DS_t_err\"] / 1e13,\n",
    "    label=\"CLMM\",\n",
    ")\n",
    "plt.loglog()\n",
    "plt.legend(fontsize=20)\n",
    "plt.xlabel(r\"$R[h^{-1}{\\rm Mpc}]$\", fontsize=20)\n",
    "plt.ylabel(r\"$\\Delta\\Sigma(R)$\", fontsize=20)"
   ]
  }
 ],
 "metadata": {
  "kernelspec": {
   "display_name": "Python 3",
   "language": "python",
   "name": "python3"
  },
  "language_info": {
   "codemirror_mode": {
    "name": "ipython",
    "version": 3
   },
   "file_extension": ".py",
   "mimetype": "text/x-python",
   "name": "python",
   "nbconvert_exporter": "python",
   "pygments_lexer": "ipython3",
   "version": "3.6.9"
  }
 },
 "nbformat": 4,
 "nbformat_minor": 5
}
