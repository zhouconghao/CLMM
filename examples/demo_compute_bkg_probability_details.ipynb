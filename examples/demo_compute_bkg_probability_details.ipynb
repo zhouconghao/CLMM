{
 "cells": [
  {
   "cell_type": "markdown",
   "id": "01425612",
   "metadata": {},
   "source": [
    "# Test computation of background probablitily\n",
    "\n",
    "This notbook compares the computation of the source background probability, used for stacking clusters\n",
    "(look at `demo_compute_deltasigma_weights.ipynb` for more details)."
   ]
  },
  {
   "cell_type": "code",
   "execution_count": null,
   "id": "5fe558e3",
   "metadata": {},
   "outputs": [],
   "source": [
    "%load_ext autoreload\n",
    "%autoreload 2\n",
    "import sys\n",
    "import os\n",
    "\n",
    "import numpy as np\n",
    "import matplotlib.pyplot as plt\n",
    "from astropy.table import Table\n",
    "import scipy\n",
    "\n",
    "import clmm\n",
    "from clmm import Cosmology\n",
    "from clmm import GalaxyCluster\n",
    "from clmm.dataops import compute_galaxy_weights\n",
    "from clmm.support import mock_data as mock\n",
    "\n",
    "clmm.__version__"
   ]
  },
  {
   "cell_type": "markdown",
   "id": "ec66ea96",
   "metadata": {},
   "source": [
    "- Creating the same mock catalog with three different ways of storing the photo-z PDF information (see `demo_mock_cluster.ipynb` for details):"
   ]
  },
  {
   "cell_type": "code",
   "execution_count": null,
   "id": "2570ad7b",
   "metadata": {
    "scrolled": true
   },
   "outputs": [],
   "source": [
    "cosmo = Cosmology(H0=71.0, Omega_dm0=0.265 - 0.0448, Omega_b0=0.0448, Omega_k0=0.0)\n",
    "cluster_z = 0.4\n",
    "args = (\n",
    "    1e14,  # cluster_mass\n",
    "    cluster_z,\n",
    "    4,  # concentration\n",
    "    cosmo,\n",
    ")\n",
    "kwargs = dict(\n",
    "    zsrc=\"chang13\",\n",
    "    delta_so=200,\n",
    "    massdef=\"critical\",\n",
    "    halo_profile_model=\"nfw\",\n",
    "    zsrc_min=0.0,\n",
    "    zsrc_max=3.0,\n",
    "    field_size=10.0,\n",
    "    shapenoise=0.5,\n",
    "    photoz_sigma_unscaled=0.05,\n",
    "    mean_e_err=0.1,\n",
    "    ngals=10000,\n",
    ")\n",
    "\n",
    "np.random.seed(41363)\n",
    "noisy_data_z_sb = mock.generate_galaxy_catalog(*args, **kwargs, pzpdf_type=\"shared_bins\")\n",
    "np.random.seed(41363)\n",
    "noisy_data_z_ib = mock.generate_galaxy_catalog(*args, **kwargs, pzpdf_type=\"individual_bins\")\n",
    "np.random.seed(41363)\n",
    "noisy_data_z_qt = mock.generate_galaxy_catalog(*args, **kwargs, pzpdf_type=\"quantiles\")"
   ]
  },
  {
   "cell_type": "code",
   "execution_count": null,
   "id": "8f5cb556",
   "metadata": {},
   "outputs": [],
   "source": [
    "label = \"shared bins\"\n",
    "for i, data in enumerate(noisy_data_z_sb[:5]):\n",
    "    plt.plot(noisy_data_z_sb.pzpdf_info[\"zbins\"], data[\"pzpdf\"], lw=0.5, color=f\"C{i}\", label=label)\n",
    "    label = None\n",
    "\n",
    "label = \"individual bins\"\n",
    "for i, data in enumerate(noisy_data_z_ib[:5]):\n",
    "    plt.plot(data[\"pzbins\"], data[\"pzpdf\"], lw=0.9, color=f\"C{i}\", ls=\"--\", label=label)\n",
    "    label = None\n",
    "\n",
    "\n",
    "pzbins, pzpdfs = noisy_data_z_qt.get_pzpdfs()\n",
    "label = \"quantiles\"\n",
    "for i, data in enumerate(pzpdfs[:5]):\n",
    "    plt.plot(pzbins, data, lw=3, color=f\"C{i}\", ls=\":\", label=label)\n",
    "    label = None\n",
    "plt.xlim(0.4, 2.1)\n",
    "plt.legend()\n",
    "plt.show()"
   ]
  },
  {
   "cell_type": "markdown",
   "id": "4bf78d6c",
   "metadata": {},
   "source": [
    "## Test P(z) integrals\n",
    "\n",
    "Probability to be in the background of the cluster i.e. to be higher than a given threshold is given by:\n",
    "$$ \n",
    "P(z > z_l) = \\int_{z_l}^{+\\infty} dz\\ p(z) \n",
    "$$\n",
    ",\n",
    "\n",
    "where `z_l` is the redshift of the lens.\n",
    "\n",
    "Below we will compare the performance of this computation with `clmm` and with `qp` considering the different types of photo-z PDF data."
   ]
  },
  {
   "cell_type": "markdown",
   "id": "f87dd517",
   "metadata": {},
   "source": [
    "### From CLMM\n",
    "\n",
    "In `clmm`, the integration of the PDF is made with the `_integ_pzfuncs` function:"
   ]
  },
  {
   "cell_type": "code",
   "execution_count": null,
   "id": "0b5638e0",
   "metadata": {},
   "outputs": [],
   "source": [
    "from clmm.dataops import _integ_pzfuncs"
   ]
  },
  {
   "cell_type": "code",
   "execution_count": null,
   "id": "ed6bb988",
   "metadata": {},
   "outputs": [],
   "source": [
    "integrals = {\n",
    "    \"clmm_shared\": _integ_pzfuncs(*noisy_data_z_sb.get_pzpdfs()[::-1], cluster_z),\n",
    "    \"clmm_individual\": _integ_pzfuncs(*noisy_data_z_ib.get_pzpdfs()[::-1], cluster_z),\n",
    "    \"clmm_quantiles\": _integ_pzfuncs(*noisy_data_z_qt.get_pzpdfs()[::-1], cluster_z),\n",
    "}"
   ]
  },
  {
   "cell_type": "markdown",
   "id": "8c26067b",
   "metadata": {},
   "source": [
    "### From `qp`\n",
    "\n",
    "In `qp`, this integral can be done using the cdf of a data ensemble.\n",
    "Below we present how to make the corresponding ensemble for each type of PDF data stored:"
   ]
  },
  {
   "cell_type": "code",
   "execution_count": null,
   "id": "8c5b029f",
   "metadata": {},
   "outputs": [],
   "source": [
    "import qp"
   ]
  },
  {
   "cell_type": "code",
   "execution_count": null,
   "id": "ce8568e3",
   "metadata": {},
   "outputs": [],
   "source": [
    "qp_dat = qp.Ensemble(\n",
    "    qp.interp,\n",
    "    data={\"xvals\": noisy_data_z_sb.pzpdf_info[\"zbins\"], \"yvals\": noisy_data_z_sb[\"pzpdf\"]},\n",
    ")\n",
    "integrals[\"qp_shared\"] = 1 - qp_dat.cdf(cluster_z)[:, 0]"
   ]
  },
  {
   "cell_type": "code",
   "execution_count": null,
   "id": "ac25248b",
   "metadata": {},
   "outputs": [],
   "source": [
    "qp_dat2 = qp.Ensemble(\n",
    "    qp.interp_irregular,\n",
    "    data={\"xvals\": noisy_data_z_ib[\"pzbins\"], \"yvals\": noisy_data_z_ib[\"pzpdf\"]},\n",
    ")\n",
    "integrals[\"qp_individual\"] = 1 - qp_dat2.cdf(cluster_z)[:, 0]"
   ]
  },
  {
   "cell_type": "code",
   "execution_count": null,
   "id": "fa130397",
   "metadata": {},
   "outputs": [],
   "source": [
    "qp_dat3 = qp.Ensemble(\n",
    "    qp.quant,\n",
    "    data={\n",
    "        \"locs\": noisy_data_z_qt[\"pzquantiles\"],\n",
    "        \"quants\": noisy_data_z_qt.pzpdf_info[\"quantiles\"],\n",
    "    },\n",
    ")\n",
    "integrals[\"qp_quantiles\"] = 1 - qp_dat3.cdf(cluster_z)[:, 0]"
   ]
  },
  {
   "cell_type": "markdown",
   "id": "b345fcf7",
   "metadata": {},
   "source": [
    "### True Values"
   ]
  },
  {
   "cell_type": "markdown",
   "id": "30906527",
   "metadata": {},
   "source": [
    "Comparison of these integrals with the analytical form.\n",
    "For a gaussian distribution, the integral can be computed with the error function:\n",
    "\n",
    "$$\n",
    "P(z > z_l) = \n",
    "\\frac{1}{\\sqrt{2\\pi\\sigma_z^2}}\\int_{z_{l}}^{+\\infty} dz\\ e^{-\\frac{(z-z_{gal})^2}{2\\sigma_z^2}} =\n",
    "\\frac{1}{2} {\\rm erfc}\\left(\\frac{z_{l}-z_{gal}}{\\sqrt{2}\\sigma_z}\\right)\n",
    "$$"
   ]
  },
  {
   "cell_type": "code",
   "execution_count": null,
   "id": "a39d2671",
   "metadata": {},
   "outputs": [],
   "source": [
    "from scipy.special import erfc"
   ]
  },
  {
   "cell_type": "code",
   "execution_count": null,
   "id": "70451cfa",
   "metadata": {},
   "outputs": [],
   "source": [
    "true_integ = 0.5 * erfc(\n",
    "    (cluster_z - noisy_data_z_sb[\"z\"]) / (0.05 * (1 + noisy_data_z_sb[\"z\"]) * np.sqrt(2))\n",
    ")"
   ]
  },
  {
   "cell_type": "markdown",
   "id": "87a930b9",
   "metadata": {},
   "source": [
    "### Difference\n",
    "\n",
    "Show relative difference to the analytical form:"
   ]
  },
  {
   "cell_type": "code",
   "execution_count": null,
   "id": "b3ffd320",
   "metadata": {},
   "outputs": [],
   "source": [
    "from scipy.stats import binned_statistic"
   ]
  },
  {
   "cell_type": "code",
   "execution_count": null,
   "id": "27515ca8",
   "metadata": {},
   "outputs": [],
   "source": [
    "fig, axes = plt.subplots(2, sharex=True, sharey=True, figsize=(7, 5))\n",
    "bins = np.linspace(0, 1, 21)\n",
    "for comp_case, ax in zip((\"clmm\", \"qp\"), axes):\n",
    "    for i, pdf_case in enumerate((\"shared\", \"individual\", \"quantiles\")):\n",
    "        dx = (i - 1) * 0.01\n",
    "        integ = integrals[f\"{comp_case}_{pdf_case}\"]\n",
    "        ax.errorbar(\n",
    "            0.5 * (bins[1:] + bins[:-1]) + dx,\n",
    "            binned_statistic(integ, (integ / true_integ - 1) * 100, bins=bins)[0],\n",
    "            binned_statistic(integ, (integ / true_integ - 1) * 100, bins=bins, statistic=\"std\")[0],\n",
    "            label=pdf_case,\n",
    "            lw=0.7,\n",
    "        )\n",
    "    ax.axhline(0, c=\"0\", ls=\"--\", lw=0.5)\n",
    "    ax.minorticks_on()\n",
    "    ax.grid()\n",
    "    ax.grid(which=\"minor\", lw=0.3)\n",
    "    ax.set_ylim(-20, 30)\n",
    "    ax.set_title(f\"{comp_case} integral\")\n",
    "axes[0].legend()\n",
    "axes[1].set_xlabel(\"True integral\")\n",
    "for ax in axes:\n",
    "    ax.set_ylabel(\"rel. diff [%]\")"
   ]
  }
 ],
 "metadata": {
  "kernelspec": {
   "display_name": "Python 3 (ipykernel)",
   "language": "python",
   "name": "python3"
  },
  "language_info": {
   "codemirror_mode": {
    "name": "ipython",
    "version": 3
   },
   "file_extension": ".py",
   "mimetype": "text/x-python",
   "name": "python",
   "nbconvert_exporter": "python",
   "pygments_lexer": "ipython3",
   "version": "3.10.8"
  }
 },
 "nbformat": 4,
 "nbformat_minor": 5
}
