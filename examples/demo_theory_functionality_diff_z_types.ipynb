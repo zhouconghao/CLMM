{
 "cells": [
  {
   "cell_type": "markdown",
   "metadata": {
    "tags": []
   },
   "source": [
    "# Model WL Profiles (different redshift inputs)\n",
    "## Model profiles using different type of source redshift information as input"
   ]
  },
  {
   "cell_type": "markdown",
   "metadata": {},
   "source": [
    "In this example we model lensing profiles by giving as input either : \n",
    "- discrete source redshifts, \n",
    "- a redshift distribution function,\n",
    "- the value of the mean beta parameters : \n",
    "$\\langle \\beta_s \\rangle = \\left\\langle \\frac{D_{LS}}{D_S}\\frac{D_\\infty}{D_{L,\\infty}}\\right\\rangle$ ,\n",
    "$\\langle \\beta_s^2 \\rangle = \\left\\langle \\left(\\frac{D_{LS}}{D_S}\\frac{D_\\infty}{D_{L,\\infty}}\\right)^2 \\right\\rangle$"
   ]
  },
  {
   "cell_type": "code",
   "execution_count": null,
   "metadata": {},
   "outputs": [],
   "source": [
    "import warnings\n",
    "\n",
    "warnings.filterwarnings(\"ignore\", message=\".*(!).*\")\n",
    "import os\n",
    "\n",
    "## Uncomment the following line if you want to use a specific modeling backend among 'ct' (cluster-toolkit), 'ccl' (CCL) or 'nc' (Numcosmo). Default is 'ccl'\n",
    "# os.environ['CLMM_MODELING_BACKEND'] = 'nc'"
   ]
  },
  {
   "cell_type": "code",
   "execution_count": null,
   "metadata": {},
   "outputs": [],
   "source": [
    "import clmm\n",
    "import numpy as np\n",
    "import matplotlib.pyplot as plt\n",
    "from IPython.display import display, Math\n",
    "\n",
    "%matplotlib inline"
   ]
  },
  {
   "cell_type": "code",
   "execution_count": null,
   "metadata": {},
   "outputs": [],
   "source": [
    "import matplotlib\n",
    "\n",
    "matplotlib.rcParams.update({\"font.size\": 16})"
   ]
  },
  {
   "cell_type": "markdown",
   "metadata": {},
   "source": [
    "Make sure we know which version we're using"
   ]
  },
  {
   "cell_type": "code",
   "execution_count": null,
   "metadata": {},
   "outputs": [],
   "source": [
    "clmm.__version__"
   ]
  },
  {
   "cell_type": "markdown",
   "metadata": {},
   "source": [
    "## Import mock data module and setup the configuration "
   ]
  },
  {
   "cell_type": "code",
   "execution_count": null,
   "metadata": {},
   "outputs": [],
   "source": [
    "from clmm.support import mock_data as mock\n",
    "from clmm import Cosmology\n",
    "from clmm.redshift.distributions import *"
   ]
  },
  {
   "cell_type": "markdown",
   "metadata": {},
   "source": [
    "Mock data generation requires a defined cosmology"
   ]
  },
  {
   "cell_type": "code",
   "execution_count": null,
   "metadata": {},
   "outputs": [],
   "source": [
    "mock_cosmo = Cosmology(H0=70.0, Omega_dm0=0.27 - 0.045, Omega_b0=0.045, Omega_k0=0.0)"
   ]
  },
  {
   "cell_type": "markdown",
   "metadata": {},
   "source": [
    "Mock data generation requires some cluster information"
   ]
  },
  {
   "cell_type": "code",
   "execution_count": null,
   "metadata": {},
   "outputs": [],
   "source": [
    "cosmo = mock_cosmo\n",
    "\n",
    "# cluster properties from https://arxiv.org/pdf/1611.03866.pdf\n",
    "cluster_id = \"SPT-CL J0000−5748\"\n",
    "cluster_m = 4.56e14  # M500,c\n",
    "cluster_z = 0.702\n",
    "cluster_ra = 0.2499\n",
    "cluster_dec = -57.8064\n",
    "concentration = 5  # (arbitrary value, not from the paper)\n",
    "\n",
    "# source redshift distribution properties\n",
    "cluster_beta_s_mean = 0.466\n",
    "cluster_beta_s2_mean = 0.243\n",
    "ngal_density = (\n",
    "    26.0 * 100\n",
    ")  # density of source galaxies per arcmin^2 # (arbitrary value, not from the paper)\n",
    "model_z_distrib_dict = {\"func\": desc_srd, \"name\": \"desc_srd\"}\n",
    "delta_z_cut = 0.1\n",
    "zsrc_min = cluster_z + delta_z_cut\n",
    "zsrc_max = 3.0"
   ]
  },
  {
   "cell_type": "markdown",
   "metadata": {},
   "source": [
    "## 1 - Defining the different inputs for the source redshifts"
   ]
  },
  {
   "cell_type": "markdown",
   "metadata": {},
   "source": [
    "### Discrete redshifts"
   ]
  },
  {
   "cell_type": "markdown",
   "metadata": {},
   "source": [
    "#### Generate the mock source catalog\n",
    "\n",
    "The CLMM mock data generation will provide, among other things, a redshift value for each background galaxy that is draw from the redshift distribution given by `model_z_distrib_dict`."
   ]
  },
  {
   "cell_type": "code",
   "execution_count": null,
   "metadata": {},
   "outputs": [],
   "source": [
    "np.random.seed(0)\n",
    "source_catalog = mock.generate_galaxy_catalog(\n",
    "    cluster_m,\n",
    "    cluster_z,\n",
    "    concentration,\n",
    "    cosmo,\n",
    "    model_z_distrib_dict[\"name\"],\n",
    "    delta_so=500,\n",
    "    massdef=\"critical\",\n",
    "    zsrc_min=zsrc_min,\n",
    "    zsrc_max=zsrc_max,\n",
    "    ngal_density=ngal_density,\n",
    "    cluster_ra=cluster_ra,\n",
    "    cluster_dec=cluster_dec,\n",
    ")"
   ]
  },
  {
   "cell_type": "markdown",
   "metadata": {},
   "source": [
    "### Beta parameters\n",
    "From this udnerlying redshift distribution, one may directly compute the average $\\langle\\beta_s\\rangle$ and $\\langle\\beta_s^2\\rangle$ quantities"
   ]
  },
  {
   "cell_type": "code",
   "execution_count": null,
   "metadata": {},
   "outputs": [],
   "source": [
    "beta_label = lambda beta: rf\"\\langle\\beta_s\\rangle = {beta:.3f}\"\n",
    "beta_sq_label = lambda beta_sq: rf\"\\langle\\beta_s^2\\rangle = {beta_sq:.3f}\""
   ]
  },
  {
   "cell_type": "code",
   "execution_count": null,
   "metadata": {},
   "outputs": [],
   "source": [
    "z_inf = 1000\n",
    "\n",
    "beta_s_mean = clmm.utils.compute_beta_s_mean(\n",
    "    cluster_z,\n",
    "    z_inf,\n",
    "    cosmo,\n",
    "    zmax=zsrc_max,\n",
    "    delta_z_cut=delta_z_cut,\n",
    "    zmin=None,\n",
    "    z_distrib_func=model_z_distrib_dict[\"func\"],\n",
    ")\n",
    "beta_s_square_mean = clmm.utils.compute_beta_s_square_mean(\n",
    "    cluster_z,\n",
    "    z_inf,\n",
    "    cosmo,\n",
    "    zmax=zsrc_max,\n",
    "    delta_z_cut=delta_z_cut,\n",
    "    zmin=None,\n",
    "    z_distrib_func=model_z_distrib_dict[\"func\"],\n",
    ")\n",
    "\n",
    "display(Math(beta_label(beta_s_mean)))\n",
    "display(Math(beta_sq_label(beta_s_square_mean)))"
   ]
  },
  {
   "cell_type": "markdown",
   "metadata": {},
   "source": [
    "### Visualisation"
   ]
  },
  {
   "cell_type": "code",
   "execution_count": null,
   "metadata": {},
   "outputs": [],
   "source": [
    "z = np.linspace(0, zsrc_max, 1000)\n",
    "\n",
    "matplotlib.rcParams.update({\"figure.figsize\": (20, 6)})\n",
    "\n",
    "plt.hist(source_catalog[\"z\"], bins=50, alpha=0.3, density=True, label=\"mock source redshift\")\n",
    "plt.axvline(zsrc_min, color=\"red\", label=\"requested zmin\")\n",
    "plt.text(2.5, 0.6, f\"${beta_label(beta_s_mean)}$\\n${beta_sq_label(beta_s_square_mean)}$\")\n",
    "# here we multiply by a constant for visualisation purposes\n",
    "plt.plot(\n",
    "    z,\n",
    "    model_z_distrib_dict[\"func\"](z) * 25,\n",
    "    linestyle=\"dashed\",\n",
    "    label=\"redshift distribution fct (arbitrary normalisation)\",\n",
    ")\n",
    "plt.xlabel(\"$z_s$\")\n",
    "plt.ylabel(\"pdf\")\n",
    "plt.legend()"
   ]
  },
  {
   "cell_type": "markdown",
   "metadata": {},
   "source": [
    "Here we use a zmax=3 (different from default values) to highlight the importance of specifying the zmax when computing the modeling. "
   ]
  },
  {
   "cell_type": "markdown",
   "metadata": {},
   "source": [
    "## 2 - Compute models"
   ]
  },
  {
   "cell_type": "markdown",
   "metadata": {},
   "source": [
    "Here we are computing the models for the tangential shear, reduced shear, convergence, magnification and magnification bias."
   ]
  },
  {
   "cell_type": "markdown",
   "metadata": {},
   "source": [
    "### Profile from mock data"
   ]
  },
  {
   "cell_type": "markdown",
   "metadata": {},
   "source": [
    "First we compute the cluster profile based on the mock source catalog produced in the previous section."
   ]
  },
  {
   "cell_type": "code",
   "execution_count": null,
   "metadata": {},
   "outputs": [],
   "source": [
    "gc_object = clmm.GalaxyCluster(cluster_id, cluster_ra, cluster_dec, cluster_z, source_catalog)"
   ]
  },
  {
   "cell_type": "code",
   "execution_count": null,
   "metadata": {},
   "outputs": [],
   "source": [
    "gc_object.compute_tangential_and_cross_components()"
   ]
  },
  {
   "cell_type": "code",
   "execution_count": null,
   "metadata": {},
   "outputs": [],
   "source": [
    "gc_object.make_radial_profile(\"Mpc\", bins=10, cosmo=cosmo)\n",
    "pass"
   ]
  },
  {
   "cell_type": "markdown",
   "metadata": {},
   "source": [
    "### Different ways of modeling the reduced shear"
   ]
  },
  {
   "cell_type": "code",
   "execution_count": null,
   "metadata": {},
   "outputs": [],
   "source": [
    "# define radius\n",
    "rr = np.logspace(np.log10(0.2), np.log10(5), 10)"
   ]
  },
  {
   "cell_type": "markdown",
   "metadata": {},
   "source": [
    "#### **Case 1 : Discrete redshift and exact formula**"
   ]
  },
  {
   "cell_type": "markdown",
   "metadata": {},
   "source": [
    "In case we know the discrete source redshift, we can compute the reduced shear for each source galaxy and take the average at a given radius.\n",
    "\n",
    "This may take a bit of time, depending on the size of source redshift catalog and number of radius points."
   ]
  },
  {
   "cell_type": "code",
   "execution_count": null,
   "metadata": {},
   "outputs": [],
   "source": [
    "%%time\n",
    "# in case we know the discrete source redshift, we can compute the reduced shear for each source galaxy\n",
    "# and take the average at a given radius.\n",
    "gt_discrete = np.array(\n",
    "    [\n",
    "        np.mean(\n",
    "            clmm.theory.compute_reduced_tangential_shear(\n",
    "                _r,\n",
    "                cluster_m,\n",
    "                concentration,\n",
    "                cluster_z,\n",
    "                source_catalog[\"z\"],\n",
    "                cosmo,\n",
    "                delta_mdef=500,\n",
    "                massdef=\"critical\",\n",
    "                z_src_info=\"discrete\",\n",
    "                approx=None,\n",
    "            )\n",
    "        )\n",
    "        for _r in rr\n",
    "    ]\n",
    ")"
   ]
  },
  {
   "cell_type": "markdown",
   "metadata": {},
   "source": [
    "#### Case 2 : Redshift distribution and exact formula"
   ]
  },
  {
   "cell_type": "markdown",
   "metadata": {},
   "source": [
    "If we don't know the exact source redshift but we know the source mean redshift distribution function, we can give it as input.\n",
    "\n",
    "In this case, we are integrating over the distribution function so it may be quite slow."
   ]
  },
  {
   "cell_type": "code",
   "execution_count": null,
   "metadata": {},
   "outputs": [],
   "source": [
    "%%time\n",
    "gt_distribution_no_approx = clmm.theory.compute_reduced_tangential_shear(\n",
    "    rr,\n",
    "    cluster_m,\n",
    "    concentration,\n",
    "    cluster_z,\n",
    "    model_z_distrib_dict[\"func\"],\n",
    "    cosmo,\n",
    "    delta_mdef=500,\n",
    "    massdef=\"critical\",\n",
    "    z_src_info=\"distribution\",\n",
    "    beta_kwargs={\"zmax\": zsrc_max},\n",
    "    approx=None,\n",
    ")"
   ]
  },
  {
   "cell_type": "markdown",
   "metadata": {},
   "source": [
    "#### Cases 3 : Redshift distribution and approximation"
   ]
  },
  {
   "cell_type": "markdown",
   "metadata": {},
   "source": [
    "If we want a faster approach we can use an approximation for the reduced shear, using 1 or 2 order of Taylor expansion for the expression of the reduced shear."
   ]
  },
  {
   "cell_type": "code",
   "execution_count": null,
   "metadata": {},
   "outputs": [],
   "source": [
    "%%time\n",
    "gt_distribution_order1 = clmm.theory.compute_reduced_tangential_shear(\n",
    "    rr,\n",
    "    cluster_m,\n",
    "    concentration,\n",
    "    cluster_z,\n",
    "    model_z_distrib_dict[\"func\"],\n",
    "    cosmo,\n",
    "    delta_mdef=500,\n",
    "    massdef=\"critical\",\n",
    "    z_src_info=\"distribution\",\n",
    "    beta_kwargs={\"zmax\": zsrc_max},\n",
    "    approx=\"order1\",\n",
    ")"
   ]
  },
  {
   "cell_type": "code",
   "execution_count": null,
   "metadata": {},
   "outputs": [],
   "source": [
    "%%time\n",
    "gt_distribution_order2 = clmm.theory.compute_reduced_tangential_shear(\n",
    "    rr,\n",
    "    cluster_m,\n",
    "    concentration,\n",
    "    cluster_z,\n",
    "    model_z_distrib_dict[\"func\"],\n",
    "    cosmo,\n",
    "    delta_mdef=500,\n",
    "    massdef=\"critical\",\n",
    "    z_src_info=\"distribution\",\n",
    "    beta_kwargs={\"zmax\": zsrc_max},\n",
    "    approx=\"order2\",\n",
    ")"
   ]
  },
  {
   "cell_type": "markdown",
   "metadata": {},
   "source": [
    "#### Cases 4 : Mean lensing efficiencies and approximation"
   ]
  },
  {
   "cell_type": "markdown",
   "metadata": {},
   "source": [
    "Finally, we can also model the reduced shear if the only information we have about the source redshift distribution is through the mean lensing efficiency parameters $\\langle\\beta_s\\rangle$ and $\\langle\\beta_s^2\\rangle$. \\\n",
    "In this case, we need to use an approximation for the formula. This is the fastest approach."
   ]
  },
  {
   "cell_type": "code",
   "execution_count": null,
   "metadata": {},
   "outputs": [],
   "source": [
    "%%time\n",
    "gt_beta_1 = clmm.theory.compute_reduced_tangential_shear(\n",
    "    rr,\n",
    "    cluster_m,\n",
    "    concentration,\n",
    "    cluster_z,\n",
    "    [beta_s_mean, beta_s_square_mean],\n",
    "    cosmo,\n",
    "    delta_mdef=500,\n",
    "    massdef=\"critical\",\n",
    "    z_src_info=\"beta\",\n",
    "    beta_kwargs={\"zmax\": zsrc_max},\n",
    "    approx=\"order1\",\n",
    ")"
   ]
  },
  {
   "cell_type": "code",
   "execution_count": null,
   "metadata": {},
   "outputs": [],
   "source": [
    "%%time\n",
    "gt_beta_2 = clmm.theory.compute_reduced_tangential_shear(\n",
    "    rr,\n",
    "    cluster_m,\n",
    "    concentration,\n",
    "    cluster_z,\n",
    "    [beta_s_mean, beta_s_square_mean],\n",
    "    cosmo,\n",
    "    delta_mdef=500,\n",
    "    massdef=\"critical\",\n",
    "    z_src_info=\"beta\",\n",
    "    beta_kwargs={\"zmax\": zsrc_max},\n",
    "    approx=\"order2\",\n",
    ")"
   ]
  },
  {
   "cell_type": "markdown",
   "metadata": {},
   "source": [
    "## 3 - Comparison of the four cases for the reduced tangnetial shear"
   ]
  },
  {
   "cell_type": "code",
   "execution_count": null,
   "metadata": {},
   "outputs": [],
   "source": [
    "def plot_cases(radius, base, others, ylabel=None, data=None):\n",
    "    matplotlib.rcParams.update({\"figure.figsize\": (8, 8)})\n",
    "    fig, axes = plt.subplots(2, sharex=True, height_ratios=[4, 1])\n",
    "\n",
    "    if data is not None:\n",
    "        axes[0].loglog(*data[:-1], **data[-1])\n",
    "\n",
    "    axes[0].loglog(radius, *base[:-1], **base[-1])\n",
    "    for case in others:\n",
    "        axes[0].loglog(radius, *case[:-1], **case[-1])\n",
    "        axes[1].plot(radius, 100 * (case[0] / base[0] - 1), *case[1:-1], **case[-1])\n",
    "\n",
    "    axes[0].legend(fontsize=12)\n",
    "    axes[0].set_ylabel(ylabel)\n",
    "    axes[1].set_ylabel(\"%\")\n",
    "    axes[1].set_xlabel(\"radius [Mpc]\")\n",
    "\n",
    "    plt.subplots_adjust(hspace=0)\n",
    "    for ax in axes:\n",
    "        ax.minorticks_on()\n",
    "        ax.grid(lw=0.5)\n",
    "        ax.grid(which=\"minor\", lw=0.2)"
   ]
  },
  {
   "cell_type": "code",
   "execution_count": null,
   "metadata": {},
   "outputs": [],
   "source": [
    "plot_cases(\n",
    "    rr,\n",
    "    base=(gt_discrete, \"k.-\", dict(label=\"discrete\")),\n",
    "    others=(\n",
    "        (gt_distribution_no_approx, \"r.-\", dict(label=\"distribution, no approx\")),\n",
    "        (gt_distribution_order1, \"ro-\", dict(label=\"distribution, order 1 approx\")),\n",
    "        (gt_distribution_order2, \"rd-\", dict(label=\"distribution, order 2 approx\")),\n",
    "        (gt_beta_1, \"b--\", dict(label=\"beta, order 1 approx\")),\n",
    "        (gt_beta_2, \"bx-\", dict(label=\"beta, order 2 approx\")),\n",
    "    ),\n",
    "    data=(gc_object.profile[\"radius\"], gc_object.profile[\"gt\"], \"gs-\", dict(label=\"data\", lw=0.5)),\n",
    "    ylabel=\"$g_t$\",\n",
    ")"
   ]
  },
  {
   "cell_type": "markdown",
   "metadata": {},
   "source": [
    "All modeled profiles give similar results. They do not correspond to the profile computed from the data in the inner part, because of different ways of constructing the profiles (taking the average radial point and reduced shear value in a bin or computing the average expected reduced shear at a given radius).\n",
    "\n",
    "The profiles computed using an approximation for the reduced shear formula are lower by a few percents, especially in the inner region. The profiles computed from a redshift distribution or a known source redshift differ at the subpercent level."
   ]
  },
  {
   "cell_type": "markdown",
   "metadata": {},
   "source": [
    "## 4- Modeling and plotting the other quantities"
   ]
  },
  {
   "cell_type": "markdown",
   "metadata": {},
   "source": [
    "Here we will just compute models for cases 1, 2 and 4. For the shear and convergence there is no need for an approximated formula. "
   ]
  },
  {
   "cell_type": "code",
   "execution_count": null,
   "metadata": {},
   "outputs": [],
   "source": [
    "gammat_discrete = np.array(\n",
    "    [\n",
    "        np.mean(\n",
    "            clmm.theory.compute_tangential_shear(\n",
    "                _r,\n",
    "                cluster_m,\n",
    "                concentration,\n",
    "                cluster_z,\n",
    "                source_catalog[\"z\"],\n",
    "                cosmo,\n",
    "                delta_mdef=500,\n",
    "                massdef=\"critical\",\n",
    "                z_src_info=\"discrete\",\n",
    "            )\n",
    "        )\n",
    "        for _r in rr\n",
    "    ]\n",
    ")\n",
    "\n",
    "gammat_distribution = clmm.theory.compute_tangential_shear(\n",
    "    rr,\n",
    "    cluster_m,\n",
    "    concentration,\n",
    "    cluster_z,\n",
    "    model_z_distrib_dict[\"func\"],\n",
    "    cosmo,\n",
    "    delta_mdef=500,\n",
    "    massdef=\"critical\",\n",
    "    z_src_info=\"distribution\",\n",
    "    beta_kwargs={\"zmax\": zsrc_max},\n",
    ")\n",
    "\n",
    "gammat_beta = clmm.theory.compute_tangential_shear(\n",
    "    rr,\n",
    "    cluster_m,\n",
    "    concentration,\n",
    "    cluster_z,\n",
    "    [beta_s_mean, beta_s_square_mean],\n",
    "    cosmo,\n",
    "    delta_mdef=500,\n",
    "    massdef=\"critical\",\n",
    "    z_src_info=\"beta\",\n",
    "    beta_kwargs={\"zmax\": zsrc_max},\n",
    ")"
   ]
  },
  {
   "cell_type": "code",
   "execution_count": null,
   "metadata": {},
   "outputs": [],
   "source": [
    "plot_cases(\n",
    "    rr,\n",
    "    base=(gammat_discrete, \"k.-\", dict(label=\"discrete\")),\n",
    "    others=(\n",
    "        (gammat_distribution, \"rx-\", dict(label=\"distribution, no approx\")),\n",
    "        (gammat_beta, \"b--\", dict(label=\"beta, no approx\")),\n",
    "    ),\n",
    "    ylabel=\"$\\gamma_t$\",\n",
    ")"
   ]
  },
  {
   "cell_type": "code",
   "execution_count": null,
   "metadata": {},
   "outputs": [],
   "source": [
    "kappa_discrete = np.array(\n",
    "    [\n",
    "        np.mean(\n",
    "            clmm.theory.compute_convergence(\n",
    "                _r,\n",
    "                cluster_m,\n",
    "                concentration,\n",
    "                cluster_z,\n",
    "                source_catalog[\"z\"],\n",
    "                cosmo,\n",
    "                delta_mdef=500,\n",
    "                massdef=\"critical\",\n",
    "                z_src_info=\"discrete\",\n",
    "            )\n",
    "        )\n",
    "        for _r in rr\n",
    "    ]\n",
    ")\n",
    "\n",
    "kappa_distribution = clmm.theory.compute_convergence(\n",
    "    rr,\n",
    "    cluster_m,\n",
    "    concentration,\n",
    "    cluster_z,\n",
    "    model_z_distrib_dict[\"func\"],\n",
    "    cosmo,\n",
    "    delta_mdef=500,\n",
    "    massdef=\"critical\",\n",
    "    z_src_info=\"distribution\",\n",
    "    beta_kwargs={\"zmax\": zsrc_max},\n",
    ")\n",
    "\n",
    "kappa_beta = clmm.theory.compute_convergence(\n",
    "    rr,\n",
    "    cluster_m,\n",
    "    concentration,\n",
    "    cluster_z,\n",
    "    [beta_s_mean, beta_s_square_mean],\n",
    "    cosmo,\n",
    "    delta_mdef=500,\n",
    "    massdef=\"critical\",\n",
    "    z_src_info=\"beta\",\n",
    "    beta_kwargs={\"zmax\": zsrc_max},\n",
    ")"
   ]
  },
  {
   "cell_type": "code",
   "execution_count": null,
   "metadata": {},
   "outputs": [],
   "source": [
    "plot_cases(\n",
    "    rr,\n",
    "    base=(kappa_discrete, \"k.-\", dict(label=\"discrete\")),\n",
    "    others=(\n",
    "        (kappa_distribution, \"rx-\", dict(label=\"distribution, no approx\")),\n",
    "        (kappa_beta, \"b--\", dict(label=\"beta, no approx\")),\n",
    "    ),\n",
    "    ylabel=\"$\\kappa_t$\",\n",
    ")"
   ]
  },
  {
   "cell_type": "code",
   "execution_count": null,
   "metadata": {},
   "outputs": [],
   "source": [
    "mu_discrete = np.array(\n",
    "    [\n",
    "        np.mean(\n",
    "            clmm.theory.compute_magnification(\n",
    "                _r,\n",
    "                cluster_m,\n",
    "                concentration,\n",
    "                cluster_z,\n",
    "                source_catalog[\"z\"],\n",
    "                cosmo,\n",
    "                delta_mdef=500,\n",
    "                massdef=\"critical\",\n",
    "                z_src_info=\"discrete\",\n",
    "            )\n",
    "        )\n",
    "        for _r in rr\n",
    "    ]\n",
    ")\n",
    "\n",
    "mu_distribution = clmm.theory.compute_magnification(\n",
    "    rr,\n",
    "    cluster_m,\n",
    "    concentration,\n",
    "    cluster_z,\n",
    "    model_z_distrib_dict[\"func\"],\n",
    "    cosmo,\n",
    "    delta_mdef=500,\n",
    "    massdef=\"critical\",\n",
    "    z_src_info=\"distribution\",\n",
    "    approx=None,\n",
    "    beta_kwargs={\"zmax\": zsrc_max},\n",
    ")\n",
    "\n",
    "mu_beta_1 = clmm.theory.compute_magnification(\n",
    "    rr,\n",
    "    cluster_m,\n",
    "    concentration,\n",
    "    cluster_z,\n",
    "    [beta_s_mean, beta_s_square_mean],\n",
    "    cosmo,\n",
    "    delta_mdef=500,\n",
    "    massdef=\"critical\",\n",
    "    z_src_info=\"beta\",\n",
    "    approx=\"order1\",\n",
    "    beta_kwargs={\"zmax\": zsrc_max},\n",
    ")\n",
    "\n",
    "mu_beta_2 = clmm.theory.compute_magnification(\n",
    "    rr,\n",
    "    cluster_m,\n",
    "    concentration,\n",
    "    cluster_z,\n",
    "    [beta_s_mean, beta_s_square_mean],\n",
    "    cosmo,\n",
    "    delta_mdef=500,\n",
    "    massdef=\"critical\",\n",
    "    z_src_info=\"beta\",\n",
    "    approx=\"order2\",\n",
    "    beta_kwargs={\"zmax\": zsrc_max},\n",
    ")"
   ]
  },
  {
   "cell_type": "code",
   "execution_count": null,
   "metadata": {},
   "outputs": [],
   "source": [
    "plot_cases(\n",
    "    rr,\n",
    "    base=(mu_discrete, \"k.-\", dict(label=\"discrete\")),\n",
    "    others=(\n",
    "        (mu_distribution, \"rs-\", dict(label=\"distribution, no approx\")),\n",
    "        (mu_beta_1, \"bx-\", dict(label=\"beta, order 1 approx\")),\n",
    "        (mu_beta_2, \"b--\", dict(label=\"beta, order 2 approx\")),\n",
    "    ),\n",
    "    ylabel=\"$\\mu_t$\",\n",
    ")"
   ]
  },
  {
   "cell_type": "code",
   "execution_count": null,
   "metadata": {},
   "outputs": [],
   "source": [
    "alpha = 2.7  # arbitrary value for the slope of the number density\n",
    "\n",
    "mu_bias_discrete = np.array(\n",
    "    [\n",
    "        np.mean(\n",
    "            clmm.theory.compute_magnification_bias(\n",
    "                _r,\n",
    "                alpha,\n",
    "                cluster_m,\n",
    "                concentration,\n",
    "                cluster_z,\n",
    "                source_catalog[\"z\"],\n",
    "                cosmo,\n",
    "                delta_mdef=500,\n",
    "                massdef=\"critical\",\n",
    "                z_src_info=\"discrete\",\n",
    "            )\n",
    "        )\n",
    "        for _r in rr\n",
    "    ]\n",
    ")\n",
    "\n",
    "mu_bias_distribution = clmm.theory.compute_magnification_bias(\n",
    "    rr,\n",
    "    alpha,\n",
    "    cluster_m,\n",
    "    concentration,\n",
    "    cluster_z,\n",
    "    model_z_distrib_dict[\"func\"],\n",
    "    cosmo,\n",
    "    delta_mdef=500,\n",
    "    massdef=\"critical\",\n",
    "    z_src_info=\"distribution\",\n",
    "    approx=None,\n",
    "    beta_kwargs={\"zmax\": zsrc_max},\n",
    ")\n",
    "\n",
    "mu_bias_beta_1 = clmm.theory.compute_magnification_bias(\n",
    "    rr,\n",
    "    alpha,\n",
    "    cluster_m,\n",
    "    concentration,\n",
    "    cluster_z,\n",
    "    [beta_s_mean, beta_s_square_mean],\n",
    "    cosmo,\n",
    "    delta_mdef=500,\n",
    "    massdef=\"critical\",\n",
    "    z_src_info=\"beta\",\n",
    "    approx=\"order1\",\n",
    "    beta_kwargs={\"zmax\": zsrc_max},\n",
    ")\n",
    "\n",
    "mu_bias_beta_2 = clmm.theory.compute_magnification_bias(\n",
    "    rr,\n",
    "    alpha,\n",
    "    cluster_m,\n",
    "    concentration,\n",
    "    cluster_z,\n",
    "    [beta_s_mean, beta_s_square_mean],\n",
    "    cosmo,\n",
    "    delta_mdef=500,\n",
    "    massdef=\"critical\",\n",
    "    z_src_info=\"beta\",\n",
    "    approx=\"order2\",\n",
    "    beta_kwargs={\"zmax\": zsrc_max},\n",
    ")"
   ]
  },
  {
   "cell_type": "code",
   "execution_count": null,
   "metadata": {},
   "outputs": [],
   "source": [
    "plot_cases(\n",
    "    rr,\n",
    "    base=(mu_bias_discrete, \"k.-\", dict(label=\"discrete\")),\n",
    "    others=(\n",
    "        (mu_bias_distribution, \"rs-\", dict(label=\"distribution, no approx\")),\n",
    "        (mu_bias_beta_1, \"bx-\", dict(label=\"beta, order 1 approx\")),\n",
    "        (mu_bias_beta_2, \"b--\", dict(label=\"beta, order 2 approx\")),\n",
    "    ),\n",
    "    ylabel=\"$\\delta_{\\mu} + 1$\",\n",
    ")"
   ]
  },
  {
   "cell_type": "markdown",
   "metadata": {},
   "source": [
    "When making approximation, there may be large differences (~few 10% level) in the inner regions (compare to when using the exact redshift of the sources), especially for magnification and magnification bias. However, these approaches are very fast to compute. The user as to chose the appropriate method depending on the use case."
   ]
  }
 ],
 "metadata": {
  "anaconda-cloud": {},
  "kernelspec": {
   "display_name": "Python 3 (ipykernel)",
   "language": "python",
   "name": "python3"
  },
  "language_info": {
   "codemirror_mode": {
    "name": "ipython",
    "version": 3
   },
   "file_extension": ".py",
   "mimetype": "text/x-python",
   "name": "python",
   "nbconvert_exporter": "python",
   "pygments_lexer": "ipython3",
   "version": "3.10.6"
  }
 },
 "nbformat": 4,
 "nbformat_minor": 4
}
