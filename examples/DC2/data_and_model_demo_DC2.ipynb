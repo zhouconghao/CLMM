{
 "cells": [
  {
   "cell_type": "markdown",
   "metadata": {},
   "source": [
    "# Using the cosmoDC2 catalog\n",
    "## Basic usage of the cosmoDC2 extragalactic catalog with CLMM\n",
    "\n",
    "This notebook can be run at NERSC or CC-IN2P3 where the DESC DC2 products are stored. You need to be a DESC member to be able to access those. "
   ]
  },
  {
   "cell_type": "code",
   "execution_count": null,
   "metadata": {},
   "outputs": [],
   "source": [
    "import matplotlib.pyplot as plt\n",
    "import numpy as np\n",
    "from astropy.table import Table\n",
    "import GCRCatalogs\n",
    "\n",
    "import clmm"
   ]
  },
  {
   "cell_type": "markdown",
   "metadata": {},
   "source": [
    "Check what version we're using"
   ]
  },
  {
   "cell_type": "code",
   "execution_count": null,
   "metadata": {},
   "outputs": [],
   "source": [
    "clmm.__version__"
   ]
  },
  {
   "cell_type": "markdown",
   "metadata": {},
   "source": [
    "### 1. Prepare a CLMM GalaxyCluster object from cosmoDC2 "
   ]
  },
  {
   "cell_type": "markdown",
   "metadata": {},
   "source": [
    "#### Read in the extragalactic catalog cosmoDC2"
   ]
  },
  {
   "cell_type": "code",
   "execution_count": null,
   "metadata": {},
   "outputs": [],
   "source": [
    "extragalactic_cat = GCRCatalogs.load_catalog(\"cosmoDC2_v1.1.4_small\")"
   ]
  },
  {
   "cell_type": "code",
   "execution_count": null,
   "metadata": {},
   "outputs": [],
   "source": [
    "# Make a CLMM cosmology object from the DC2 cosmology\n",
    "dc2_cosmo = extragalactic_cat.cosmology\n",
    "cosmo = clmm.Cosmology(\n",
    "    H0=dc2_cosmo.H0.value, Omega_dm0=dc2_cosmo.Om0 - dc2_cosmo.Ob0, Omega_b0=dc2_cosmo.Ob0\n",
    ")\n",
    "cosmo"
   ]
  },
  {
   "cell_type": "markdown",
   "metadata": {},
   "source": [
    "#### Get the list of halos with `M > mmin` in the redshift range `[zmin, zmax]`"
   ]
  },
  {
   "cell_type": "code",
   "execution_count": null,
   "metadata": {},
   "outputs": [],
   "source": [
    "%%time\n",
    "# get list of massive halos in a given redshift and mass range\n",
    "mmin = 5.0e14  # Msun\n",
    "zmin = 0.3\n",
    "zmax = 0.4\n",
    "\n",
    "massive_halos = extragalactic_cat.get_quantities(\n",
    "    [\"halo_mass\", \"hostHaloMass\", \"redshift\", \"ra\", \"dec\", \"halo_id\"],\n",
    "    filters=[f\"halo_mass > {mmin}\", \"is_central==True\", f\"redshift>{zmin}\", f\"redshift<{zmax}\"],\n",
    ")\n",
    "N_cl = len(massive_halos[\"halo_mass\"])\n",
    "print(f\"There are {N_cl} clusters in this mass and redshift range\")"
   ]
  },
  {
   "cell_type": "markdown",
   "metadata": {},
   "source": [
    "#### Check the units of halo masses in the catalog\n",
    "We have filtered the catalog using the `halo_mass` field. There are two related fields in the catalog: `halo_mass` and `hostHaloMass`. In the [cosmoDC2 preprint](https://arxiv.org/abs/1907.06530), Table 2 in appendix B mentions the halo mass to be in units of  M$_{\\odot}\\; h^{-1}$. However, the [SCHEMA cosmoDC2](https://github.com/LSSTDESC/gcr-catalogs/blob/master/GCRCatalogs/SCHEMA.md) mentions M$_{\\odot}$ for `halo_mass`. Below, we see that `halo_mass` equals `hostHaloMass`/h. So`halo_mass` is indeed in units of M$_{\\odot}$, while `hostHaloMass` is in  M$_{\\odot}\\; h^{-1}$."
   ]
  },
  {
   "cell_type": "code",
   "execution_count": null,
   "metadata": {},
   "outputs": [],
   "source": [
    "print(f\"hostHaloMass:   {massive_halos['hostHaloMass']}\")\n",
    "print(f\"hostHaloMass/h: {massive_halos['hostHaloMass']/cosmo['h']}\")\n",
    "print(f\"halo_mass:      {massive_halos['halo_mass']}\")"
   ]
  },
  {
   "cell_type": "markdown",
   "metadata": {},
   "source": [
    "Below, we use `halo_mass`."
   ]
  },
  {
   "cell_type": "markdown",
   "metadata": {},
   "source": [
    "#### Select the most massive one"
   ]
  },
  {
   "cell_type": "code",
   "execution_count": null,
   "metadata": {},
   "outputs": [],
   "source": [
    "# Selecting the most massive one\n",
    "\n",
    "select = massive_halos[\"halo_mass\"] == np.max(massive_halos[\"halo_mass\"])\n",
    "\n",
    "ra_cl = massive_halos[\"ra\"][select][0]\n",
    "dec_cl = massive_halos[\"dec\"][select][0]\n",
    "z_cl = massive_halos[\"redshift\"][select][0]\n",
    "mass_cl = massive_halos[\"halo_mass\"][select][0]\n",
    "id_cl = massive_halos[\"halo_id\"][select][0]\n",
    "\n",
    "print(\n",
    "    f\"The most massive cluster is halo {id_cl} in ra = {ra_cl:.2f} deg, dec = {dec_cl:.2f} deg, z = {z_cl:.2f}, with mass = {mass_cl:.2e} Msun\"\n",
    ")"
   ]
  },
  {
   "cell_type": "markdown",
   "metadata": {},
   "source": [
    "#### Apply coordinates, redshift and magnitude cuts to select backgroud galaxies around the cluster\n",
    "\n",
    "- Box of 0.6 deg around the cluster center\n",
    "- Galaxies with z > z_cluster + 0.1\n",
    "- Galaxies with mag_i < 25 \n",
    "\n",
    "Here, we're directly gathering the shear components $\\gamma_{1,2}$ and the convergence $\\kappa$ from the cosmoDC2 catalog. See the `DC2_gt_profiles` notebook to see how to also use the intrinsic ellipticities of the galaxies to compute observed ellipticities including intrinsic and shear components."
   ]
  },
  {
   "cell_type": "code",
   "execution_count": null,
   "metadata": {},
   "outputs": [],
   "source": [
    "%%time\n",
    "ra_min, ra_max = ra_cl - 0.3, ra_cl + 0.3\n",
    "dec_min, dec_max = dec_cl - 0.3, dec_cl + 0.3\n",
    "z_min = z_cl + 0.1\n",
    "mag_i_max = 25\n",
    "\n",
    "coord_filters = [\n",
    "    \"ra >= {}\".format(ra_min),\n",
    "    \"ra < {}\".format(ra_max),\n",
    "    \"dec >= {}\".format(dec_min),\n",
    "    \"dec < {}\".format(dec_max),\n",
    "]\n",
    "z_filters = [\"redshift >= {}\".format(z_min)]\n",
    "mag_filters = [\"mag_i < {}\".format(mag_i_max)]\n",
    "\n",
    "gal_cat = extragalactic_cat.get_quantities(\n",
    "    [\"galaxy_id\", \"ra\", \"dec\", \"shear_1\", \"shear_2\", \"redshift\", \"convergence\"],\n",
    "    filters=(coord_filters + z_filters + mag_filters),\n",
    ")"
   ]
  },
  {
   "cell_type": "markdown",
   "metadata": {},
   "source": [
    "#### To compute a reduced tangential shear profile using CLMM, we first need to transform the shear into ellipticities. \n",
    "- The CLMM function `convert_shapes_to_epsilon` convert any shape measurements into the corresponding ellipticities ($\\epsilon$ definition).\n",
    "- Then, we build the astropy table of the galaxy catalog that will be used to instantiate a CLMM GalaxyCluster object."
   ]
  },
  {
   "cell_type": "code",
   "execution_count": null,
   "metadata": {},
   "outputs": [],
   "source": [
    "e1, e2 = clmm.utils.convert_shapes_to_epsilon(\n",
    "    gal_cat[\"shear_1\"], gal_cat[\"shear_2\"], shape_definition=\"shear\", kappa=gal_cat[\"convergence\"]\n",
    ")\n",
    "\n",
    "# store the results into an CLMM GCData (currently it's simply an astropy table)\n",
    "dat = clmm.GCData(\n",
    "    [gal_cat[\"ra\"], gal_cat[\"dec\"], e1, e2, gal_cat[\"redshift\"], gal_cat[\"galaxy_id\"]],\n",
    "    names=(\"ra\", \"dec\", \"e1\", \"e2\", \"z\", \"id\"),\n",
    ")\n",
    "cl = clmm.GalaxyCluster(str(id_cl), ra_cl, dec_cl, z_cl, dat)"
   ]
  },
  {
   "cell_type": "code",
   "execution_count": null,
   "metadata": {},
   "outputs": [],
   "source": [
    "# Quick check of the redshift distribution of the galaxies in the catalog\n",
    "\n",
    "print(f\"Number of galaxies in the catalog: Ngal = {len(cl.galcat)}\")\n",
    "plt.hist(cl.galcat[\"z\"], bins=30)\n",
    "plt.xlabel(\"z\")\n",
    "plt.ylabel(\"Count\")"
   ]
  },
  {
   "cell_type": "markdown",
   "metadata": {},
   "source": [
    "### 2. Use CLMM to compute the reduced tangential shear profile"
   ]
  },
  {
   "cell_type": "markdown",
   "metadata": {},
   "source": [
    "#### Compute the tangential and cross shear profiles\n",
    "\n",
    "NB: Check out the `demo_dataops` notebook to see examples of all available options of the functions below."
   ]
  },
  {
   "cell_type": "code",
   "execution_count": null,
   "metadata": {},
   "outputs": [],
   "source": [
    "bin_edges = clmm.dataops.make_bins(0.15, 10, 15, method=\"evenlog10width\")  # in Mpc\n",
    "cl.compute_tangential_and_cross_components(geometry=\"flat\")\n",
    "cl.make_radial_profile(\n",
    "    \"Mpc\", bins=bin_edges, cosmo=cosmo, add=True, include_empty_bins=False, gal_ids_in_bins=False\n",
    ")\n",
    "pass"
   ]
  },
  {
   "cell_type": "markdown",
   "metadata": {},
   "source": [
    "### 3. Sanity check: use CLMM to compute the corresponding NFW model, given the halo mass\n",
    "\n",
    "- The mass definition used in cosmoDC2 is the friend-of-friend mass with linking length b=0.168. In CLMM, the default mass definition is $M_{200,m}$: it uses an overdensity parameter $\\Delta=200$ with respect to the matter density. Here, we are directly using $M_{\\rm fof}$ in the modeling functions of CLMM, which is inconsistent. However, the goal here is to check that model and data are roughly in agreement. \n",
    "- The model should take into account the redshift distribution of the background galaxies. Here, we simply use the average redshift of the galaxy catalog as this is a quick sanity check that things behave as expected. \n",
    "- For the model, we use a concentration $c = 4$. \n",
    "- The error bars on the data computed by `make_radial_profile` simply corresponds to the standard error of the mean in the bin ($\\sigma_{\\rm bin}/\\sqrt{N_{\\rm gal\\_in\\_bin}}$)."
   ]
  },
  {
   "cell_type": "code",
   "execution_count": null,
   "metadata": {},
   "outputs": [],
   "source": [
    "concentration = 4.0\n",
    "reduced_shear = clmm.compute_reduced_tangential_shear(\n",
    "    cl.profile[\"radius\"],\n",
    "    mass_cl,\n",
    "    concentration,\n",
    "    z_cl,\n",
    "    cl.profile[\"z\"],\n",
    "    cosmo,\n",
    "    halo_profile_model=\"nfw\",\n",
    ")"
   ]
  },
  {
   "cell_type": "code",
   "execution_count": null,
   "metadata": {},
   "outputs": [],
   "source": [
    "plt.errorbar(\n",
    "    cl.profile[\"radius\"], cl.profile[\"gt\"], yerr=cl.profile[\"gt_err\"], label=\"measured profile\"\n",
    ")\n",
    "plt.plot(cl.profile[\"radius\"], reduced_shear, label=\"model shear\")\n",
    "plt.legend()\n",
    "plt.xscale(\"log\")\n",
    "plt.yscale(\"log\")\n",
    "plt.xlabel(\"R (Mpc)\")\n",
    "plt.ylabel(r\"Reduced shear $\\langle g_t\\rangle$\")"
   ]
  },
  {
   "cell_type": "markdown",
   "metadata": {},
   "source": [
    "Data and model are in rough agreement at large radii. In the inner region, the lack of resolution of the DC2 simulations yield an unphysical attenuation of the signal. This was remarked upon in the [cosmoDC2 paper](https://arxiv.org/abs/1907.06530) in the context of galaxy-galaxy lensing."
   ]
  }
 ],
 "metadata": {
  "kernelspec": {
   "display_name": "Python 3",
   "language": "python",
   "name": "python3"
  },
  "language_info": {
   "codemirror_mode": {
    "name": "ipython",
    "version": 3
   },
   "file_extension": ".py",
   "mimetype": "text/x-python",
   "name": "python",
   "nbconvert_exporter": "python",
   "pygments_lexer": "ipython3",
   "version": "3.9.1"
  }
 },
 "nbformat": 4,
 "nbformat_minor": 4
}
